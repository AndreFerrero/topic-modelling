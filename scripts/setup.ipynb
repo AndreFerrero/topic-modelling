{
 "cells": [
  {
   "cell_type": "code",
   "execution_count": 1,
   "metadata": {},
   "outputs": [],
   "source": [
    "import pandas as pd\n",
    "import glob\n",
    "import os\n",
    "import re"
   ]
  },
  {
   "cell_type": "markdown",
   "metadata": {},
   "source": [
    "We need all the filepaths for all the files in the folders"
   ]
  },
  {
   "cell_type": "code",
   "execution_count": 4,
   "metadata": {},
   "outputs": [],
   "source": [
    "path_fb = R'C:\\Users\\andre\\OneDrive - Alma Mater Studiorum Università di Bologna\\University\\UniBo\\Machine Learning\\PR1.20\\data\\20-Facebook conversations'\n",
    "filePathfb = []\n",
    "for file in os.listdir(path_fb):\n",
    "    filePathfb.append(os.path.join(path_fb, file))\n",
    "    \n",
    "path_n = R'C:\\Users\\andre\\OneDrive - Alma Mater Studiorum Università di Bologna\\University\\UniBo\\Machine Learning\\PR1.20\\data\\20news-bydate\\20news-bydate-train'\n",
    "filePathfolders = []\n",
    "for folder in os.listdir(path_n): \n",
    "    filePathfolders.append(os.path.join(path_n, folder))\n",
    "\n",
    "filePathnews = []\n",
    "for folder in filePathfolders:\n",
    "    for file in folder:\n",
    "        filePathnews.append(os.path.join(folder, file))\n",
    "    "
   ]
  },
  {
   "cell_type": "markdown",
   "metadata": {},
   "source": [
    "This joins in a unique pandas dataframe all the text files in the facebook conversations folder"
   ]
  },
  {
   "cell_type": "code",
   "execution_count": 5,
   "metadata": {},
   "outputs": [],
   "source": [
    "df_list = []\n",
    "for path in filePathfb:\n",
    "    df_list.append(pd.read_csv(path, sep = '\\t', header=None))\n",
    "    fb_data = pd.concat(df_list)"
   ]
  },
  {
   "cell_type": "code",
   "execution_count": 7,
   "metadata": {},
   "outputs": [
    {
     "data": {
      "text/plain": [
       "'diorum Università di Bologna\\\\University\\\\UniBo\\\\Machine Learning\\\\PR1.20\\\\data\\\\20news-bydate\\\\20news-bydate-train\\\\alt.atheism\\\\C'"
      ]
     },
     "execution_count": 7,
     "metadata": {},
     "output_type": "execute_result"
    }
   ],
   "source": [
    "filePathnews[0][40:]"
   ]
  },
  {
   "cell_type": "code",
   "execution_count": null,
   "metadata": {},
   "outputs": [],
   "source": []
  }
 ],
 "metadata": {
  "kernelspec": {
   "display_name": "Python 3",
   "language": "python",
   "name": "python3"
  },
  "language_info": {
   "codemirror_mode": {
    "name": "ipython",
    "version": 3
   },
   "file_extension": ".py",
   "mimetype": "text/x-python",
   "name": "python",
   "nbconvert_exporter": "python",
   "pygments_lexer": "ipython3",
   "version": "3.11.6"
  }
 },
 "nbformat": 4,
 "nbformat_minor": 2
}
