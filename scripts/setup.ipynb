{
 "cells": [
  {
   "cell_type": "code",
   "execution_count": 2,
   "metadata": {},
   "outputs": [],
   "source": [
    "import pandas as pd\n",
    "import glob\n",
    "import os\n",
    "import re"
   ]
  },
  {
   "cell_type": "markdown",
   "metadata": {},
   "source": [
    "We need all the filepaths for all the files in the folders"
   ]
  },
  {
   "cell_type": "code",
   "execution_count": 3,
   "metadata": {},
   "outputs": [],
   "source": [
    "path_fb = R'C:\\Users\\andre\\OneDrive - Alma Mater Studiorum Università di Bologna\\University\\UniBo\\Machine Learning\\PR1.20\\data\\20-Facebook conversations'\n",
    "# filePathfb = []\n",
    "# for file in os.listdir(path_fb):\n",
    "#     filePathfb.append(os.path.join(path_fb, file))\n",
    "\n",
    "\n",
    "path_news = R'C:\\Users\\andre\\OneDrive - Alma Mater Studiorum Università di Bologna\\University\\UniBo\\Machine Learning\\PR1.20\\data\\20news-bydate\\20news-bydate-train'\n",
    "filePathfolders = []\n",
    "for folder in os.listdir(path_news):\n",
    "    filePathfolders.append(os.path.join(path_news, folder))\n",
    "\n",
    "# filePathnews = []\n",
    "# for folder in filePathfolders:\n",
    "#     for file in os.listdir(folder):\n",
    "#         filePathnews.append(os.path.join(folder, file))\n"
   ]
  },
  {
   "cell_type": "code",
   "execution_count": 30,
   "metadata": {},
   "outputs": [
    {
     "data": {
      "text/plain": [
       "('49960.txt',\n",
       " 'C:\\\\Users\\\\andre\\\\OneDrive - Alma Mater Studiorum Università di Bologna\\\\University\\\\UniBo\\\\Machine Learning\\\\PR1.20\\\\data\\\\20news-bydate\\\\20news-bydate-train\\\\alt.atheism\\\\49960.txt')"
      ]
     },
     "execution_count": 30,
     "metadata": {},
     "output_type": "execute_result"
    }
   ],
   "source": [
    "file_list_fb = [file for file in os.listdir(path_fb)]\n",
    "\n",
    "file_list_news = []\n",
    "file_path_news = []\n",
    "for folder in filePathfolders:\n",
    "    for file in os.listdir(folder):\n",
    "        file_list_news.append(file)\n",
    "        file_path_news.append(os.path.join(folder,file))\n",
    "\n",
    "name_path = list(zip(file_list_news, file_path_news))\n",
    "name_path[0]"
   ]
  },
  {
   "cell_type": "code",
   "execution_count": 31,
   "metadata": {},
   "outputs": [],
   "source": [
    "def read_text(name_path):\n",
    "    column_names = ['File_Name', 'Content']\n",
    "    df = pd.DataFrame(columns=column_names)\n",
    "    \n",
    "    # for file_name in file_list:\n",
    "    #     file_path = os.path.join(folder_path, file_name)\n",
    "    for i in name_path:\n",
    "                \n",
    "        with open(i[1], 'r', encoding=\"utf-8\") as file:\n",
    "            content = file.read()\n",
    "            df = df = pd.concat([df, pd.DataFrame({'File_Name': [i[0]], 'Content': [content]})], ignore_index=True)\n",
    "\n",
    "    return df"
   ]
  },
  {
   "cell_type": "code",
   "execution_count": 32,
   "metadata": {},
   "outputs": [
    {
     "ename": "UnicodeDecodeError",
     "evalue": "'utf-8' codec can't decode byte 0xff in position 11889: invalid start byte",
     "output_type": "error",
     "traceback": [
      "\u001b[1;31m---------------------------------------------------------------------------\u001b[0m",
      "\u001b[1;31mUnicodeDecodeError\u001b[0m                        Traceback (most recent call last)",
      "\u001b[1;32mc:\\Users\\andre\\OneDrive - Alma Mater Studiorum Università di Bologna\\University\\UniBo\\Machine Learning\\PR1.20\\scripts\\setup.ipynb Cell 6\u001b[0m line \u001b[0;36m2\n\u001b[0;32m      <a href='vscode-notebook-cell:/c%3A/Users/andre/OneDrive%20-%20Alma%20Mater%20Studiorum%20Universit%C3%A0%20di%20Bologna/University/UniBo/Machine%20Learning/PR1.20/scripts/setup.ipynb#X13sZmlsZQ%3D%3D?line=0'>1</a>\u001b[0m \u001b[39m# df_fb = read_text(file_list_fb, path_fb)\u001b[39;00m\n\u001b[1;32m----> <a href='vscode-notebook-cell:/c%3A/Users/andre/OneDrive%20-%20Alma%20Mater%20Studiorum%20Universit%C3%A0%20di%20Bologna/University/UniBo/Machine%20Learning/PR1.20/scripts/setup.ipynb#X13sZmlsZQ%3D%3D?line=1'>2</a>\u001b[0m df_news \u001b[39m=\u001b[39m read_text(name_path)\n",
      "\u001b[1;32mc:\\Users\\andre\\OneDrive - Alma Mater Studiorum Università di Bologna\\University\\UniBo\\Machine Learning\\PR1.20\\scripts\\setup.ipynb Cell 6\u001b[0m line \u001b[0;36m1\n\u001b[0;32m      <a href='vscode-notebook-cell:/c%3A/Users/andre/OneDrive%20-%20Alma%20Mater%20Studiorum%20Universit%C3%A0%20di%20Bologna/University/UniBo/Machine%20Learning/PR1.20/scripts/setup.ipynb#X13sZmlsZQ%3D%3D?line=6'>7</a>\u001b[0m \u001b[39mfor\u001b[39;00m i \u001b[39min\u001b[39;00m name_path:\n\u001b[0;32m      <a href='vscode-notebook-cell:/c%3A/Users/andre/OneDrive%20-%20Alma%20Mater%20Studiorum%20Universit%C3%A0%20di%20Bologna/University/UniBo/Machine%20Learning/PR1.20/scripts/setup.ipynb#X13sZmlsZQ%3D%3D?line=8'>9</a>\u001b[0m     \u001b[39mwith\u001b[39;00m \u001b[39mopen\u001b[39m(i[\u001b[39m1\u001b[39m], \u001b[39m'\u001b[39m\u001b[39mr\u001b[39m\u001b[39m'\u001b[39m, encoding\u001b[39m=\u001b[39m\u001b[39m\"\u001b[39m\u001b[39mutf-8\u001b[39m\u001b[39m\"\u001b[39m) \u001b[39mas\u001b[39;00m file:\n\u001b[1;32m---> <a href='vscode-notebook-cell:/c%3A/Users/andre/OneDrive%20-%20Alma%20Mater%20Studiorum%20Universit%C3%A0%20di%20Bologna/University/UniBo/Machine%20Learning/PR1.20/scripts/setup.ipynb#X13sZmlsZQ%3D%3D?line=9'>10</a>\u001b[0m         content \u001b[39m=\u001b[39m file\u001b[39m.\u001b[39;49mread()\n\u001b[0;32m     <a href='vscode-notebook-cell:/c%3A/Users/andre/OneDrive%20-%20Alma%20Mater%20Studiorum%20Universit%C3%A0%20di%20Bologna/University/UniBo/Machine%20Learning/PR1.20/scripts/setup.ipynb#X13sZmlsZQ%3D%3D?line=10'>11</a>\u001b[0m         df \u001b[39m=\u001b[39m df \u001b[39m=\u001b[39m pd\u001b[39m.\u001b[39mconcat([df, pd\u001b[39m.\u001b[39mDataFrame({\u001b[39m'\u001b[39m\u001b[39mFile_Name\u001b[39m\u001b[39m'\u001b[39m: [i[\u001b[39m0\u001b[39m]], \u001b[39m'\u001b[39m\u001b[39mContent\u001b[39m\u001b[39m'\u001b[39m: [content]})], ignore_index\u001b[39m=\u001b[39m\u001b[39mTrue\u001b[39;00m)\n\u001b[0;32m     <a href='vscode-notebook-cell:/c%3A/Users/andre/OneDrive%20-%20Alma%20Mater%20Studiorum%20Universit%C3%A0%20di%20Bologna/University/UniBo/Machine%20Learning/PR1.20/scripts/setup.ipynb#X13sZmlsZQ%3D%3D?line=12'>13</a>\u001b[0m \u001b[39mreturn\u001b[39;00m df\n",
      "File \u001b[1;32m<frozen codecs>:322\u001b[0m, in \u001b[0;36mdecode\u001b[1;34m(self, input, final)\u001b[0m\n",
      "\u001b[1;31mUnicodeDecodeError\u001b[0m: 'utf-8' codec can't decode byte 0xff in position 11889: invalid start byte"
     ]
    }
   ],
   "source": [
    "# df_fb = read_text(file_list_fb, path_fb)\n",
    "df_news = read_text(name_path)"
   ]
  },
  {
   "cell_type": "code",
   "execution_count": 27,
   "metadata": {},
   "outputs": [
    {
     "data": {
      "text/plain": [
       "'49960.txt'"
      ]
     },
     "execution_count": 27,
     "metadata": {},
     "output_type": "execute_result"
    }
   ],
   "source": [
    "file_list_news[0]"
   ]
  },
  {
   "cell_type": "code",
   "execution_count": null,
   "metadata": {},
   "outputs": [],
   "source": [
    "def read_text_news(file_list, folder_path):\n",
    "    column_names = ['File_Name', 'Content']\n",
    "    df = pd.DataFrame(columns=column_names)\n",
    "    \n",
    "    folder_path = \n",
    "    for file_name in file_list:\n",
    "        file_path = os.path.join(folder_path, file_name)\n",
    "        \n",
    "        with open(file_path, 'r', encoding=\"utf-8\") as file:\n",
    "            content = file.read()\n",
    "            df = df = pd.concat([df, pd.DataFrame({'File_Name': [file_name], 'Content': [content]})], ignore_index=True)\n",
    "        \n",
    "            \n",
    "    \n",
    "    return df"
   ]
  }
 ],
 "metadata": {
  "kernelspec": {
   "display_name": "Python 3",
   "language": "python",
   "name": "python3"
  },
  "language_info": {
   "codemirror_mode": {
    "name": "ipython",
    "version": 3
   },
   "file_extension": ".py",
   "mimetype": "text/x-python",
   "name": "python",
   "nbconvert_exporter": "python",
   "pygments_lexer": "ipython3",
   "version": "3.11.6"
  }
 },
 "nbformat": 4,
 "nbformat_minor": 2
}
