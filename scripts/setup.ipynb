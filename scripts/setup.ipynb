{
 "cells": [
  {
   "cell_type": "code",
   "execution_count": 2,
   "metadata": {},
   "outputs": [],
   "source": [
    "import pandas as pd\n",
    "import glob\n",
    "import os\n",
    "import re"
   ]
  },
  {
   "cell_type": "markdown",
   "metadata": {},
   "source": [
    "We need all the filepaths for all the files in the folders"
   ]
  },
  {
   "cell_type": "code",
   "execution_count": 3,
   "metadata": {},
   "outputs": [],
   "source": [
    "path_fb = R'C:\\Users\\andre\\OneDrive - Alma Mater Studiorum Università di Bologna\\University\\UniBo\\Machine Learning\\PR1.20\\data\\20-Facebook conversations'\n",
    "# filePathfb = []\n",
    "# for file in os.listdir(path_fb):\n",
    "#     filePathfb.append(os.path.join(path_fb, file))\n",
    "\n",
    "\n",
    "path_n = R'C:\\Users\\andre\\OneDrive - Alma Mater Studiorum Università di Bologna\\University\\UniBo\\Machine Learning\\PR1.20\\data\\20news-bydate\\20news-bydate-train'\n",
    "filePathfolders = []\n",
    "for folder in os.listdir(path_n):\n",
    "    filePathfolders.append(os.path.join(path_n, folder))\n",
    "\n",
    "# filePathnews = []\n",
    "# for folder in filePathfolders:\n",
    "#     for file in os.listdir(folder):\n",
    "#         filePathnews.append(os.path.join(folder, file))\n"
   ]
  },
  {
   "cell_type": "code",
   "execution_count": 12,
   "metadata": {},
   "outputs": [],
   "source": [
    "file_list_fb = [file for file in os.listdir(path_fb)]\n",
    "\n",
    "file_list_news = []\n",
    "for folder in filePathfolders:\n",
    "    for file in os.listdir(folder):\n",
    "        file_list_news.append(file)\n",
    "        \n",
    "all_files = [file_list_fb, file_list_news]"
   ]
  },
  {
   "cell_type": "markdown",
   "metadata": {},
   "source": [
    "This joins in a unique pandas dataframe all the text files in the facebook conversations folder"
   ]
  },
  {
   "cell_type": "code",
   "execution_count": 17,
   "metadata": {},
   "outputs": [],
   "source": [
    "column_names = ['File_Name', 'Content']\n",
    "df = pd.DataFrame(columns=column_names)\n",
    "\n",
    "for file_name in file_list_fb:\n",
    "    file_path = os.path.join(path_fb, file_name)\n",
    "    \n",
    "    with open(file_path, 'r', encoding=\"utf-8\") as file:\n",
    "        content = file.read()\n",
    "        df = df = pd.concat([df, pd.DataFrame({'File_Name': [file_name], 'Content': [content]})], ignore_index=True)"
   ]
  },
  {
   "cell_type": "code",
   "execution_count": 19,
   "metadata": {},
   "outputs": [
    {
     "data": {
      "text/html": [
       "<div>\n",
       "<style scoped>\n",
       "    .dataframe tbody tr th:only-of-type {\n",
       "        vertical-align: middle;\n",
       "    }\n",
       "\n",
       "    .dataframe tbody tr th {\n",
       "        vertical-align: top;\n",
       "    }\n",
       "\n",
       "    .dataframe thead th {\n",
       "        text-align: right;\n",
       "    }\n",
       "</style>\n",
       "<table border=\"1\" class=\"dataframe\">\n",
       "  <thead>\n",
       "    <tr style=\"text-align: right;\">\n",
       "      <th></th>\n",
       "      <th>File_Name</th>\n",
       "      <th>Content</th>\n",
       "    </tr>\n",
       "  </thead>\n",
       "  <tbody>\n",
       "    <tr>\n",
       "      <th>0</th>\n",
       "      <td>1.txt</td>\n",
       "      <td>Chat Conversation Start\\n\\nU1: Good girls are ...</td>\n",
       "    </tr>\n",
       "    <tr>\n",
       "      <th>1</th>\n",
       "      <td>11.txt</td>\n",
       "      <td>\\nChat Conversation Start\\n\\nU1: Hi, How are y...</td>\n",
       "    </tr>\n",
       "    <tr>\n",
       "      <th>2</th>\n",
       "      <td>12.txt</td>\n",
       "      <td>\\nChat Conversation Start\\n\\n\\nU1: Hello How a...</td>\n",
       "    </tr>\n",
       "    <tr>\n",
       "      <th>3</th>\n",
       "      <td>13.txt</td>\n",
       "      <td>\\n\\n\\n\\nChat Conversation Start\\n\\nU1:  I want...</td>\n",
       "    </tr>\n",
       "    <tr>\n",
       "      <th>4</th>\n",
       "      <td>14.txt</td>\n",
       "      <td>\\n\\n\\nChat Conversation Start\\n\\n \\nU1: Hi, I ...</td>\n",
       "    </tr>\n",
       "  </tbody>\n",
       "</table>\n",
       "</div>"
      ],
      "text/plain": [
       "  File_Name                                            Content\n",
       "0     1.txt  Chat Conversation Start\\n\\nU1: Good girls are ...\n",
       "1    11.txt  \\nChat Conversation Start\\n\\nU1: Hi, How are y...\n",
       "2    12.txt  \\nChat Conversation Start\\n\\n\\nU1: Hello How a...\n",
       "3    13.txt  \\n\\n\\n\\nChat Conversation Start\\n\\nU1:  I want...\n",
       "4    14.txt  \\n\\n\\nChat Conversation Start\\n\\n \\nU1: Hi, I ..."
      ]
     },
     "execution_count": 19,
     "metadata": {},
     "output_type": "execute_result"
    }
   ],
   "source": [
    "df.head()"
   ]
  },
  {
   "cell_type": "code",
   "execution_count": null,
   "metadata": {},
   "outputs": [],
   "source": []
  }
 ],
 "metadata": {
  "kernelspec": {
   "display_name": "Python 3",
   "language": "python",
   "name": "python3"
  },
  "language_info": {
   "codemirror_mode": {
    "name": "ipython",
    "version": 3
   },
   "file_extension": ".py",
   "mimetype": "text/x-python",
   "name": "python",
   "nbconvert_exporter": "python",
   "pygments_lexer": "ipython3",
   "version": "3.11.6"
  }
 },
 "nbformat": 4,
 "nbformat_minor": 2
}
