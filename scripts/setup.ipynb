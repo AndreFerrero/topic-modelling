{
 "cells": [
  {
   "cell_type": "code",
   "execution_count": 2,
   "metadata": {},
   "outputs": [],
   "source": [
    "import pandas as pd\n",
    "import glob\n",
    "import os\n",
    "import re\n",
    "import nltk\n",
    "import numpy as np\n",
    "import spacy\n",
    "import pyLDAvis\n",
    "import seaborn as sns\n",
    "import matplotlib.pyplot as plt\n",
    "from sklearn.feature_extraction.text import CountVectorizer"
   ]
  },
  {
   "cell_type": "code",
   "execution_count": 3,
   "metadata": {},
   "outputs": [],
   "source": [
    "def import_data(path):\n",
    "    \n",
    "    folders_path_list = []\n",
    "\n",
    "    for folder in os.listdir(path):\n",
    "        folders_path_list.append(os.path.join(path, folder))\n",
    "        \n",
    "    column_names = ['File_Name', 'Content']\n",
    "    df = pd.DataFrame(columns=column_names)\n",
    "\n",
    "    for folder_path in folders_path_list:\n",
    "        for file_name in os.listdir(folder_path):\n",
    "            file_path = os.path.join(folder_path, file_name)\n",
    "            \n",
    "            with open(file_path, 'r', encoding='latin-1') as file:\n",
    "                content = file.read()\n",
    "                df = pd.concat([df, pd.DataFrame({'File_Name': [file_name], 'Content': [content]})], ignore_index=True)\n",
    "                \n",
    "    df['Content'] = df['Content'].astype(\"string\")\n",
    "    \n",
    "    return df"
   ]
  },
  {
   "cell_type": "code",
   "execution_count": 4,
   "metadata": {},
   "outputs": [],
   "source": [
    "path = R\"C:\\Users\\andre\\OneDrive - Alma Mater Studiorum Università di Bologna\\University\\UniBo\\Machine Learning\\PR1.20\\data\\data-train\"\n",
    "\n",
    "df = import_data(path)"
   ]
  },
  {
   "cell_type": "code",
   "execution_count": null,
   "metadata": {},
   "outputs": [],
   "source": []
  }
 ],
 "metadata": {
  "kernelspec": {
   "display_name": "Python 3",
   "language": "python",
   "name": "python3"
  },
  "language_info": {
   "codemirror_mode": {
    "name": "ipython",
    "version": 3
   },
   "file_extension": ".py",
   "mimetype": "text/x-python",
   "name": "python",
   "nbconvert_exporter": "python",
   "pygments_lexer": "ipython3",
   "version": "3.11.6"
  }
 },
 "nbformat": 4,
 "nbformat_minor": 2
}
