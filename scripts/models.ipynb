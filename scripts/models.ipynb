{
 "cells": [
  {
   "cell_type": "code",
   "execution_count": 18,
   "metadata": {},
   "outputs": [],
   "source": [
    "%%capture\n",
    "%run full_setup.py"
   ]
  },
  {
   "cell_type": "code",
   "execution_count": 19,
   "metadata": {},
   "outputs": [],
   "source": [
    "from tfidf_corpus_dictionary import get_tfidf_tokendocs_corpus_dict\n",
    "\n",
    "from gensim.models import LdaModel, LsiModel\n",
    "from sklearn.decomposition import NMF, PCA\n",
    "from sklearn.random_projection import GaussianRandomProjection, SparseRandomProjection"
   ]
  },
  {
   "cell_type": "markdown",
   "metadata": {},
   "source": [
    "With this function we get various objects needed for modelling:\n",
    "1. TFIDF matrix as input data, with specified parameters\n",
    "2. feature names as the words retained with TFIDF\n",
    "3. tokenized documents, a list of lists, where the inner lists contain the tokens for each document\n",
    "4. corpus, gensim object needed for modelling with that package\n",
    "4. dictionary, gensim object containing informations on the words of the corpus and their positions"
   ]
  },
  {
   "cell_type": "code",
   "execution_count": 20,
   "metadata": {},
   "outputs": [],
   "source": [
    "tfidf_matrix, feature_names, tokenized_docs, corpus, dictionary = get_tfidf_tokendocs_corpus_dict(df, max_df=0.5, min_df=5, max_features=5000)"
   ]
  },
  {
   "cell_type": "markdown",
   "metadata": {},
   "source": [
    "Now we'll evaluate different topic models based on Coherence score.\n",
    "\n",
    "Coherence is a metric used to evalute topics quality. The higher the coherence, the better the model did in creating the topics.\n",
    "\n",
    "For every model we'll use a function to retrieve for different numbers of topics the coherence (5, 10, 15, 20, 50). This information will be used to evaluate how the models performed as the number of topics changes"
   ]
  },
  {
   "cell_type": "code",
   "execution_count": 21,
   "metadata": {},
   "outputs": [],
   "source": [
    "from coherence_topics import coherence_topics"
   ]
  },
  {
   "cell_type": "code",
   "execution_count": 22,
   "metadata": {},
   "outputs": [
    {
     "name": "stderr",
     "output_type": "stream",
     "text": [
      "c:\\Users\\andre\\AppData\\Local\\Programs\\Python\\Python311\\Lib\\site-packages\\gensim\\models\\lsimodel.py:963: DeprecationWarning: Please use `csc_matvecs` from the `scipy.sparse` namespace, the `scipy.sparse.sparsetools` namespace is deprecated.\n",
      "  sparsetools.csc_matvecs(\n",
      "c:\\Users\\andre\\AppData\\Local\\Programs\\Python\\Python311\\Lib\\site-packages\\scipy\\linalg\\_special_matrices.py:154: DeprecationWarning: 'tri'/'tril/'triu' are deprecated as of SciPy 1.11.0 and will be removed in v1.13.0. Please use numpy.(tri/tril/triu) instead.\n",
      "  out = (1 - tri(m.shape[0], m.shape[1], k - 1, m.dtype.char)) * m\n",
      "c:\\Users\\andre\\AppData\\Local\\Programs\\Python\\Python311\\Lib\\site-packages\\scipy\\linalg\\_special_matrices.py:154: DeprecationWarning: 'tri'/'tril/'triu' are deprecated as of SciPy 1.11.0 and will be removed in v1.13.0. Please use numpy.(tri/tril/triu) instead.\n",
      "  out = (1 - tri(m.shape[0], m.shape[1], k - 1, m.dtype.char)) * m\n",
      "c:\\Users\\andre\\AppData\\Local\\Programs\\Python\\Python311\\Lib\\site-packages\\scipy\\linalg\\_special_matrices.py:154: DeprecationWarning: 'tri'/'tril/'triu' are deprecated as of SciPy 1.11.0 and will be removed in v1.13.0. Please use numpy.(tri/tril/triu) instead.\n",
      "  out = (1 - tri(m.shape[0], m.shape[1], k - 1, m.dtype.char)) * m\n",
      "c:\\Users\\andre\\AppData\\Local\\Programs\\Python\\Python311\\Lib\\site-packages\\gensim\\models\\lsimodel.py:963: DeprecationWarning: Please use `csc_matvecs` from the `scipy.sparse` namespace, the `scipy.sparse.sparsetools` namespace is deprecated.\n",
      "  sparsetools.csc_matvecs(\n",
      "c:\\Users\\andre\\AppData\\Local\\Programs\\Python\\Python311\\Lib\\site-packages\\scipy\\linalg\\_special_matrices.py:154: DeprecationWarning: 'tri'/'tril/'triu' are deprecated as of SciPy 1.11.0 and will be removed in v1.13.0. Please use numpy.(tri/tril/triu) instead.\n",
      "  out = (1 - tri(m.shape[0], m.shape[1], k - 1, m.dtype.char)) * m\n",
      "c:\\Users\\andre\\AppData\\Local\\Programs\\Python\\Python311\\Lib\\site-packages\\scipy\\linalg\\_special_matrices.py:154: DeprecationWarning: 'tri'/'tril/'triu' are deprecated as of SciPy 1.11.0 and will be removed in v1.13.0. Please use numpy.(tri/tril/triu) instead.\n",
      "  out = (1 - tri(m.shape[0], m.shape[1], k - 1, m.dtype.char)) * m\n",
      "c:\\Users\\andre\\AppData\\Local\\Programs\\Python\\Python311\\Lib\\site-packages\\scipy\\linalg\\_special_matrices.py:154: DeprecationWarning: 'tri'/'tril/'triu' are deprecated as of SciPy 1.11.0 and will be removed in v1.13.0. Please use numpy.(tri/tril/triu) instead.\n",
      "  out = (1 - tri(m.shape[0], m.shape[1], k - 1, m.dtype.char)) * m\n",
      "c:\\Users\\andre\\AppData\\Local\\Programs\\Python\\Python311\\Lib\\site-packages\\gensim\\models\\lsimodel.py:963: DeprecationWarning: Please use `csc_matvecs` from the `scipy.sparse` namespace, the `scipy.sparse.sparsetools` namespace is deprecated.\n",
      "  sparsetools.csc_matvecs(\n",
      "c:\\Users\\andre\\AppData\\Local\\Programs\\Python\\Python311\\Lib\\site-packages\\scipy\\linalg\\_special_matrices.py:154: DeprecationWarning: 'tri'/'tril/'triu' are deprecated as of SciPy 1.11.0 and will be removed in v1.13.0. Please use numpy.(tri/tril/triu) instead.\n",
      "  out = (1 - tri(m.shape[0], m.shape[1], k - 1, m.dtype.char)) * m\n",
      "c:\\Users\\andre\\AppData\\Local\\Programs\\Python\\Python311\\Lib\\site-packages\\scipy\\linalg\\_special_matrices.py:154: DeprecationWarning: 'tri'/'tril/'triu' are deprecated as of SciPy 1.11.0 and will be removed in v1.13.0. Please use numpy.(tri/tril/triu) instead.\n",
      "  out = (1 - tri(m.shape[0], m.shape[1], k - 1, m.dtype.char)) * m\n",
      "c:\\Users\\andre\\AppData\\Local\\Programs\\Python\\Python311\\Lib\\site-packages\\scipy\\linalg\\_special_matrices.py:154: DeprecationWarning: 'tri'/'tril/'triu' are deprecated as of SciPy 1.11.0 and will be removed in v1.13.0. Please use numpy.(tri/tril/triu) instead.\n",
      "  out = (1 - tri(m.shape[0], m.shape[1], k - 1, m.dtype.char)) * m\n",
      "c:\\Users\\andre\\AppData\\Local\\Programs\\Python\\Python311\\Lib\\site-packages\\gensim\\models\\lsimodel.py:963: DeprecationWarning: Please use `csc_matvecs` from the `scipy.sparse` namespace, the `scipy.sparse.sparsetools` namespace is deprecated.\n",
      "  sparsetools.csc_matvecs(\n",
      "c:\\Users\\andre\\AppData\\Local\\Programs\\Python\\Python311\\Lib\\site-packages\\scipy\\linalg\\_special_matrices.py:154: DeprecationWarning: 'tri'/'tril/'triu' are deprecated as of SciPy 1.11.0 and will be removed in v1.13.0. Please use numpy.(tri/tril/triu) instead.\n",
      "  out = (1 - tri(m.shape[0], m.shape[1], k - 1, m.dtype.char)) * m\n",
      "c:\\Users\\andre\\AppData\\Local\\Programs\\Python\\Python311\\Lib\\site-packages\\scipy\\linalg\\_special_matrices.py:154: DeprecationWarning: 'tri'/'tril/'triu' are deprecated as of SciPy 1.11.0 and will be removed in v1.13.0. Please use numpy.(tri/tril/triu) instead.\n",
      "  out = (1 - tri(m.shape[0], m.shape[1], k - 1, m.dtype.char)) * m\n",
      "c:\\Users\\andre\\AppData\\Local\\Programs\\Python\\Python311\\Lib\\site-packages\\scipy\\linalg\\_special_matrices.py:154: DeprecationWarning: 'tri'/'tril/'triu' are deprecated as of SciPy 1.11.0 and will be removed in v1.13.0. Please use numpy.(tri/tril/triu) instead.\n",
      "  out = (1 - tri(m.shape[0], m.shape[1], k - 1, m.dtype.char)) * m\n",
      "c:\\Users\\andre\\AppData\\Local\\Programs\\Python\\Python311\\Lib\\site-packages\\gensim\\models\\lsimodel.py:963: DeprecationWarning: Please use `csc_matvecs` from the `scipy.sparse` namespace, the `scipy.sparse.sparsetools` namespace is deprecated.\n",
      "  sparsetools.csc_matvecs(\n",
      "c:\\Users\\andre\\AppData\\Local\\Programs\\Python\\Python311\\Lib\\site-packages\\scipy\\linalg\\_special_matrices.py:154: DeprecationWarning: 'tri'/'tril/'triu' are deprecated as of SciPy 1.11.0 and will be removed in v1.13.0. Please use numpy.(tri/tril/triu) instead.\n",
      "  out = (1 - tri(m.shape[0], m.shape[1], k - 1, m.dtype.char)) * m\n",
      "c:\\Users\\andre\\AppData\\Local\\Programs\\Python\\Python311\\Lib\\site-packages\\scipy\\linalg\\_special_matrices.py:154: DeprecationWarning: 'tri'/'tril/'triu' are deprecated as of SciPy 1.11.0 and will be removed in v1.13.0. Please use numpy.(tri/tril/triu) instead.\n",
      "  out = (1 - tri(m.shape[0], m.shape[1], k - 1, m.dtype.char)) * m\n",
      "c:\\Users\\andre\\AppData\\Local\\Programs\\Python\\Python311\\Lib\\site-packages\\scipy\\linalg\\_special_matrices.py:154: DeprecationWarning: 'tri'/'tril/'triu' are deprecated as of SciPy 1.11.0 and will be removed in v1.13.0. Please use numpy.(tri/tril/triu) instead.\n",
      "  out = (1 - tri(m.shape[0], m.shape[1], k - 1, m.dtype.char)) * m\n"
     ]
    }
   ],
   "source": [
    "evaluation = dict()\n",
    "models = ['LDA', 'LSA', 'NMF']\n",
    "\n",
    "for mod in models:\n",
    "    metrics = coherence_topics(model_name=mod, corpus=corpus, dictionary=dictionary,\n",
    "                               texts=tokenized_docs, feature_names=feature_names, tfidf=tfidf_matrix)\n",
    "    evaluation[mod] = metrics"
   ]
  },
  {
   "cell_type": "code",
   "execution_count": 23,
   "metadata": {},
   "outputs": [
    {
     "data": {
      "text/plain": [
       "[(5, 0.545979304624336),\n",
       " (10, 0.5050314716993893),\n",
       " (15, 0.5285162980465483),\n",
       " (20, 0.5134451552900542),\n",
       " (50, 0.4630950783156206)]"
      ]
     },
     "execution_count": 23,
     "metadata": {},
     "output_type": "execute_result"
    }
   ],
   "source": [
    "evaluation['LDA']"
   ]
  },
  {
   "cell_type": "code",
   "execution_count": 24,
   "metadata": {},
   "outputs": [
    {
     "data": {
      "text/plain": [
       "[(5, 0.6304194600581545),\n",
       " (10, 0.4839449986875244),\n",
       " (15, 0.4017113657264382),\n",
       " (20, 0.41826946770145207),\n",
       " (50, 0.35332142182573034)]"
      ]
     },
     "execution_count": 24,
     "metadata": {},
     "output_type": "execute_result"
    }
   ],
   "source": [
    "evaluation['LSA']"
   ]
  },
  {
   "cell_type": "code",
   "execution_count": 25,
   "metadata": {},
   "outputs": [
    {
     "data": {
      "text/plain": [
       "[(5, 0.3597199653853072),\n",
       " (10, 0.35971996538530726),\n",
       " (15, 0.35971996538530715),\n",
       " (20, 0.35971996538530715),\n",
       " (50, 0.35971996538530715)]"
      ]
     },
     "execution_count": 25,
     "metadata": {},
     "output_type": "execute_result"
    }
   ],
   "source": [
    "evaluation['NMF']"
   ]
  },
  {
   "cell_type": "markdown",
   "metadata": {},
   "source": [
    "Now we'll fit the LDA model with the number of topics that yields the highest coherence"
   ]
  },
  {
   "cell_type": "code",
   "execution_count": 31,
   "metadata": {},
   "outputs": [],
   "source": [
    "lda_model = LdaModel(corpus=corpus, id2word=dictionary, num_topics=5,\n",
    "                     alpha='symmetric', eta='auto', passes=5, random_state=1)"
   ]
  },
  {
   "cell_type": "code",
   "execution_count": 33,
   "metadata": {},
   "outputs": [
    {
     "name": "stdout",
     "output_type": "stream",
     "text": [
      "Topic 0: car, drive, bike, sale, buy, speed, sell, price, distribution, game, motorcycle, usa, scsi, power, work\n",
      "Topic 1: window, file, email, system, key, program, chip, computer, help, phone, software, version, work, problem, card\n",
      "Topic 2: god, christian, jesus, bible, christ, religion, morality, christianity, church, faith, objective, believe, sin, truth, belief\n",
      "Topic 3: beast, anthony, walker, mask, amanda, duo, murphy, pt, intercon, hamburg, singapore, cs, alex, vesselin, stats\n",
      "Topic 4: government, state, year, israel, israeli, armenian, law, writes, kill, world, gun, child, case, david, post\n"
     ]
    }
   ],
   "source": [
    "for topic in lda_model.print_topics(num_words=15):\n",
    "    topic_index, words = topic\n",
    "    word_list = [word.split(\"*\")[1].strip().strip('\"') for word in words.split(\" + \")]\n",
    "    print(f\"Topic {topic_index}: {', '.join(word_list)}\")"
   ]
  },
  {
   "cell_type": "code",
   "execution_count": 27,
   "metadata": {},
   "outputs": [],
   "source": [
    "import pyLDAvis, pyLDAvis.gensim"
   ]
  },
  {
   "cell_type": "code",
   "execution_count": 34,
   "metadata": {},
   "outputs": [
    {
     "data": {
      "text/html": [
       "\n",
       "<link rel=\"stylesheet\" type=\"text/css\" href=\"https://cdn.jsdelivr.net/gh/bmabey/pyLDAvis@3.4.0/pyLDAvis/js/ldavis.v1.0.0.css\">\n",
       "\n",
       "\n",
       "<div id=\"ldavis_el1603222660516445446107932409\" style=\"background-color:white;\"></div>\n",
       "<script type=\"text/javascript\">\n",
       "\n",
       "var ldavis_el1603222660516445446107932409_data = {\"mdsDat\": {\"x\": [33.965091705322266, 6.5195441246032715, -48.94389724731445, -21.39969825744629, -7.730530738830566], \"y\": [-57.52187728881836, -2.5490739345550537, -29.41835594177246, -85.62026977539062, -44.08467483520508], \"topics\": [1, 2, 3, 4, 5], \"cluster\": [1, 1, 1, 1, 1], \"Freq\": [52.30470542870352, 22.617542019757458, 13.912783710853471, 7.948305984402189, 3.2166628562833623]}, \"tinfo\": {\"Term\": [\"god\", \"christian\", \"jesus\", \"bible\", \"car\", \"believe\", \"drive\", \"religion\", \"bike\", \"christ\", \"jew\", \"church\", \"window\", \"file\", \"morality\", \"faith\", \"christianity\", \"truth\", \"sale\", \"objective\", \"life\", \"beast\", \"sin\", \"word\", \"walker\", \"key\", \"serdar\", \"law\", \"belief\", \"anthony\", \"israel\", \"israeli\", \"government\", \"gun\", \"clinton\", \"arab\", \"president\", \"war\", \"drug\", \"country\", \"turkish\", \"weapon\", \"crime\", \"fbi\", \"palestinian\", \"attack\", \"police\", \"military\", \"clayton\", \"turkey\", \"kill\", \"nazi\", \"armenian\", \"soldier\", \"court\", \"cramer\", \"sexual\", \"fire\", \"freedom\", \"blood\", \"american\", \"policy\", \"land\", \"health\", \"child\", \"member\", \"mr\", \"study\", \"jewish\", \"force\", \"law\", \"year\", \"state\", \"tax\", \"writes\", \"case\", \"today\", \"happen\", \"start\", \"point\", \"david\", \"world\", \"opinion\", \"mean\", \"post\", \"believe\", \"back\", \"work\", \"usa\", \"jew\", \"distribution\", \"ftp\", \"directory\", \"printer\", \"font\", \"convex\", \"vga\", \"3d\", \"window\", \"windows\", \"graphic\", \"gif\", \"keyboard\", \"xterm\", \"xdisclaimer\", \"client\", \"screen\", \"x11r5\", \"postscript\", \"nyx\", \"icon\", \"diamond\", \"ho\", \"pointer\", \"galileo\", \"256\", \"server\", \"wordperfect\", \"radius\", \"joystick\", \"shuttle\", \"voltage\", \"file\", \"algorithm\", \"application\", \"user\", \"color\", \"monitor\", \"motif\", \"display\", \"software\", \"format\", \"image\", \"video\", \"key\", \"program\", \"version\", \"phone\", \"pc\", \"circuit\", \"chip\", \"email\", \"card\", \"advance\", \"fax\", \"system\", \"computer\", \"help\", \"internet\", \"data\", \"address\", \"information\", \"driver\", \"11\", \"problem\", \"work\", \"run\", \"space\", \"distribution\", \"available\", \"info\", \"bike\", \"honda\", \"amp\", \"audio\", \"ide\", \"motorcycle\", \"rider\", \"scsi\", \"tyre\", \"saturn\", \"cunixbcccolumbiaedu\", \"vat\", \"outlet\", \"xuseragent\", \"nuntius\", \"watt\", \"xxxdate\", \"helmet\", \"256k\", \"sony\", \"drain\", \"simms\", \"automotive\", \"proton\", \"amplifier\", \"yamaha\", \"rf\", \"fpu\", \"alomar\", \"ohm\", \"comet\", \"controller\", \"persian\", \"wire\", \"car\", \"sale\", \"drive\", \"speed\", \"cable\", \"bmw\", \"mile\", \"dod\", \"engine\", \"sell\", \"cd\", \"price\", \"buy\", \"ride\", \"battery\", \"game\", \"model\", \"score\", \"power\", \"distribution\", \"hard\", \"usa\", \"work\", \"offer\", \"run\", \"system\", \"old\", \"disk\", \"email\", \"morality\", \"christianity\", \"jesus\", \"msg\", \"bible\", \"atheist\", \"homosexuality\", \"sandvik\", \"sabbath\", \"christ\", \"danny\", \"islam\", \"fundamentalist\", \"scripture\", \"resurrection\", \"christian\", \"contradiction\", \"gospel\", \"commandment\", \"salvation\", \"covington\", \"ksand\", \"alink\", \"satan\", \"immoral\", \"hudson\", \"heterosexual\", \"prophet\", \"kendig\", \"odwyer\", \"god\", \"sin\", \"faith\", \"verse\", \"belief\", \"objective\", \"religion\", \"athens\", \"georgia\", \"kent\", \"church\", \"worship\", \"zionism\", \"truth\", \"moral\", \"serdar\", \"lord\", \"muslim\", \"heaven\", \"believe\", \"jew\", \"word\", \"life\", \"love\", \"anthony\", \"murphy\", \"duo\", \"cs\", \"intercon\", \"hamburg\", \"singapore\", \"vesselin\", \"halifax\", \"pt\", \"daryl\", \"lh\", \"den\", \"bailey\", \"beast\", \"alex\", \"ink\", \"wc\", \"gl\", \"snyder\", \"amanda\", \"null\", \"richmond\", \"gerard\", \"jamie\", \"stat\", \"singer\", \"deskjet\", \"bubblejet\", \"mask\", \"00\", \"walker\", \"stats\", \"pp\"], \"Freq\": [148.0, 106.0, 82.0, 55.0, 86.0, 94.0, 89.0, 50.0, 59.0, 45.0, 74.0, 50.0, 84.0, 81.0, 37.0, 37.0, 35.0, 43.0, 62.0, 36.0, 66.0, 23.0, 33.0, 61.0, 25.0, 92.0, 36.0, 80.0, 30.0, 20.0, 87.01564549215279, 75.91654896782616, 89.26440646310914, 61.54712481350861, 51.55114354174786, 47.02908095575498, 43.777495494489926, 45.63003562946147, 45.15692576329456, 47.379101036497396, 45.16215893925949, 33.601300102685144, 32.49709997408522, 27.015204747668673, 25.977400279335463, 34.90818500205698, 25.840454423951414, 26.239842599162024, 27.233009198799948, 24.70427954863965, 62.18137825855426, 24.48710274609512, 67.61248382880285, 24.028655332840277, 23.54424363549892, 24.303683877306874, 25.11473054976818, 37.02258760931965, 27.883899488007337, 22.851169957665576, 48.979035476678916, 34.7998698980998, 34.16825798071555, 30.86987321191346, 58.24952564459323, 34.53267656943455, 45.905506853229305, 40.50364305654169, 39.9300387540729, 39.79944628189965, 66.81790565767042, 87.16308887406538, 89.21525866913828, 42.43967708000213, 63.898209130556026, 58.102418948346376, 40.2727847617902, 47.122459270331724, 49.478826642701954, 55.06063022296522, 55.751550775183134, 61.61123641484543, 50.8769949236193, 53.106523245497236, 55.27330749176708, 54.43557951944964, 50.04970005032646, 54.4623356383426, 51.69576873993986, 48.947262325705196, 51.5342469092638, 28.97647500067297, 17.683074693690017, 24.983120381217176, 17.13814136652062, 16.226350121283318, 15.694778650819623, 15.403731385446498, 78.73176953944653, 15.38212306673303, 36.192017818794454, 13.662431079152936, 22.949348371638294, 12.14607692951461, 12.142016607440603, 13.978122468455554, 26.586553970289103, 11.615233405239481, 10.495321445991829, 11.960023769405822, 10.09161686899645, 10.389620963314881, 9.670505391104331, 12.262499789939453, 9.921015939463247, 10.111443067596424, 30.840617574335734, 9.225992689997277, 10.226549333988858, 8.833567684128695, 28.032801509774423, 15.600088129570004, 72.06238048173404, 28.79786037217254, 32.4630856081902, 37.75961488661292, 33.40728034450772, 36.78789479737758, 18.359818405531968, 29.347351900660964, 52.01785194712812, 20.23517674269266, 31.756546429760892, 29.956551193193864, 65.32889621146771, 63.64268525506671, 51.74319155928874, 52.502908554841376, 29.519585766273952, 23.613578598628877, 57.541450109239904, 67.01013197021449, 45.772814177196366, 33.51767293465443, 32.117704798782015, 66.24687050581284, 56.476642777767786, 52.50520203468486, 41.663149933389505, 39.139782886156304, 36.71065701067361, 40.90461203092256, 34.07158426481615, 40.58551277501864, 46.22665717130306, 48.24595114002044, 40.35787231876672, 38.629555516900595, 41.15743762790091, 34.002118427048885, 33.87348584203407, 58.04448122014687, 17.45871753038341, 17.292521372091144, 18.557854187458194, 14.981939580743312, 25.163555817207136, 13.82097123492849, 23.8828734321602, 17.399784823974326, 12.408785394709321, 12.016508417563543, 12.558536296254587, 13.346923496824338, 9.697238524325304, 9.697238524325304, 9.833656539551347, 9.45244036303062, 15.474975542551444, 8.875145402378603, 8.872034690407533, 8.663826506710356, 18.574633346823024, 7.978187886037343, 8.090141453499442, 7.4343097224756445, 7.227961774389389, 8.67776472972912, 9.053322251951665, 8.402155759656116, 6.806720956422522, 13.603584046154426, 17.752032184303832, 15.47565329852737, 17.14778232672674, 63.08099754666618, 46.734120451764376, 62.02376013993996, 31.420152309275156, 18.511139884458487, 15.670862498523153, 18.23750226659605, 21.673382316816937, 20.63172555807234, 31.115708305185624, 16.917742218884996, 30.72586704812951, 34.94875114602311, 16.118188076460683, 17.175212095090085, 26.183738878456758, 20.226442963398327, 17.322194479565667, 23.848744604321926, 29.039738434013067, 20.48242907366591, 23.940556767846942, 21.707634976089636, 18.435505413331086, 20.32421230342952, 20.25583302759416, 18.4776976576986, 17.894367573074987, 17.79630302774922, 36.26638525198226, 34.32932296707278, 79.88569039424159, 23.710462192654596, 52.39003932198906, 20.51307632415588, 19.921209305735047, 17.00437132469672, 15.270255484365585, 42.156540430513466, 14.955458513132724, 14.171961611397752, 14.249842241602796, 18.12632411252903, 12.153010273768011, 97.32315452778461, 12.032830869192653, 13.732798689035661, 12.08051379003629, 11.737676810562725, 11.610790593780216, 10.50025353555987, 10.500250377332232, 10.232462361165553, 11.662730805476762, 13.658773623128265, 10.077589194366618, 10.697585283047482, 10.472645572859726, 9.095741069263232, 131.31987317292345, 29.652952992982343, 33.1634013340964, 13.788833227039115, 25.98070233363665, 30.634853544664484, 39.601587331465076, 13.631538331289136, 21.981105169724916, 23.30565320722248, 33.647681433170895, 14.199853814585106, 13.661325471057904, 26.927988710431634, 20.47334708378996, 22.590807331250016, 19.38419817476403, 20.379650049585386, 16.198288042202353, 30.206256788680356, 24.247899052710906, 22.202117939670458, 19.614930706081168, 18.32457490425863, 18.82560251345626, 12.134604778987407, 12.13794836219619, 10.82670545798327, 11.831293724332955, 11.422213987507389, 10.892400221769506, 10.585960309433442, 8.180429083649567, 11.903626574416258, 7.977281863655855, 7.812217238408152, 7.354405031940225, 7.621791994647974, 21.030021810493235, 10.727877522852278, 7.138868660280091, 7.370460877608693, 7.013455659880502, 6.807913227756338, 12.692407505940572, 9.400744929628821, 6.764895524644217, 6.220758032490367, 6.474663299599405, 8.463265548037159, 6.578270411463682, 5.341245851963115, 4.91368335976081, 16.4951567145135, 7.253711029727881, 17.41005208315949, 10.050843845676985, 7.426237367044721], \"Total\": [148.0, 106.0, 82.0, 55.0, 86.0, 94.0, 89.0, 50.0, 59.0, 45.0, 74.0, 50.0, 84.0, 81.0, 37.0, 37.0, 35.0, 43.0, 62.0, 36.0, 66.0, 23.0, 33.0, 61.0, 25.0, 92.0, 36.0, 80.0, 30.0, 20.0, 88.145956485525, 77.0497232707418, 91.00240073281678, 62.76849971013235, 52.6811482326793, 48.156550905567045, 44.90893448246343, 46.89873642825235, 46.444879735945854, 48.82817454363313, 46.69754253781658, 34.756780467644255, 33.75366053623423, 28.143893272840373, 27.100466597310273, 36.421288626344264, 26.965740327915423, 27.384812616363913, 28.460028298895356, 25.833209284408145, 65.04244952372248, 25.624004990212548, 70.75619813187804, 25.153465238968202, 24.67454912870269, 25.483606433479835, 26.335285888533868, 38.84406048436332, 29.272755643842466, 23.99271481012662, 51.572531097494235, 36.55216379250823, 35.988856591361554, 32.54276310831613, 62.68394711821763, 36.71590757341896, 49.903519668622245, 43.97901054360972, 43.58994707063782, 43.84929929410626, 80.54271820356566, 111.4510658290669, 114.93591678211457, 48.156675442516814, 89.060091351663, 81.54005435296436, 46.447638084031375, 60.46163700874584, 67.03103351515739, 81.62740606668962, 83.69936668501084, 104.3480977741509, 74.27726819588712, 87.08365051798869, 97.17410701690184, 94.15053677543264, 77.17747078308638, 126.05974583370863, 102.14389665625252, 74.14037965586904, 122.6621775030482, 29.9202021871608, 18.630873529790087, 26.3307887782913, 18.07319827298111, 17.181693867877105, 16.658340457724712, 16.389291583612252, 84.02475792867286, 16.448149401128408, 38.79897318307697, 14.661485034372664, 24.693558830840878, 13.081668939049404, 13.090426689011426, 15.098332323010052, 28.720413620238208, 12.550588534114093, 11.431265342429265, 13.077240101609902, 11.037618734878663, 11.37865653072114, 10.63873007620104, 13.49229643718714, 10.917659353483977, 11.137121097355974, 34.01157140271743, 10.194960197140336, 11.320914601514447, 9.784377288179327, 31.05545172663096, 17.34297842046922, 81.75673051846687, 32.70891836987939, 37.58376705886084, 44.23859073323258, 39.215596433752715, 44.99078944617664, 21.16869370601153, 35.457599152148454, 67.15318333417761, 23.622347330195968, 39.579552755146835, 37.2730417903193, 92.8098599288877, 90.20643877035684, 71.19616709299596, 73.407401303282, 37.30162223485751, 28.480122143684167, 86.33070559612383, 105.4671198568607, 68.77532540295267, 47.10536823623816, 45.03912172276058, 131.74607235026917, 105.47520118553253, 97.09505015551147, 70.87223372296918, 64.57122108087827, 57.06020847329053, 74.697068258211, 50.02173790259788, 76.62054228167948, 105.76477715748386, 126.05974583370863, 86.5934515397566, 83.70207735777852, 122.6621775030482, 52.33411958056919, 56.394160854492824, 59.09429801063122, 18.436963035231575, 18.294158942325446, 19.740123350239326, 15.965160313453888, 26.941211962155425, 14.80197971098425, 25.609313170265942, 18.76814951995518, 13.435539523763373, 13.077048805078217, 13.765554836356733, 14.645599957376572, 10.669249670045396, 10.669249670045396, 10.83377393550278, 10.424620517862941, 17.08348831065326, 9.84685467123598, 9.871001753707706, 9.669420415393711, 20.800568001779578, 8.981785824019681, 9.129569972285424, 8.402567756540542, 8.203092850337855, 9.848585683341565, 10.289789896905129, 9.555177697444165, 7.782388598181665, 15.596621953160543, 20.590857895591782, 17.934321496977653, 20.73681160183287, 86.98294380078563, 62.6843310641552, 89.77359688325507, 42.67091516107014, 23.986732888036183, 19.722781067657763, 24.46143099394066, 30.44458931978029, 29.29641618473265, 53.49046788758187, 23.067577950210293, 53.84076932078633, 68.10449137108826, 22.30619108767365, 25.50476184715165, 71.06792963342204, 40.639813114566984, 27.27572578533542, 68.12810270543369, 122.6621775030482, 51.710642151729914, 102.14389665625252, 126.05974583370863, 42.52081374873488, 86.5934515397566, 131.74607235026917, 63.41739328062219, 43.77431699010818, 105.4671198568607, 37.35550612993477, 35.433279607199346, 82.95327312081493, 24.806296205401267, 55.0982473508757, 21.61230459433922, 21.059752168761943, 18.105393015803113, 16.354732475722727, 45.37525345891154, 16.097880766547984, 15.284228526629532, 15.378920518252686, 19.57557580733157, 13.242619497861224, 106.1564282600733, 13.130370111428423, 14.993317230912261, 13.19044338619399, 12.860076695068283, 12.749047801225867, 11.590965485229233, 11.590965950584394, 11.321918572262824, 12.908194063302316, 15.220292756898985, 11.241810009595598, 11.947965020781696, 11.716153112868403, 10.176965314121974, 148.34934662336087, 33.625700629198015, 37.79262539446652, 15.545669520956045, 30.570811867246505, 36.586526388191494, 50.36187643852665, 15.567064973498377, 28.204813977022585, 30.382973152878666, 50.7755171738989, 16.437467313137844, 15.66540737021317, 43.94952453586809, 29.275090637261872, 36.013311242838526, 29.09782183506004, 32.41364614129439, 21.951072719101237, 94.15053677543264, 74.14037965586904, 61.183142305205834, 66.5350038368812, 51.628808765260615, 20.04462353360993, 13.077333119728674, 13.08256175092372, 11.76631429097813, 12.911612103518978, 12.478025291820304, 11.934561278832984, 11.774203812535031, 9.11246727793082, 13.271933043689684, 8.910197669451565, 8.744241075047501, 8.271570651775619, 8.595251834217388, 23.730686088240226, 12.119927405467193, 8.067504964046275, 8.329281560250053, 7.9481847995706945, 7.746677683857956, 14.469355996667835, 10.76264554817171, 7.7527017779544805, 7.146254914379693, 7.439833438414304, 9.787903043338845, 7.69598160069072, 6.25554930158377, 5.822384249731989, 20.10397006284488, 9.078457793207882, 25.441145984551078, 16.567932935625077, 12.41750548375877], \"Category\": [\"Default\", \"Default\", \"Default\", \"Default\", \"Default\", \"Default\", \"Default\", \"Default\", \"Default\", \"Default\", \"Default\", \"Default\", \"Default\", \"Default\", \"Default\", \"Default\", \"Default\", \"Default\", \"Default\", \"Default\", \"Default\", \"Default\", \"Default\", \"Default\", \"Default\", \"Default\", \"Default\", \"Default\", \"Default\", \"Default\", \"Topic1\", \"Topic1\", \"Topic1\", \"Topic1\", \"Topic1\", \"Topic1\", \"Topic1\", \"Topic1\", \"Topic1\", \"Topic1\", \"Topic1\", \"Topic1\", \"Topic1\", \"Topic1\", \"Topic1\", \"Topic1\", \"Topic1\", \"Topic1\", \"Topic1\", \"Topic1\", \"Topic1\", \"Topic1\", \"Topic1\", \"Topic1\", \"Topic1\", \"Topic1\", \"Topic1\", \"Topic1\", \"Topic1\", \"Topic1\", \"Topic1\", \"Topic1\", \"Topic1\", \"Topic1\", \"Topic1\", \"Topic1\", \"Topic1\", \"Topic1\", \"Topic1\", \"Topic1\", \"Topic1\", \"Topic1\", \"Topic1\", \"Topic1\", \"Topic1\", \"Topic1\", \"Topic1\", \"Topic1\", \"Topic1\", \"Topic1\", \"Topic1\", \"Topic1\", \"Topic1\", \"Topic1\", \"Topic1\", \"Topic1\", \"Topic1\", \"Topic1\", \"Topic1\", \"Topic1\", \"Topic1\", \"Topic2\", \"Topic2\", \"Topic2\", \"Topic2\", \"Topic2\", \"Topic2\", \"Topic2\", \"Topic2\", \"Topic2\", \"Topic2\", \"Topic2\", \"Topic2\", \"Topic2\", \"Topic2\", \"Topic2\", \"Topic2\", \"Topic2\", \"Topic2\", \"Topic2\", \"Topic2\", \"Topic2\", \"Topic2\", \"Topic2\", \"Topic2\", \"Topic2\", \"Topic2\", \"Topic2\", \"Topic2\", \"Topic2\", \"Topic2\", \"Topic2\", \"Topic2\", \"Topic2\", \"Topic2\", \"Topic2\", \"Topic2\", \"Topic2\", \"Topic2\", \"Topic2\", \"Topic2\", \"Topic2\", \"Topic2\", \"Topic2\", \"Topic2\", \"Topic2\", \"Topic2\", \"Topic2\", \"Topic2\", \"Topic2\", \"Topic2\", \"Topic2\", \"Topic2\", \"Topic2\", \"Topic2\", \"Topic2\", \"Topic2\", \"Topic2\", \"Topic2\", \"Topic2\", \"Topic2\", \"Topic2\", \"Topic2\", \"Topic2\", \"Topic2\", \"Topic2\", \"Topic2\", \"Topic2\", \"Topic2\", \"Topic2\", \"Topic2\", \"Topic3\", \"Topic3\", \"Topic3\", \"Topic3\", \"Topic3\", \"Topic3\", \"Topic3\", \"Topic3\", \"Topic3\", \"Topic3\", \"Topic3\", \"Topic3\", \"Topic3\", \"Topic3\", \"Topic3\", \"Topic3\", \"Topic3\", \"Topic3\", \"Topic3\", \"Topic3\", \"Topic3\", \"Topic3\", \"Topic3\", \"Topic3\", \"Topic3\", \"Topic3\", \"Topic3\", \"Topic3\", \"Topic3\", \"Topic3\", \"Topic3\", \"Topic3\", \"Topic3\", \"Topic3\", \"Topic3\", \"Topic3\", \"Topic3\", \"Topic3\", \"Topic3\", \"Topic3\", \"Topic3\", \"Topic3\", \"Topic3\", \"Topic3\", \"Topic3\", \"Topic3\", \"Topic3\", \"Topic3\", \"Topic3\", \"Topic3\", \"Topic3\", \"Topic3\", \"Topic3\", \"Topic3\", \"Topic3\", \"Topic3\", \"Topic3\", \"Topic3\", \"Topic3\", \"Topic3\", \"Topic3\", \"Topic3\", \"Topic3\", \"Topic4\", \"Topic4\", \"Topic4\", \"Topic4\", \"Topic4\", \"Topic4\", \"Topic4\", \"Topic4\", \"Topic4\", \"Topic4\", \"Topic4\", \"Topic4\", \"Topic4\", \"Topic4\", \"Topic4\", \"Topic4\", \"Topic4\", \"Topic4\", \"Topic4\", \"Topic4\", \"Topic4\", \"Topic4\", \"Topic4\", \"Topic4\", \"Topic4\", \"Topic4\", \"Topic4\", \"Topic4\", \"Topic4\", \"Topic4\", \"Topic4\", \"Topic4\", \"Topic4\", \"Topic4\", \"Topic4\", \"Topic4\", \"Topic4\", \"Topic4\", \"Topic4\", \"Topic4\", \"Topic4\", \"Topic4\", \"Topic4\", \"Topic4\", \"Topic4\", \"Topic4\", \"Topic4\", \"Topic4\", \"Topic4\", \"Topic4\", \"Topic4\", \"Topic4\", \"Topic4\", \"Topic4\", \"Topic5\", \"Topic5\", \"Topic5\", \"Topic5\", \"Topic5\", \"Topic5\", \"Topic5\", \"Topic5\", \"Topic5\", \"Topic5\", \"Topic5\", \"Topic5\", \"Topic5\", \"Topic5\", \"Topic5\", \"Topic5\", \"Topic5\", \"Topic5\", \"Topic5\", \"Topic5\", \"Topic5\", \"Topic5\", \"Topic5\", \"Topic5\", \"Topic5\", \"Topic5\", \"Topic5\", \"Topic5\", \"Topic5\", \"Topic5\", \"Topic5\", \"Topic5\", \"Topic5\", \"Topic5\"], \"logprob\": [30.0, 29.0, 28.0, 27.0, 26.0, 25.0, 24.0, 23.0, 22.0, 21.0, 20.0, 19.0, 18.0, 17.0, 16.0, 15.0, 14.0, 13.0, 12.0, 11.0, 10.0, 9.0, 8.0, 7.0, 6.0, 5.0, 4.0, 3.0, 2.0, 1.0, -6.017, -6.1534, -5.9914, -6.3632, -6.5405, -6.6323, -6.7039, -6.6625, -6.6729, -6.6249, -6.6728, -6.9685, -7.0019, -7.1866, -7.2258, -6.9303, -7.2311, -7.2158, -7.1786, -7.2761, -6.353, -7.2849, -6.2693, -7.3038, -7.3242, -7.2924, -7.2596, -6.8715, -7.155, -7.354, -6.5917, -6.9334, -6.9517, -7.0533, -6.4183, -6.9411, -6.6565, -6.7817, -6.7959, -6.7992, -6.2811, -6.0153, -5.992, -6.735, -6.3258, -6.4208, -6.7874, -6.6303, -6.5815, -6.4746, -6.4621, -6.3622, -6.5536, -6.5107, -6.4708, -6.486, -6.57, -6.4855, -6.5377, -6.5923, -6.5408, -6.2782, -6.7721, -6.4265, -6.8034, -6.858, -6.8914, -6.9101, -5.2786, -6.9115, -6.0558, -7.03, -6.5114, -7.1477, -7.148, -7.0072, -6.3643, -7.1924, -7.2938, -7.1631, -7.333, -7.3039, -7.3756, -7.1381, -7.35, -7.331, -6.2159, -7.4227, -7.3197, -7.4661, -6.3113, -6.8974, -5.3672, -6.2844, -6.1646, -6.0134, -6.1359, -6.0395, -6.7345, -6.2655, -5.6931, -6.6373, -6.1866, -6.2449, -5.4653, -5.4914, -5.6984, -5.6838, -6.2596, -6.4829, -5.5922, -5.4398, -5.821, -6.1326, -6.1753, -5.4513, -5.6109, -5.6838, -5.9151, -5.9775, -6.0416, -5.9334, -6.1162, -5.9413, -5.8111, -5.7684, -5.9469, -5.9907, -5.9273, -6.1183, -6.1221, -5.0976, -6.2989, -6.3085, -6.2379, -6.4519, -5.9334, -6.5326, -5.9856, -6.3023, -6.6404, -6.6725, -6.6284, -6.5675, -6.8869, -6.8869, -6.873, -6.9125, -6.4195, -6.9755, -6.9759, -6.9996, -6.237, -7.0821, -7.0681, -7.1527, -7.1808, -6.998, -6.9556, -7.0303, -7.2409, -6.5484, -6.2823, -6.4195, -6.3169, -5.0143, -5.3143, -5.0313, -5.7113, -6.2404, -6.407, -6.2553, -6.0827, -6.1319, -5.7211, -6.3304, -5.7337, -5.6049, -6.3788, -6.3153, -5.8936, -6.1518, -6.3068, -5.987, -5.7901, -6.1392, -5.9832, -6.0811, -6.2445, -6.147, -6.1503, -6.2422, -6.2743, -6.2798, -5.008, -5.0629, -4.2183, -5.433, -4.6402, -5.5779, -5.6071, -5.7654, -5.873, -4.8575, -5.8938, -5.9477, -5.9422, -5.7016, -6.1013, -4.0209, -6.1113, -5.9791, -6.1073, -6.1361, -6.147, -6.2475, -6.2475, -6.2734, -6.1425, -5.9845, -6.2886, -6.2289, -6.2502, -6.3911, -3.7213, -5.2094, -5.0975, -5.9751, -5.3416, -5.1768, -4.9201, -5.9865, -5.5087, -5.4502, -5.083, -5.9457, -5.9844, -5.3058, -5.5798, -5.4814, -5.6345, -5.5844, -5.814, -5.1909, -5.4106, -5.4987, -5.6226, -5.6907, -4.7591, -5.1982, -5.198, -5.3123, -5.2236, -5.2587, -5.3062, -5.3348, -5.5926, -5.2175, -5.6177, -5.6386, -5.699, -5.6633, -4.6484, -5.3215, -5.7288, -5.6968, -5.7465, -5.7762, -5.1533, -5.4535, -5.7826, -5.8664, -5.8264, -5.5586, -5.8105, -6.0188, -6.1023, -4.8912, -5.7128, -4.8373, -5.3866, -5.6893], \"loglift\": [30.0, 29.0, 28.0, 27.0, 26.0, 25.0, 24.0, 23.0, 22.0, 21.0, 20.0, 19.0, 18.0, 17.0, 16.0, 15.0, 14.0, 13.0, 12.0, 11.0, 10.0, 9.0, 8.0, 7.0, 6.0, 5.0, 4.0, 3.0, 2.0, 1.0, 0.6352, 0.6333, 0.6288, 0.6284, 0.6264, 0.6244, 0.6226, 0.6207, 0.62, 0.618, 0.6147, 0.6143, 0.6101, 0.6072, 0.6058, 0.6057, 0.6055, 0.6054, 0.604, 0.6034, 0.6031, 0.6027, 0.6026, 0.6023, 0.6012, 0.6007, 0.6006, 0.6001, 0.5995, 0.5993, 0.5965, 0.599, 0.5962, 0.5953, 0.5747, 0.5868, 0.5646, 0.5658, 0.5604, 0.5512, 0.4613, 0.4023, 0.3948, 0.5217, 0.3161, 0.3092, 0.5054, 0.3988, 0.3445, 0.2544, 0.2418, 0.1212, 0.2697, 0.1535, 0.0839, 0.1002, 0.215, -0.1912, -0.0329, 0.2329, -0.2191, 1.4544, 1.4342, 1.4339, 1.4333, 1.4292, 1.4269, 1.4244, 1.4214, 1.4194, 1.4169, 1.4159, 1.4132, 1.4122, 1.4112, 1.4094, 1.4092, 1.409, 1.401, 1.3971, 1.3968, 1.3955, 1.391, 1.3909, 1.3907, 1.3898, 1.3886, 1.3866, 1.3848, 1.3842, 1.384, 1.3805, 1.3602, 1.3591, 1.34, 1.3281, 1.3261, 1.2852, 1.3441, 1.2973, 1.2311, 1.3317, 1.2662, 1.2679, 1.1353, 1.1376, 1.1673, 1.1513, 1.2525, 1.2991, 1.0808, 1.0329, 1.0793, 1.1461, 1.1483, 0.799, 0.8618, 0.8717, 0.9552, 0.9858, 1.0454, 0.8842, 1.1025, 0.851, 0.6588, 0.526, 0.723, 0.7132, 0.3944, 1.0552, 0.9767, 1.9544, 1.9178, 1.9161, 1.9106, 1.9088, 1.9041, 1.9038, 1.9026, 1.8967, 1.8929, 1.8878, 1.8806, 1.8795, 1.8768, 1.8768, 1.8755, 1.8745, 1.8735, 1.8685, 1.8657, 1.8626, 1.8592, 1.8539, 1.8515, 1.8499, 1.8458, 1.8458, 1.8443, 1.8438, 1.8384, 1.8356, 1.824, 1.8249, 1.7823, 1.6511, 1.6787, 1.6026, 1.6663, 1.7132, 1.7424, 1.6787, 1.6325, 1.6217, 1.4306, 1.6623, 1.4114, 1.3052, 1.6474, 1.577, 0.9739, 1.2746, 1.5184, 0.9227, 0.5316, 1.0463, 0.5216, 0.2133, 1.1366, 0.523, 0.0999, 0.7392, 1.0778, 0.193, 2.5026, 2.5006, 2.4945, 2.487, 2.4818, 2.48, 2.4766, 2.4695, 2.4636, 2.4586, 2.4586, 2.4567, 2.456, 2.4553, 2.4463, 2.4453, 2.4449, 2.4444, 2.4443, 2.4409, 2.4387, 2.4334, 2.4334, 2.431, 2.4307, 2.424, 2.4229, 2.4217, 2.42, 2.4199, 2.4103, 2.4065, 2.4015, 2.4123, 2.3695, 2.3547, 2.2918, 2.3994, 2.2829, 2.267, 2.1207, 2.3859, 2.3953, 2.0423, 2.1746, 2.0659, 2.126, 2.0682, 2.2283, 1.3954, 1.4146, 1.5185, 1.3108, 1.4964, 3.3741, 3.362, 3.3619, 3.3536, 3.3494, 3.3484, 3.3455, 3.3304, 3.3289, 3.328, 3.3262, 3.3241, 3.3193, 3.3166, 3.316, 3.3148, 3.3145, 3.3145, 3.3117, 3.3076, 3.3058, 3.3015, 3.3005, 3.2981, 3.2979, 3.2914, 3.2799, 3.2788, 3.2671, 3.239, 3.2124, 3.0575, 2.937, 2.9227]}, \"token.table\": {\"Topic\": [1, 2, 5, 1, 2, 3, 2, 3, 2, 1, 2, 3, 1, 2, 3, 3, 5, 1, 2, 4, 3, 2, 5, 1, 2, 3, 3, 5, 1, 2, 3, 1, 1, 4, 4, 3, 4, 1, 2, 3, 3, 1, 2, 3, 1, 2, 3, 4, 5, 1, 2, 3, 1, 3, 5, 1, 4, 1, 2, 3, 4, 1, 4, 3, 1, 1, 3, 5, 1, 2, 3, 2, 3, 1, 2, 3, 1, 2, 3, 1, 2, 3, 4, 2, 3, 1, 2, 4, 1, 2, 3, 1, 4, 1, 3, 4, 4, 1, 4, 1, 2, 3, 1, 2, 1, 1, 2, 3, 1, 2, 3, 4, 1, 2, 3, 4, 2, 3, 2, 1, 1, 4, 1, 1, 5, 3, 4, 5, 1, 2, 3, 1, 2, 3, 4, 5, 5, 2, 2, 2, 3, 1, 2, 1, 2, 3, 4, 1, 2, 3, 3, 1, 2, 3, 1, 2, 3, 1, 5, 1, 2, 3, 1, 2, 3, 1, 4, 1, 2, 3, 1, 1, 2, 1, 2, 3, 2, 1, 2, 1, 2, 3, 2, 3, 1, 2, 4, 2, 1, 2, 3, 4, 1, 2, 3, 4, 5, 2, 5, 1, 4, 4, 1, 2, 1, 2, 3, 1, 5, 5, 1, 2, 3, 4, 1, 2, 3, 4, 1, 2, 1, 4, 1, 3, 1, 2, 3, 4, 4, 2, 4, 3, 1, 4, 2, 3, 1, 2, 4, 1, 2, 3, 1, 2, 3, 5, 5, 1, 2, 3, 4, 5, 4, 1, 1, 5, 1, 4, 1, 4, 1, 4, 2, 4, 1, 3, 4, 1, 2, 3, 1, 2, 1, 4, 4, 1, 3, 1, 2, 4, 5, 1, 2, 3, 4, 1, 4, 1, 2, 3, 4, 2, 5, 1, 2, 3, 4, 1, 2, 3, 1, 3, 1, 1, 2, 3, 1, 2, 3, 1, 4, 4, 2, 4, 2, 3, 1, 2, 4, 4, 5, 1, 4, 1, 5, 3, 2, 1, 4, 4, 1, 2, 3, 3, 1, 2, 3, 1, 2, 3, 4, 3, 1, 2, 3, 1, 3, 1, 2, 3, 1, 2, 3, 4, 2, 1, 1, 2, 1, 2, 3, 4, 2, 1, 2, 3, 1, 2, 5, 1, 1, 2, 3, 2, 5, 1, 2, 3, 4, 1, 2, 3, 4, 4, 3, 1, 5, 2, 1, 4, 4, 3, 5, 1, 3, 3, 1, 2, 3, 4, 1, 2, 3, 4, 4, 4, 3, 1, 3, 4, 5, 1, 2, 3, 4, 2, 3, 1, 2, 3, 1, 4, 1, 2, 3, 1, 1, 2, 3, 2, 3, 1, 4, 5, 5, 5, 1, 2, 3, 1, 3, 1, 2, 3, 1, 2, 3, 1, 2, 3, 4, 4, 5, 1, 2, 3, 4, 1, 5, 1, 2, 3, 4, 1, 2, 3, 4, 1, 2, 3, 1, 2, 3, 4, 1, 3, 4, 1, 1, 4, 3, 1, 2, 3, 1, 2, 3, 3, 1, 4, 1, 2, 3, 5, 2, 1, 2, 3, 1, 2, 2, 3, 4, 5, 1, 3, 5, 1, 1, 2, 3, 2, 1, 3, 1, 2, 3, 4, 2, 1, 2, 3, 4, 1, 2, 3, 4, 1, 4, 1, 2, 3, 4, 2, 2, 2, 3, 3, 3, 1, 2, 3, 4, 1, 4], \"Freq\": [0.1101508673365379, 0.1101508673365379, 0.7710560713557653, 0.28712926514043163, 0.5351045395798953, 0.16966729303752778, 0.897898111422535, 0.9139974439036093, 0.9152317489426198, 0.2804055650706128, 0.6484378692257922, 0.0701013912676532, 0.10614501461753781, 0.7217860993992571, 0.16983202338806047, 0.08250874502341564, 0.907596195257572, 0.09171810471001711, 0.8866083455301653, 0.9490149524117445, 0.8372424096455949, 0.06911157623257672, 0.8984504910234972, 0.9501181919376607, 0.03878033436480247, 0.9292583525481856, 0.833078673427086, 0.9478851008671552, 0.07982169523618077, 0.8514314158525947, 0.05321446349078717, 0.975983518673607, 0.9610465485053206, 0.02826607495603884, 0.9716687042019758, 0.06423818502090253, 0.8993345902926355, 0.9609764321925661, 0.027456469491216176, 0.9625066501810713, 0.890691467904509, 0.2484039113333377, 0.6496717681025755, 0.09553996589743757, 0.6478574575283649, 0.12957149150567296, 0.20731438640907673, 0.012957149150567296, 0.9307464346945936, 0.039208364539646906, 0.2744585517775283, 0.6665421971739974, 0.042139531755702224, 0.08427906351140445, 0.8849301668697467, 0.13084376094982256, 0.8504844461738466, 0.5735495712446177, 0.06372773013829085, 0.031863865069145424, 0.31863865069145425, 0.03629879526409678, 0.9437686768665163, 0.981482172604295, 0.9586243233421995, 0.15210836594031482, 0.8112446183483457, 0.8587547275379764, 0.23493311054654356, 0.23493311054654356, 0.513916179320564, 0.20844856293429775, 0.7921045391503314, 0.264419655107054, 0.011496506743784957, 0.7242799248584523, 0.11632078733365822, 0.6688445271685348, 0.20356137783390188, 0.7113068596806917, 0.13490302511185534, 0.11037520236424528, 0.03679173412141509, 0.21675444256835893, 0.7369651047324204, 0.9252767680793293, 0.015953047725505678, 0.04785914317651704, 0.16216709806005092, 0.6718351205344967, 0.16216709806005092, 0.04407688877839661, 0.9256146643463289, 0.06594042503813953, 0.009420060719734218, 0.9137458898142192, 0.9595499027160859, 0.3151124969382839, 0.6696140559938534, 0.10533662688891553, 0.8426930151113242, 0.03511220896297184, 0.9486989863972825, 0.9272547259185586, 0.98707036092549, 0.12750029209543065, 0.8415019278298423, 0.025500058419086133, 0.0641164479720788, 0.0641164479720788, 0.8976302716091032, 0.9097495549361146, 0.30338885008345706, 0.5309304876460499, 0.15169442504172853, 0.91391178604748, 0.0971304843217908, 0.8741743588961173, 0.9312236688091388, 0.9625590233360155, 0.9726621497647542, 0.9412467650208478, 0.9417819280268469, 0.9480453228368612, 0.9348721891981328, 0.9176382361852189, 0.9317996708716204, 0.8978476456732088, 0.24778840685015543, 0.603984241697254, 0.13938097885321243, 0.6690612153703268, 0.20310786895170638, 0.10752769532737395, 0.023895043406083102, 0.8462721645854941, 0.7992903195142445, 0.8788383736692538, 0.9661382742585127, 0.5711111381966125, 0.41120001950156104, 0.1410134955428035, 0.8178782741482604, 0.42392855775536664, 0.33425136284557755, 0.23642169567126214, 0.008152472264526282, 0.19707935413343589, 0.06569311804447862, 0.7226242984892649, 0.9307693339791085, 0.16708698905655478, 0.14480872384901414, 0.6906262214337597, 0.09995654308804663, 0.679704492998717, 0.21990439479370258, 0.9688904407943252, 0.9172515466363242, 0.18963256062310102, 0.6352690780873884, 0.17066930456079094, 0.17066933950117996, 0.10240160370070799, 0.7168112259049558, 0.10584075486286983, 0.873186227618676, 0.19982627670672004, 0.7104934282905602, 0.06660875890224001, 0.9593555425416476, 0.11008267995706014, 0.8806614396564811, 0.9525265777735661, 0.02574396156144773, 0.02574396156144773, 0.9406193493386553, 0.9122152609945209, 0.06841614457458907, 0.042332795552528356, 0.8466559110505671, 0.08466559110505671, 0.09718371414957375, 0.8746534273461638, 0.9565208120708585, 0.9692447871373118, 0.9103369760825478, 0.9159472443888681, 0.5206286462944817, 0.07035522247222727, 0.3658471568555818, 0.028142088988890906, 0.10636482135439676, 0.035454940451465584, 0.07090988090293117, 0.7800086899322429, 0.8396006120530071, 0.9548828080633124, 0.8807042332958955, 0.1078535252374374, 0.8830507378815187, 0.9337493354129597, 0.9779961768404788, 0.010988721088095267, 0.025773877965311005, 0.9278596067511962, 0.025773877965311005, 0.9877566022179705, 0.8779181045044664, 0.8815497438693933, 0.7773524225485559, 0.13231530596571164, 0.06615765298285582, 0.016539413245713955, 0.4254443395896606, 0.1547070325780584, 0.386767581445146, 0.0386767581445146, 0.9525927437943373, 0.030728798186914107, 0.2277793009928455, 0.7288937631771055, 0.058536054335952, 0.87804081503928, 0.3398731443790989, 0.5458568682452194, 0.1132910481263663, 0.010299186193306028, 0.8895364706808214, 0.9399618120183454, 0.9496787920261531, 0.9220607519532554, 0.06570175856484262, 0.9198246199077967, 0.9059925188754883, 0.9395458426658864, 0.17685899694987675, 0.8084982717708651, 0.9296420507122456, 0.23052031988812388, 0.6028992981689394, 0.15959099069177807, 0.3882347818491819, 0.5488836570971193, 0.06693703135330722, 0.8676784248905047, 0.9293959502337803, 0.21164847235707496, 0.5926157225998099, 0.16931877788565997, 0.014109898157138331, 0.014109898157138331, 0.9159768826805988, 0.9869993300746225, 0.9863760280221485, 0.8064696675896034, 0.02410995883293426, 0.9643983533173704, 0.6609084041306377, 0.3237102387578633, 0.9176427751834549, 0.06882320813875911, 0.9198337037629419, 0.8535224747973402, 0.1645658565026336, 0.03291317130052672, 0.7570029399121146, 0.2801426488513353, 0.7003566221283382, 0.010774717263512895, 0.04049639044944205, 0.9314169803371672, 0.9532236324738534, 0.03074914943464043, 0.9490149905128852, 0.9447368774744863, 0.027786378749249597, 0.831856702807851, 0.012415771683699268, 0.16140503188809047, 0.9148878594883137, 0.6462763586129765, 0.030059365516882625, 0.015029682758441312, 0.30059365516882625, 0.30930150205112183, 0.6529698376634794, 0.4648567451772941, 0.05810709314716176, 0.0968451552452696, 0.3486425588829705, 0.14922425722989138, 0.7958627052260874, 0.6086102234431697, 0.16076496468310145, 0.03444963528923602, 0.1837313882092588, 0.9532652823578515, 0.027236150924510042, 0.027236150924510042, 0.20440341373481175, 0.7358522894453223, 0.9494313641738629, 0.1968512989330768, 0.2706705360329806, 0.492128247332692, 0.06668031472506075, 0.8223905482757492, 0.11113385787510124, 0.2732698627350261, 0.6831746568375653, 0.9637133512468049, 0.850312270090068, 0.09447914112111867, 0.03711785503208651, 0.9279463758021628, 0.9217786702312171, 0.040077333488313785, 0.020038666744156892, 0.9674963082467061, 0.9176182857876892, 0.33936324077982083, 0.6170240741451288, 0.9366217345480201, 0.8362256249838929, 0.9372730331801722, 0.917624812786202, 0.13666233156295968, 0.8473064556903501, 0.88435007118588, 0.2586968364481802, 0.28221473067074204, 0.4233220960061131, 0.8994667783147621, 0.4888248853563704, 0.20499108095589727, 0.2838338044004732, 0.6866165280271302, 0.16155683012403066, 0.10770455341602043, 0.040389207531007665, 0.8876386107659775, 0.9593930756373215, 0.8042545659573402, 0.1876593987233794, 0.055759009347999204, 0.8363851402199881, 0.19071646389114266, 0.7219980418736115, 0.09535823194557133, 0.6737933085251414, 0.17151102398821783, 0.03675236228318953, 0.1102570868495686, 0.8893964089705213, 0.9641863966584417, 0.9575356522990203, 0.02735816149425772, 0.5659943959190039, 0.31901502315434765, 0.061744843191164064, 0.04116322879410938, 0.874793795826184, 0.5137380700491533, 0.13210407515549655, 0.3522775337479908, 0.161062944777102, 0.161062944777102, 0.563720306719857, 0.9797604977063448, 0.1857328586896565, 0.2228794304275878, 0.5757718619379352, 0.9494588335542579, 0.03797835334217031, 0.3781977429067898, 0.4349274043428083, 0.1607340407353857, 0.01890988714533949, 0.24388502971507975, 0.7094837228075047, 0.022171366337734522, 0.022171366337734522, 0.9206588721064337, 0.8762734744665464, 0.07534697445414429, 0.9041636934497315, 0.8833208580746874, 0.19856289533227234, 0.7942515813290894, 0.9061651285788348, 0.9138367974218969, 0.9029110367569075, 0.22415301565147036, 0.7172896500847051, 0.945819429113991, 0.2887054339036486, 0.4619286942458378, 0.2309643471229189, 0.917165720825228, 0.07976475005983036, 0.1754824501316268, 0.7497886505624054, 0.933120407019181, 0.9389467538849733, 0.8832425296273243, 0.8931535632622463, 0.07332527155245432, 0.6232648081958617, 0.1833131788811358, 0.10998790732868147, 0.03481844005531094, 0.9400978814933955, 0.03481844005531094, 0.9195131819958279, 0.03904829439787805, 0.937159065549073, 0.28042379497454983, 0.11216951798981993, 0.5795425096140696, 0.3332101266413339, 0.6386527427292233, 0.0588035164949834, 0.9114545056722427, 0.0294017582474917, 0.9492967004730624, 0.06440093087697518, 0.9016130322776525, 0.03220046543848759, 0.09615122047767596, 0.9134365945379217, 0.08921747187016311, 0.8921747187016311, 0.9216928668764295, 0.909565584118827, 0.9036131727264404, 0.11913061455611443, 0.7743489946147437, 0.08934796091708581, 0.9541428893391105, 0.9117615642829215, 0.5137267957663654, 0.46593825662530813, 0.02389426957052862, 0.1171758323234098, 0.14061099878809177, 0.7264901604051408, 0.7310046918629097, 0.17902155719091667, 0.05967385239697222, 0.014918463099243055, 0.10216692948144289, 0.8173354358515431, 0.7743445433921095, 0.12180700682572508, 0.08700500487551792, 0.008700500487551792, 0.3621453577409493, 0.6035755962349155, 0.9322629020801703, 0.02273811956293098, 0.02273811956293098, 0.02273811956293098, 0.3187950824699799, 0.5009637010242541, 0.15180718212856187, 0.015180718212856185, 0.8721532293094889, 0.020765553078797353, 0.08306221231518941, 0.861184801854369, 0.04305924009271845, 0.021529620046359225, 0.06458886013907766, 0.3413006206189602, 0.022753374707930683, 0.6143411171141284, 0.9677465825002611, 0.9636481398043188, 0.021414403106762642, 0.9057898852481328, 0.5090857280978514, 0.2545428640489257, 0.23496264373746986, 0.11302349186824204, 0.8589785381986396, 0.02260469837364841, 0.9443861983437968, 0.06432659581833829, 0.9005723414567359, 0.168548399302531, 0.7303763969776342, 0.09831989959314306, 0.9342457609141436, 0.9604798293446194, 0.05365808380359899, 0.8048712570539848, 0.10731616760719798, 0.05766022281500047, 0.9225635650400075, 0.11791921644652818, 0.07861281096435213, 0.07861281096435213, 0.6682088931969931, 0.9808366600744719, 0.9230393821703752, 0.8404086174017935, 0.9782263933119825, 0.02380250832377006, 0.9401990787889174, 0.02380250832377006, 0.911956697023371, 0.1446702635681388, 0.8197981602194533, 0.4739867700049872, 0.13075497103585854, 0.032688742758964634, 0.359576170348611, 0.8827891258000674, 0.42836830776443063, 0.3807718291239383, 0.17452042168180507, 0.007932746440082048, 0.5941651196573957, 0.22999940115770157, 0.10541639219727988, 0.07666646705256719, 0.06083662287807185, 0.8517127202930059, 0.718615925816754, 0.15719723377241496, 0.08982699072709426, 0.033685121522660344, 0.9561304609247986, 0.9167004472110317, 0.9173141482108165, 0.9372730331801722, 0.8633407791274699, 0.8533366777278031, 0.7806116464909574, 0.04486273830407801, 0.12561566725141843, 0.04486273830407801, 0.0638349183246546, 0.8936888565451645], \"Term\": [\"00\", \"00\", \"00\", \"11\", \"11\", \"11\", \"256\", \"256k\", \"3d\", \"address\", \"address\", \"address\", \"advance\", \"advance\", \"advance\", \"alex\", \"alex\", \"algorithm\", \"algorithm\", \"alink\", \"alomar\", \"amanda\", \"amanda\", \"american\", \"american\", \"amp\", \"amplifier\", \"anthony\", \"application\", \"application\", \"application\", \"arab\", \"armenian\", \"armenian\", \"atheist\", \"athens\", \"athens\", \"attack\", \"attack\", \"audio\", \"automotive\", \"available\", \"available\", \"available\", \"back\", \"back\", \"back\", \"back\", \"bailey\", \"battery\", \"battery\", \"battery\", \"beast\", \"beast\", \"beast\", \"belief\", \"belief\", \"believe\", \"believe\", \"believe\", \"believe\", \"bible\", \"bible\", \"bike\", \"blood\", \"bmw\", \"bmw\", \"bubblejet\", \"buy\", \"buy\", \"buy\", \"cable\", \"cable\", \"car\", \"car\", \"car\", \"card\", \"card\", \"card\", \"case\", \"case\", \"case\", \"case\", \"cd\", \"cd\", \"child\", \"child\", \"child\", \"chip\", \"chip\", \"chip\", \"christ\", \"christ\", \"christian\", \"christian\", \"christian\", \"christianity\", \"church\", \"church\", \"circuit\", \"circuit\", \"circuit\", \"clayton\", \"client\", \"clinton\", \"color\", \"color\", \"color\", \"comet\", \"comet\", \"comet\", \"commandment\", \"computer\", \"computer\", \"computer\", \"contradiction\", \"controller\", \"controller\", \"convex\", \"country\", \"court\", \"covington\", \"cramer\", \"crime\", \"cs\", \"cunixbcccolumbiaedu\", \"danny\", \"daryl\", \"data\", \"data\", \"data\", \"david\", \"david\", \"david\", \"david\", \"den\", \"deskjet\", \"diamond\", \"directory\", \"disk\", \"disk\", \"display\", \"display\", \"distribution\", \"distribution\", \"distribution\", \"distribution\", \"dod\", \"dod\", \"dod\", \"drain\", \"drive\", \"drive\", \"drive\", \"driver\", \"driver\", \"driver\", \"drug\", \"duo\", \"email\", \"email\", \"email\", \"engine\", \"engine\", \"engine\", \"faith\", \"faith\", \"fax\", \"fax\", \"fax\", \"fbi\", \"file\", \"file\", \"fire\", \"fire\", \"fire\", \"font\", \"force\", \"force\", \"format\", \"format\", \"format\", \"fpu\", \"fpu\", \"freedom\", \"ftp\", \"fundamentalist\", \"galileo\", \"game\", \"game\", \"game\", \"game\", \"georgia\", \"georgia\", \"georgia\", \"georgia\", \"gerard\", \"gif\", \"gl\", \"god\", \"god\", \"gospel\", \"government\", \"government\", \"graphic\", \"graphic\", \"graphic\", \"gun\", \"halifax\", \"hamburg\", \"happen\", \"happen\", \"happen\", \"happen\", \"hard\", \"hard\", \"hard\", \"hard\", \"health\", \"health\", \"heaven\", \"heaven\", \"helmet\", \"helmet\", \"help\", \"help\", \"help\", \"help\", \"heterosexual\", \"ho\", \"homosexuality\", \"honda\", \"hudson\", \"hudson\", \"icon\", \"ide\", \"image\", \"image\", \"immoral\", \"info\", \"info\", \"info\", \"information\", \"information\", \"information\", \"ink\", \"intercon\", \"internet\", \"internet\", \"internet\", \"internet\", \"internet\", \"islam\", \"israel\", \"israeli\", \"jamie\", \"jesus\", \"jesus\", \"jew\", \"jew\", \"jewish\", \"jewish\", \"joystick\", \"kendig\", \"kent\", \"kent\", \"kent\", \"key\", \"key\", \"key\", \"keyboard\", \"keyboard\", \"kill\", \"kill\", \"ksand\", \"land\", \"land\", \"law\", \"law\", \"law\", \"lh\", \"life\", \"life\", \"life\", \"life\", \"lord\", \"lord\", \"love\", \"love\", \"love\", \"love\", \"mask\", \"mask\", \"mean\", \"mean\", \"mean\", \"mean\", \"member\", \"member\", \"member\", \"mile\", \"mile\", \"military\", \"model\", \"model\", \"model\", \"monitor\", \"monitor\", \"monitor\", \"moral\", \"moral\", \"morality\", \"motif\", \"motif\", \"motorcycle\", \"motorcycle\", \"mr\", \"mr\", \"mr\", \"msg\", \"murphy\", \"muslim\", \"muslim\", \"nazi\", \"null\", \"nuntius\", \"nyx\", \"objective\", \"objective\", \"odwyer\", \"offer\", \"offer\", \"offer\", \"ohm\", \"old\", \"old\", \"old\", \"opinion\", \"opinion\", \"opinion\", \"opinion\", \"outlet\", \"palestinian\", \"pc\", \"pc\", \"persian\", \"persian\", \"phone\", \"phone\", \"phone\", \"point\", \"point\", \"point\", \"point\", \"pointer\", \"police\", \"policy\", \"policy\", \"post\", \"post\", \"post\", \"post\", \"postscript\", \"power\", \"power\", \"power\", \"pp\", \"pp\", \"pp\", \"president\", \"price\", \"price\", \"price\", \"printer\", \"printer\", \"problem\", \"problem\", \"problem\", \"problem\", \"program\", \"program\", \"program\", \"program\", \"prophet\", \"proton\", \"pt\", \"pt\", \"radius\", \"religion\", \"religion\", \"resurrection\", \"rf\", \"richmond\", \"ride\", \"ride\", \"rider\", \"run\", \"run\", \"run\", \"sabbath\", \"sale\", \"sale\", \"sale\", \"salvation\", \"sandvik\", \"satan\", \"saturn\", \"score\", \"score\", \"score\", \"score\", \"screen\", \"screen\", \"screen\", \"scripture\", \"scsi\", \"scsi\", \"sell\", \"sell\", \"sell\", \"serdar\", \"serdar\", \"server\", \"server\", \"server\", \"sexual\", \"shuttle\", \"shuttle\", \"shuttle\", \"simms\", \"simms\", \"sin\", \"sin\", \"singapore\", \"singer\", \"snyder\", \"software\", \"software\", \"software\", \"soldier\", \"sony\", \"space\", \"space\", \"space\", \"speed\", \"speed\", \"speed\", \"start\", \"start\", \"start\", \"start\", \"stat\", \"stat\", \"state\", \"state\", \"state\", \"state\", \"stats\", \"stats\", \"study\", \"study\", \"study\", \"study\", \"system\", \"system\", \"system\", \"system\", \"tax\", \"tax\", \"tax\", \"today\", \"today\", \"today\", \"today\", \"truth\", \"truth\", \"truth\", \"turkey\", \"turkish\", \"turkish\", \"tyre\", \"usa\", \"usa\", \"usa\", \"user\", \"user\", \"user\", \"vat\", \"verse\", \"verse\", \"version\", \"version\", \"version\", \"vesselin\", \"vga\", \"video\", \"video\", \"video\", \"voltage\", \"voltage\", \"walker\", \"walker\", \"walker\", \"walker\", \"war\", \"watt\", \"wc\", \"weapon\", \"window\", \"window\", \"window\", \"windows\", \"wire\", \"wire\", \"word\", \"word\", \"word\", \"word\", \"wordperfect\", \"work\", \"work\", \"work\", \"work\", \"world\", \"world\", \"world\", \"world\", \"worship\", \"worship\", \"writes\", \"writes\", \"writes\", \"writes\", \"x11r5\", \"xdisclaimer\", \"xterm\", \"xuseragent\", \"xxxdate\", \"yamaha\", \"year\", \"year\", \"year\", \"year\", \"zionism\", \"zionism\"]}, \"R\": 30, \"lambda.step\": 0.01, \"plot.opts\": {\"xlab\": \"PC1\", \"ylab\": \"PC2\"}, \"topic.order\": [5, 2, 1, 3, 4]};\n",
       "\n",
       "function LDAvis_load_lib(url, callback){\n",
       "  var s = document.createElement('script');\n",
       "  s.src = url;\n",
       "  s.async = true;\n",
       "  s.onreadystatechange = s.onload = callback;\n",
       "  s.onerror = function(){console.warn(\"failed to load library \" + url);};\n",
       "  document.getElementsByTagName(\"head\")[0].appendChild(s);\n",
       "}\n",
       "\n",
       "if(typeof(LDAvis) !== \"undefined\"){\n",
       "   // already loaded: just create the visualization\n",
       "   !function(LDAvis){\n",
       "       new LDAvis(\"#\" + \"ldavis_el1603222660516445446107932409\", ldavis_el1603222660516445446107932409_data);\n",
       "   }(LDAvis);\n",
       "}else if(typeof define === \"function\" && define.amd){\n",
       "   // require.js is available: use it to load d3/LDAvis\n",
       "   require.config({paths: {d3: \"https://d3js.org/d3.v5\"}});\n",
       "   require([\"d3\"], function(d3){\n",
       "      window.d3 = d3;\n",
       "      LDAvis_load_lib(\"https://cdn.jsdelivr.net/gh/bmabey/pyLDAvis@3.4.0/pyLDAvis/js/ldavis.v3.0.0.js\", function(){\n",
       "        new LDAvis(\"#\" + \"ldavis_el1603222660516445446107932409\", ldavis_el1603222660516445446107932409_data);\n",
       "      });\n",
       "    });\n",
       "}else{\n",
       "    // require.js not available: dynamically load d3 & LDAvis\n",
       "    LDAvis_load_lib(\"https://d3js.org/d3.v5.js\", function(){\n",
       "         LDAvis_load_lib(\"https://cdn.jsdelivr.net/gh/bmabey/pyLDAvis@3.4.0/pyLDAvis/js/ldavis.v3.0.0.js\", function(){\n",
       "                 new LDAvis(\"#\" + \"ldavis_el1603222660516445446107932409\", ldavis_el1603222660516445446107932409_data);\n",
       "            })\n",
       "         });\n",
       "}\n",
       "</script>"
      ],
      "text/plain": [
       "<IPython.core.display.HTML object>"
      ]
     },
     "execution_count": 34,
     "metadata": {},
     "output_type": "execute_result"
    }
   ],
   "source": [
    "# Visualize the LDA model using pyLDAvis\n",
    "pyLDAvis.enable_notebook()\n",
    "vis = pyLDAvis.gensim.prepare(lda_model, corpus, dictionary=lda_model.id2word, mds='tsne')\n",
    "pyLDAvis.display(vis)"
   ]
  },
  {
   "cell_type": "markdown",
   "metadata": {},
   "source": [
    "Now we're going to do the same for LSA"
   ]
  },
  {
   "cell_type": "code",
   "execution_count": 29,
   "metadata": {},
   "outputs": [
    {
     "name": "stderr",
     "output_type": "stream",
     "text": [
      "c:\\Users\\andre\\AppData\\Local\\Programs\\Python\\Python311\\Lib\\site-packages\\gensim\\models\\lsimodel.py:963: DeprecationWarning: Please use `csc_matvecs` from the `scipy.sparse` namespace, the `scipy.sparse.sparsetools` namespace is deprecated.\n",
      "  sparsetools.csc_matvecs(\n",
      "c:\\Users\\andre\\AppData\\Local\\Programs\\Python\\Python311\\Lib\\site-packages\\scipy\\linalg\\_special_matrices.py:154: DeprecationWarning: 'tri'/'tril/'triu' are deprecated as of SciPy 1.11.0 and will be removed in v1.13.0. Please use numpy.(tri/tril/triu) instead.\n",
      "  out = (1 - tri(m.shape[0], m.shape[1], k - 1, m.dtype.char)) * m\n",
      "c:\\Users\\andre\\AppData\\Local\\Programs\\Python\\Python311\\Lib\\site-packages\\scipy\\linalg\\_special_matrices.py:154: DeprecationWarning: 'tri'/'tril/'triu' are deprecated as of SciPy 1.11.0 and will be removed in v1.13.0. Please use numpy.(tri/tril/triu) instead.\n",
      "  out = (1 - tri(m.shape[0], m.shape[1], k - 1, m.dtype.char)) * m\n",
      "c:\\Users\\andre\\AppData\\Local\\Programs\\Python\\Python311\\Lib\\site-packages\\scipy\\linalg\\_special_matrices.py:154: DeprecationWarning: 'tri'/'tril/'triu' are deprecated as of SciPy 1.11.0 and will be removed in v1.13.0. Please use numpy.(tri/tril/triu) instead.\n",
      "  out = (1 - tri(m.shape[0], m.shape[1], k - 1, m.dtype.char)) * m\n"
     ]
    }
   ],
   "source": [
    "lsi_model = LsiModel(corpus, id2word=dictionary, num_topics=5)"
   ]
  },
  {
   "cell_type": "code",
   "execution_count": 30,
   "metadata": {},
   "outputs": [
    {
     "name": "stdout",
     "output_type": "stream",
     "text": [
      "Topic 0: system, work, window, god, problem, year, drive, distribution, file, computer\n",
      "Topic 1: god, window, file, card, drive, christian, jesus, driver, program, believe\n",
      "Topic 2: game, god, team, window, player, file, play, year, win, christian\n",
      "Topic 3: key, chip, god, clipper, encryption, government, window, game, escrow, jesus\n",
      "Topic 4: drive, window, file, car, scsi, game, team, program, key, ide\n"
     ]
    }
   ],
   "source": [
    "for topic in lsi_model.print_topics():\n",
    "    topic_index, words = topic\n",
    "    word_list = [word.split(\"*\")[1].strip().strip('\"') for word in words.split(\" + \")]\n",
    "    print(f\"Topic {topic_index}: {', '.join(word_list)}\")"
   ]
  },
  {
   "cell_type": "code",
   "execution_count": null,
   "metadata": {},
   "outputs": [],
   "source": []
  }
 ],
 "metadata": {
  "kernelspec": {
   "display_name": "Python 3",
   "language": "python",
   "name": "python3"
  },
  "language_info": {
   "codemirror_mode": {
    "name": "ipython",
    "version": 3
   },
   "file_extension": ".py",
   "mimetype": "text/x-python",
   "name": "python",
   "nbconvert_exporter": "python",
   "pygments_lexer": "ipython3",
   "version": "3.11.6"
  }
 },
 "nbformat": 4,
 "nbformat_minor": 2
}
