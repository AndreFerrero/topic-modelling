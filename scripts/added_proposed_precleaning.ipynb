{
 "cells": [
  {
   "cell_type": "code",
   "execution_count": 2,
   "metadata": {},
   "outputs": [],
   "source": [
    "import pandas as pd\n",
    "import glob\n",
    "import os\n",
    "import re"
   ]
  },
  {
   "cell_type": "code",
   "execution_count": 3,
   "metadata": {},
   "outputs": [],
   "source": [
    "path = r'C:\\Users\\sofch\\Python\\PR1.20\\PR1.20\\data\\data-train'\n",
    "\n",
    "folders_path_list = []\n",
    "\n",
    "for folder in os.listdir(path):\n",
    "    folders_path_list.append(os.path.join(path, folder))\n"
   ]
  },
  {
   "cell_type": "code",
   "execution_count": 4,
   "metadata": {},
   "outputs": [],
   "source": [
    "column_names = ['File_Name', 'Content']\n",
    "df = pd.DataFrame(columns=column_names)\n",
    "\n",
    "for folder_path in folders_path_list:\n",
    "    for file_name in os.listdir(folder_path):\n",
    "        file_path = os.path.join(folder_path, file_name)\n",
    "        \n",
    "        with open(file_path, 'r', encoding='latin-1') as file:\n",
    "            content = file.read()\n",
    "            df = pd.concat([df, pd.DataFrame({'File_Name': [file_name], 'Content': [content]})], ignore_index=True)"
   ]
  },
  {
   "cell_type": "code",
   "execution_count": 5,
   "metadata": {},
   "outputs": [
    {
     "data": {
      "text/html": [
       "<div>\n",
       "<style scoped>\n",
       "    .dataframe tbody tr th:only-of-type {\n",
       "        vertical-align: middle;\n",
       "    }\n",
       "\n",
       "    .dataframe tbody tr th {\n",
       "        vertical-align: top;\n",
       "    }\n",
       "\n",
       "    .dataframe thead th {\n",
       "        text-align: right;\n",
       "    }\n",
       "</style>\n",
       "<table border=\"1\" class=\"dataframe\">\n",
       "  <thead>\n",
       "    <tr style=\"text-align: right;\">\n",
       "      <th></th>\n",
       "      <th>File_Name</th>\n",
       "      <th>Content</th>\n",
       "    </tr>\n",
       "  </thead>\n",
       "  <tbody>\n",
       "    <tr>\n",
       "      <th>0</th>\n",
       "      <td>1.txt</td>\n",
       "      <td>Chat Conversation Start\\n\\nU1: Good girls are ...</td>\n",
       "    </tr>\n",
       "    <tr>\n",
       "      <th>1</th>\n",
       "      <td>11.txt</td>\n",
       "      <td>\\nChat Conversation Start\\n\\nU1: Hi, How are y...</td>\n",
       "    </tr>\n",
       "    <tr>\n",
       "      <th>2</th>\n",
       "      <td>12.txt</td>\n",
       "      <td>\\nChat Conversation Start\\n\\n\\nU1: Hello How a...</td>\n",
       "    </tr>\n",
       "    <tr>\n",
       "      <th>3</th>\n",
       "      <td>13.txt</td>\n",
       "      <td>\\n\\n\\n\\nChat Conversation Start\\n\\nU1:  I want...</td>\n",
       "    </tr>\n",
       "    <tr>\n",
       "      <th>4</th>\n",
       "      <td>14.txt</td>\n",
       "      <td>\\n\\n\\nChat Conversation Start\\n\\n \\nU1: Hi, I ...</td>\n",
       "    </tr>\n",
       "    <tr>\n",
       "      <th>5</th>\n",
       "      <td>15.txt</td>\n",
       "      <td>\\n\\n\\nChat Conversation Start\\n\\nU1: Hi, I che...</td>\n",
       "    </tr>\n",
       "    <tr>\n",
       "      <th>6</th>\n",
       "      <td>16.txt</td>\n",
       "      <td>\\n\\n\\n\\nChat Conversation Start\\n\\n\\nU1: hello...</td>\n",
       "    </tr>\n",
       "    <tr>\n",
       "      <th>7</th>\n",
       "      <td>2.txt</td>\n",
       "      <td>\\n\\n\\nChat Conversation Start\\n\\n\\nU1: hi how ...</td>\n",
       "    </tr>\n",
       "    <tr>\n",
       "      <th>8</th>\n",
       "      <td>21.txt</td>\n",
       "      <td>\\n\\n\\nChat Conversation Start\\n\\nU1: hi how ar...</td>\n",
       "    </tr>\n",
       "    <tr>\n",
       "      <th>9</th>\n",
       "      <td>22.txt</td>\n",
       "      <td>\\n\\n\\nChat Conversation Start\\n\\n\\nU1: I want ...</td>\n",
       "    </tr>\n",
       "  </tbody>\n",
       "</table>\n",
       "</div>"
      ],
      "text/plain": [
       "  File_Name                                            Content\n",
       "0     1.txt  Chat Conversation Start\\n\\nU1: Good girls are ...\n",
       "1    11.txt  \\nChat Conversation Start\\n\\nU1: Hi, How are y...\n",
       "2    12.txt  \\nChat Conversation Start\\n\\n\\nU1: Hello How a...\n",
       "3    13.txt  \\n\\n\\n\\nChat Conversation Start\\n\\nU1:  I want...\n",
       "4    14.txt  \\n\\n\\nChat Conversation Start\\n\\n \\nU1: Hi, I ...\n",
       "5    15.txt  \\n\\n\\nChat Conversation Start\\n\\nU1: Hi, I che...\n",
       "6    16.txt  \\n\\n\\n\\nChat Conversation Start\\n\\n\\nU1: hello...\n",
       "7     2.txt  \\n\\n\\nChat Conversation Start\\n\\n\\nU1: hi how ...\n",
       "8    21.txt  \\n\\n\\nChat Conversation Start\\n\\nU1: hi how ar...\n",
       "9    22.txt  \\n\\n\\nChat Conversation Start\\n\\n\\nU1: I want ..."
      ]
     },
     "execution_count": 5,
     "metadata": {},
     "output_type": "execute_result"
    }
   ],
   "source": [
    "df.head(10)"
   ]
  },
  {
   "cell_type": "code",
   "execution_count": 7,
   "metadata": {},
   "outputs": [],
   "source": [
    "p1 = \"Chat Conversation Start\"\n",
    "p2 = \"Chat Conversation End\"\n",
    "\n",
    "# Define a function to remove p1 and p2\n",
    "def remove_start_end(text):\n",
    "    # Remove p1 only the first time it appears\n",
    "    text = re.sub(rf'^\\s*{re.escape(p1)}\\s*', '', text)\n",
    "\n",
    "    # Remove p2 only the last time it appears\n",
    "    text = re.sub(rf'\\s*{re.escape(p2)}\\s*$', '', text)\n",
    "\n",
    "    return text\n",
    "\n",
    "# Apply the function to the \"Content\" column\n",
    "df['Content'] = df['Content'].apply(remove_start_end)"
   ]
  },
  {
   "cell_type": "code",
   "execution_count": 8,
   "metadata": {},
   "outputs": [
    {
     "data": {
      "text/html": [
       "<div>\n",
       "<style scoped>\n",
       "    .dataframe tbody tr th:only-of-type {\n",
       "        vertical-align: middle;\n",
       "    }\n",
       "\n",
       "    .dataframe tbody tr th {\n",
       "        vertical-align: top;\n",
       "    }\n",
       "\n",
       "    .dataframe thead th {\n",
       "        text-align: right;\n",
       "    }\n",
       "</style>\n",
       "<table border=\"1\" class=\"dataframe\">\n",
       "  <thead>\n",
       "    <tr style=\"text-align: right;\">\n",
       "      <th></th>\n",
       "      <th>File_Name</th>\n",
       "      <th>Content</th>\n",
       "    </tr>\n",
       "  </thead>\n",
       "  <tbody>\n",
       "    <tr>\n",
       "      <th>0</th>\n",
       "      <td>1.txt</td>\n",
       "      <td>U1: Good girls are in bed now haha omg I miss ...</td>\n",
       "    </tr>\n",
       "    <tr>\n",
       "      <th>1</th>\n",
       "      <td>11.txt</td>\n",
       "      <td>U1: Hi, How are you?\\n\\nU2: Great Thanks! Kind...</td>\n",
       "    </tr>\n",
       "    <tr>\n",
       "      <th>2</th>\n",
       "      <td>12.txt</td>\n",
       "      <td>U1: Hello How are you  \\n\\n\\nU2: Hello hello m...</td>\n",
       "    </tr>\n",
       "    <tr>\n",
       "      <th>3</th>\n",
       "      <td>13.txt</td>\n",
       "      <td>U1:  I want to ask you about your study, It ha...</td>\n",
       "    </tr>\n",
       "    <tr>\n",
       "      <th>4</th>\n",
       "      <td>14.txt</td>\n",
       "      <td>U1: Hi, I checked our courses and ask our frie...</td>\n",
       "    </tr>\n",
       "    <tr>\n",
       "      <th>5</th>\n",
       "      <td>15.txt</td>\n",
       "      <td>U1: Hi, I checked our program page we need to ...</td>\n",
       "    </tr>\n",
       "    <tr>\n",
       "      <th>6</th>\n",
       "      <td>16.txt</td>\n",
       "      <td>U1: hello hello I am so excited to start my ne...</td>\n",
       "    </tr>\n",
       "    <tr>\n",
       "      <th>7</th>\n",
       "      <td>2.txt</td>\n",
       "      <td>U1: hi how are you, long time we did not talk ...</td>\n",
       "    </tr>\n",
       "    <tr>\n",
       "      <th>8</th>\n",
       "      <td>21.txt</td>\n",
       "      <td>U1: hi how are you, just to update you we have...</td>\n",
       "    </tr>\n",
       "    <tr>\n",
       "      <th>9</th>\n",
       "      <td>22.txt</td>\n",
       "      <td>U1: I want to book a flight to Dubai but Iâm...</td>\n",
       "    </tr>\n",
       "  </tbody>\n",
       "</table>\n",
       "</div>"
      ],
      "text/plain": [
       "  File_Name                                            Content\n",
       "0     1.txt  U1: Good girls are in bed now haha omg I miss ...\n",
       "1    11.txt  U1: Hi, How are you?\\n\\nU2: Great Thanks! Kind...\n",
       "2    12.txt  U1: Hello How are you  \\n\\n\\nU2: Hello hello m...\n",
       "3    13.txt  U1:  I want to ask you about your study, It ha...\n",
       "4    14.txt  U1: Hi, I checked our courses and ask our frie...\n",
       "5    15.txt  U1: Hi, I checked our program page we need to ...\n",
       "6    16.txt  U1: hello hello I am so excited to start my ne...\n",
       "7     2.txt  U1: hi how are you, long time we did not talk ...\n",
       "8    21.txt  U1: hi how are you, just to update you we have...\n",
       "9    22.txt  U1: I want to book a flight to Dubai but Iâm..."
      ]
     },
     "execution_count": 8,
     "metadata": {},
     "output_type": "execute_result"
    }
   ],
   "source": [
    "df.head(10)"
   ]
  },
  {
   "cell_type": "code",
   "execution_count": 10,
   "metadata": {},
   "outputs": [],
   "source": [
    "#pd.set_option('display.max_colwidth', None)\n",
    "#df"
   ]
  },
  {
   "cell_type": "code",
   "execution_count": 11,
   "metadata": {},
   "outputs": [
    {
     "data": {
      "text/plain": [
       "11331    From: psyrobtw@ubvmsd.cc.buffalo.edu (Robert W...\n",
       "11332    From: sandvik@newton.apple.com (Kent Sandvik)\\...\n",
       "11333    From: sandvik@newton.apple.com (Kent Sandvik)\\...\n",
       "11334    From: cutter@gloster.via.mind.org (cutter)\\nSu...\n",
       "11335    Subject: Re: Albert Sabin\\nFrom: rfox@charlie....\n",
       "Name: Content, dtype: object"
      ]
     },
     "execution_count": 11,
     "metadata": {},
     "output_type": "execute_result"
    }
   ],
   "source": [
    "content_column.tail(5)"
   ]
  },
  {
   "cell_type": "code",
   "execution_count": null,
   "metadata": {},
   "outputs": [],
   "source": []
  }
 ],
 "metadata": {
  "kernelspec": {
   "display_name": "Python 3",
   "language": "python",
   "name": "python3"
  },
  "language_info": {
   "codemirror_mode": {
    "name": "ipython",
    "version": 3
   },
   "file_extension": ".py",
   "mimetype": "text/x-python",
   "name": "python",
   "nbconvert_exporter": "python",
   "pygments_lexer": "ipython3",
   "version": "3.11.6"
  }
 },
 "nbformat": 4,
 "nbformat_minor": 2
}
