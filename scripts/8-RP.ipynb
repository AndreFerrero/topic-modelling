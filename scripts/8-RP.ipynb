{
 "cells": [
  {
   "cell_type": "code",
   "execution_count": 1,
   "metadata": {},
   "outputs": [],
   "source": [
    "%%capture\n",
    "%run 3-tfidf-gensim.ipynb"
   ]
  },
  {
   "cell_type": "code",
   "execution_count": 2,
   "metadata": {},
   "outputs": [],
   "source": [
    "import numpy as np\n",
    "from sklearn.random_projection import GaussianRandomProjection\n",
    "from sklearn.random_projection import SparseRandomProjection\n",
    "from sklearn.decomposition import LatentDirichletAllocation"
   ]
  },
  {
   "cell_type": "code",
   "execution_count": 8,
   "metadata": {},
   "outputs": [
    {
     "data": {
      "text/plain": [
       "array([[-0.3277221 ,  0.09564386,  0.16667813, -0.26837792,  0.50227053],\n",
       "       [ 0.33497244,  0.97835867, -0.2314351 ,  0.03306214,  0.08378326],\n",
       "       [-0.54853975, -0.5593949 , -0.06524209, -0.14290928, -0.64015415],\n",
       "       ...,\n",
       "       [ 0.16971495,  0.24173767,  0.39078285, -0.51357342,  0.66702925],\n",
       "       [ 0.028276  ,  0.50049385,  0.23742034, -0.99513909,  0.40594079],\n",
       "       [-0.03660623, -0.02995438, -0.11723473,  0.08709525, -0.06581091]])"
      ]
     },
     "execution_count": 8,
     "metadata": {},
     "output_type": "execute_result"
    }
   ],
   "source": [
    "n_components = 5\n",
    "\n",
    "# Fit PR model with Gaussian random matrix\n",
    "transformer_1 = GaussianRandomProjection(n_components=n_components)\n",
    "reduced_matrix_1 = transformer_1.fit_transform(tfidf_matrix)\n",
    "reduced_matrix_1\n"
   ]
  },
  {
   "cell_type": "code",
   "execution_count": 14,
   "metadata": {},
   "outputs": [
    {
     "data": {
      "text/plain": [
       "<11314x5 sparse matrix of type '<class 'numpy.float64'>'\n",
       "\twith 10981 stored elements in Compressed Sparse Row format>"
      ]
     },
     "execution_count": 14,
     "metadata": {},
     "output_type": "execute_result"
    }
   ],
   "source": [
    "n_components = 5\n",
    "\n",
    "# Fit PR model with Sparse random matrix\n",
    "transformer_2 = SparseRandomProjection(n_components=n_components)\n",
    "reduced_matrix_2 = transformer_2.fit_transform(tfidf_matrix)\n",
    "reduced_matrix_2\n"
   ]
  },
  {
   "cell_type": "code",
   "execution_count": 15,
   "metadata": {},
   "outputs": [
    {
     "data": {
      "text/plain": [
       "array([[-0.11721832, -0.28038459,  0.35091459, ...,  0.42980193,\n",
       "        -0.35349236, -0.14650054],\n",
       "       [ 0.13352423,  0.09662682, -0.27689418, ...,  0.28183568,\n",
       "         0.04312959,  0.0850614 ],\n",
       "       [-0.15516713,  0.52128405, -0.31559096, ..., -0.18092449,\n",
       "         0.40246336, -0.60445052],\n",
       "       ...,\n",
       "       [ 0.27312281, -0.01565491,  0.26367979, ...,  0.2832785 ,\n",
       "        -0.12051788,  0.56345905],\n",
       "       [ 0.44590715,  0.06674793,  0.02689497, ..., -0.47266714,\n",
       "         0.60367484, -0.09447219],\n",
       "       [ 0.1489302 ,  0.70066822, -0.06462459, ..., -0.06851603,\n",
       "         0.16429077, -0.0922599 ]])"
      ]
     },
     "execution_count": 15,
     "metadata": {},
     "output_type": "execute_result"
    }
   ],
   "source": [
    "n_components = 10\n",
    "\n",
    "# Fit PR model with Gaussian random matrix\n",
    "transformer_1 = GaussianRandomProjection(n_components=n_components)\n",
    "reduced_matrix_1 = transformer_1.fit_transform(tfidf_matrix)\n",
    "reduced_matrix_1"
   ]
  },
  {
   "cell_type": "code",
   "execution_count": 16,
   "metadata": {},
   "outputs": [
    {
     "data": {
      "text/plain": [
       "<11314x10 sparse matrix of type '<class 'numpy.float64'>'\n",
       "\twith 24327 stored elements in Compressed Sparse Row format>"
      ]
     },
     "execution_count": 16,
     "metadata": {},
     "output_type": "execute_result"
    }
   ],
   "source": [
    "n_components = 10\n",
    "\n",
    "# Fit PR model with Sparse random matrix\n",
    "transformer_2 = SparseRandomProjection(n_components=n_components)\n",
    "reduced_matrix_2 = transformer_2.fit_transform(tfidf_matrix)\n",
    "reduced_matrix_2"
   ]
  },
  {
   "cell_type": "code",
   "execution_count": 17,
   "metadata": {},
   "outputs": [
    {
     "data": {
      "text/plain": [
       "array([[ 0.15439037,  0.1678879 ,  0.04922994, ...,  0.22562539,\n",
       "        -0.0070837 ,  0.04822295],\n",
       "       [ 0.2622689 ,  0.33738713,  0.55227058, ...,  0.39844159,\n",
       "        -0.19776739,  0.18624033],\n",
       "       [ 0.21105997, -0.09921374,  0.34683105, ...,  0.14343792,\n",
       "         0.432102  ,  0.36318418],\n",
       "       ...,\n",
       "       [ 0.19984322, -0.08255726, -0.18244434, ..., -0.21908765,\n",
       "         0.23741013, -0.01992393],\n",
       "       [ 0.10620925,  0.27262179,  0.3337586 , ..., -0.20458737,\n",
       "        -0.30280183, -0.0973671 ],\n",
       "       [ 0.03840082, -0.00959337,  0.17092322, ..., -0.0976379 ,\n",
       "         0.0758032 ,  0.23590574]])"
      ]
     },
     "execution_count": 17,
     "metadata": {},
     "output_type": "execute_result"
    }
   ],
   "source": [
    "n_components = 20\n",
    "\n",
    "# Fit PR model with Gaussian random matrix\n",
    "transformer_1 = GaussianRandomProjection(n_components=n_components)\n",
    "reduced_matrix_1 = transformer_1.fit_transform(tfidf_matrix)\n",
    "reduced_matrix_1"
   ]
  },
  {
   "cell_type": "code",
   "execution_count": 18,
   "metadata": {},
   "outputs": [
    {
     "data": {
      "text/plain": [
       "<11314x20 sparse matrix of type '<class 'numpy.float64'>'\n",
       "\twith 54203 stored elements in Compressed Sparse Row format>"
      ]
     },
     "execution_count": 18,
     "metadata": {},
     "output_type": "execute_result"
    }
   ],
   "source": [
    "n_components = 20\n",
    "\n",
    "# Fit PR model with Sparse random matrix\n",
    "transformer_2 = SparseRandomProjection(n_components=n_components)\n",
    "reduced_matrix_2 = transformer_2.fit_transform(tfidf_matrix)\n",
    "reduced_matrix_2"
   ]
  },
  {
   "cell_type": "code",
   "execution_count": 19,
   "metadata": {},
   "outputs": [
    {
     "data": {
      "text/plain": [
       "array([[ 0.00796847,  0.18790972,  0.25645363, ..., -0.14973328,\n",
       "         0.17242118, -0.11751937],\n",
       "       [ 0.01407514, -0.03975198,  0.39528009, ...,  0.03560646,\n",
       "        -0.17603183, -0.11734091],\n",
       "       [ 0.05981992,  0.02477517, -0.17513027, ...,  0.27429788,\n",
       "         0.08511094,  0.16617508],\n",
       "       ...,\n",
       "       [ 0.08341606, -0.05172528,  0.07464586, ..., -0.03302201,\n",
       "         0.01791139,  0.10847972],\n",
       "       [-0.09222473,  0.04327511,  0.09437561, ...,  0.03860644,\n",
       "        -0.05938112, -0.04806435],\n",
       "       [-0.01238946, -0.05507442,  0.05959161, ...,  0.08554035,\n",
       "         0.13470541, -0.14416398]])"
      ]
     },
     "execution_count": 19,
     "metadata": {},
     "output_type": "execute_result"
    }
   ],
   "source": [
    "n_components = 50\n",
    "\n",
    "# Fit PR model with Gaussian random matrix\n",
    "transformer_1 = GaussianRandomProjection(n_components=n_components)\n",
    "reduced_matrix_1 = transformer_1.fit_transform(tfidf_matrix)\n",
    "reduced_matrix_1"
   ]
  },
  {
   "cell_type": "code",
   "execution_count": 20,
   "metadata": {},
   "outputs": [
    {
     "data": {
      "text/plain": [
       "<11314x50 sparse matrix of type '<class 'numpy.float64'>'\n",
       "\twith 134001 stored elements in Compressed Sparse Row format>"
      ]
     },
     "execution_count": 20,
     "metadata": {},
     "output_type": "execute_result"
    }
   ],
   "source": [
    "n_components = 50\n",
    "\n",
    "# Fit PR model with Sparse random matrix\n",
    "transformer_2 = SparseRandomProjection(n_components=n_components)\n",
    "reduced_matrix_2 = transformer_2.fit_transform(tfidf_matrix)\n",
    "reduced_matrix_2"
   ]
  },
  {
   "cell_type": "code",
   "execution_count": null,
   "metadata": {},
   "outputs": [],
   "source": []
  }
 ],
 "metadata": {
  "kernelspec": {
   "display_name": "Python 3",
   "language": "python",
   "name": "python3"
  },
  "language_info": {
   "codemirror_mode": {
    "name": "ipython",
    "version": 3
   },
   "file_extension": ".py",
   "mimetype": "text/x-python",
   "name": "python",
   "nbconvert_exporter": "python",
   "pygments_lexer": "ipython3",
   "version": "3.11.7"
  }
 },
 "nbformat": 4,
 "nbformat_minor": 2
}
