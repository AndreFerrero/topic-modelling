{
 "cells": [
  {
   "cell_type": "code",
   "execution_count": 21,
   "metadata": {},
   "outputs": [],
   "source": [
    "%%capture\n",
    "# run this cell if this package is not installed\n",
    "!pip install nbformat\n",
    "import string"
   ]
  },
  {
   "cell_type": "code",
   "execution_count": 18,
   "metadata": {},
   "outputs": [],
   "source": [
    "%%capture\n",
    "%run setup.ipynb"
   ]
  },
  {
   "cell_type": "code",
   "execution_count": 22,
   "metadata": {},
   "outputs": [],
   "source": [
    "def normalize_document(doc):\n",
    "    wpt = nltk.WordPunctTokenizer()\n",
    "    stop_words = set(nltk.corpus.stopwords.words('english'))\n",
    "\n",
    "    # sentences to be removed\n",
    "    p1 = \"Chat Conversation Start\"\n",
    "    p2 = \"Chat Conversation End\"\n",
    "    \n",
    "    # Remove p1 only the first time it appears\n",
    "    doc = re.sub(rf'^\\s*{re.escape(p1)}\\s*', '', doc)\n",
    "\n",
    "    # Remove p2 only the last time it appears\n",
    "    doc = re.sub(rf'\\s*{re.escape(p2)}\\s*$', '', doc)\n",
    "    \n",
    "    # remove email addresses\n",
    "    doc = re.sub(r'\\b\\S*@\\S*\\.\\S*\\b', '', doc)\n",
    "    # lowercase and remove special characters\\whitespace\n",
    "    doc = re.sub(r'[^a-zA-Z\\s]', '', str(doc), re.I | re.A)\n",
    "    doc = doc.lower()\n",
    "    doc = doc.strip()\n",
    "            \n",
    "    # tokenize document\n",
    "    tokens = wpt.tokenize(doc)\n",
    "    # filter stopwords out of document\n",
    "    filtered_tokens = [token for token in tokens if token not in stop_words]\n",
    "    #remove punctuation\n",
    "    doc = re.sub(r'[%s]' % re.escape(string.punctuation), '', doc) #remove punctuation\n",
    "    # re-create document from filtered tokens\n",
    "    doc = ' '.join(filtered_tokens)\n",
    "    \n",
    "    return doc\n"
   ]
  },
  {
   "cell_type": "code",
   "execution_count": 23,
   "metadata": {},
   "outputs": [],
   "source": [
    "df_norm = df['Content'].apply(normalize_document)"
   ]
  },
  {
   "cell_type": "code",
   "execution_count": 24,
   "metadata": {},
   "outputs": [
    {
     "data": {
      "text/plain": [
       "'u good girls bed haha omg miss lot lovely friend miss smile long time yah u yes crazy crzy friend hehe im friend house u great came home well want ask everything good heard happened cat judi im really sad hope good spent good time u everything great dont worry fine new news u im excited since im going usa monday see friend u fantastic city u new jersey lot work u long u one week ill back meet u good im happy try safe enjoy lot maybe plan travel later friends still remember traveled last time montreal really fun good time hope repeat soon spend crazy time like soon'"
      ]
     },
     "execution_count": 24,
     "metadata": {},
     "output_type": "execute_result"
    }
   ],
   "source": [
    "df_norm.iloc[0]"
   ]
  },
  {
   "cell_type": "code",
   "execution_count": 25,
   "metadata": {},
   "outputs": [],
   "source": [
    "nlp = spacy.load(\"en_core_web_sm\")"
   ]
  },
  {
   "cell_type": "code",
   "execution_count": 26,
   "metadata": {},
   "outputs": [],
   "source": [
    "def lemmatizer(text):        \n",
    "    sent = []\n",
    "    doc = nlp(text)\n",
    "    #print(doc)\n",
    "    for word in doc:\n",
    "        sent.append(word.lemma_)\n",
    "    return \" \".join(sent)"
   ]
  },
  {
   "cell_type": "code",
   "execution_count": 27,
   "metadata": {},
   "outputs": [],
   "source": [
    "df[\"question_lemmatize\"] = df['Content'].apply(lambda x: lemmatizer(x))"
   ]
  },
  {
   "cell_type": "code",
   "execution_count": 28,
   "metadata": {},
   "outputs": [
    {
     "data": {
      "text/html": [
       "<div>\n",
       "<style scoped>\n",
       "    .dataframe tbody tr th:only-of-type {\n",
       "        vertical-align: middle;\n",
       "    }\n",
       "\n",
       "    .dataframe tbody tr th {\n",
       "        vertical-align: top;\n",
       "    }\n",
       "\n",
       "    .dataframe thead th {\n",
       "        text-align: right;\n",
       "    }\n",
       "</style>\n",
       "<table border=\"1\" class=\"dataframe\">\n",
       "  <thead>\n",
       "    <tr style=\"text-align: right;\">\n",
       "      <th></th>\n",
       "      <th>File_Name</th>\n",
       "      <th>Content</th>\n",
       "      <th>question_lemmatize</th>\n",
       "    </tr>\n",
       "  </thead>\n",
       "  <tbody>\n",
       "    <tr>\n",
       "      <th>0</th>\n",
       "      <td>1.txt</td>\n",
       "      <td>Chat Conversation Start\n",
       "\n",
       "U1: Good girls are in...</td>\n",
       "      <td>chat Conversation Start \\n\\n u1 : good girl be...</td>\n",
       "    </tr>\n",
       "    <tr>\n",
       "      <th>1</th>\n",
       "      <td>11.txt</td>\n",
       "      <td>Chat Conversation Start\n",
       "\n",
       "U1: Hi, How are you?...</td>\n",
       "      <td>\\n Chat Conversation start \\n\\n u1 : hi , how ...</td>\n",
       "    </tr>\n",
       "    <tr>\n",
       "      <th>2</th>\n",
       "      <td>12.txt</td>\n",
       "      <td>Chat Conversation Start\n",
       "\n",
       "\n",
       "U1: Hello How are y...</td>\n",
       "      <td>\\n Chat Conversation Start \\n\\n\\n u1 : hello h...</td>\n",
       "    </tr>\n",
       "    <tr>\n",
       "      <th>3</th>\n",
       "      <td>13.txt</td>\n",
       "      <td>Chat Conversation Start\n",
       "\n",
       "U1:  I want to as...</td>\n",
       "      <td>\\n\\n\\n\\n chat Conversation start \\n\\n u1 :   I...</td>\n",
       "    </tr>\n",
       "    <tr>\n",
       "      <th>4</th>\n",
       "      <td>14.txt</td>\n",
       "      <td>Chat Conversation Start\n",
       "\n",
       " \n",
       "U1: Hi, I checke...</td>\n",
       "      <td>\\n\\n\\n chat Conversation Start \\n\\n \\n u1 : Hi...</td>\n",
       "    </tr>\n",
       "    <tr>\n",
       "      <th>...</th>\n",
       "      <td>...</td>\n",
       "      <td>...</td>\n",
       "      <td>...</td>\n",
       "    </tr>\n",
       "    <tr>\n",
       "      <th>11331</th>\n",
       "      <td>84444.txt</td>\n",
       "      <td>From: psyrobtw@ubvmsd.cc.buffalo.edu (Robert W...</td>\n",
       "      <td>from : psyrobtw@ubvmsd.cc.buffalo.edu ( Robert...</td>\n",
       "    </tr>\n",
       "    <tr>\n",
       "      <th>11332</th>\n",
       "      <td>84445.txt</td>\n",
       "      <td>From: sandvik@newton.apple.com (Kent Sandvik)\n",
       "...</td>\n",
       "      <td>from : sandvik@newton.apple.com ( Kent Sandvik...</td>\n",
       "    </tr>\n",
       "    <tr>\n",
       "      <th>11333</th>\n",
       "      <td>84446.txt</td>\n",
       "      <td>From: sandvik@newton.apple.com (Kent Sandvik)\n",
       "...</td>\n",
       "      <td>from : sandvik@newton.apple.com ( Kent Sandvik...</td>\n",
       "    </tr>\n",
       "    <tr>\n",
       "      <th>11334</th>\n",
       "      <td>84507.txt</td>\n",
       "      <td>From: cutter@gloster.via.mind.org (cutter)\n",
       "Sub...</td>\n",
       "      <td>from : cutter@gloster.via.mind.org ( cutter ) ...</td>\n",
       "    </tr>\n",
       "    <tr>\n",
       "      <th>11335</th>\n",
       "      <td>84558.txt</td>\n",
       "      <td>Subject: Re: Albert Sabin\n",
       "From: rfox@charlie.u...</td>\n",
       "      <td>subject : re : Albert Sabin \\n from : rfox@cha...</td>\n",
       "    </tr>\n",
       "  </tbody>\n",
       "</table>\n",
       "<p>11336 rows × 3 columns</p>\n",
       "</div>"
      ],
      "text/plain": [
       "       File_Name                                            Content  \\\n",
       "0          1.txt  Chat Conversation Start\n",
       "\n",
       "U1: Good girls are in...   \n",
       "1         11.txt  \n",
       "Chat Conversation Start\n",
       "\n",
       "U1: Hi, How are you?...   \n",
       "2         12.txt  \n",
       "Chat Conversation Start\n",
       "\n",
       "\n",
       "U1: Hello How are y...   \n",
       "3         13.txt  \n",
       "\n",
       "\n",
       "\n",
       "Chat Conversation Start\n",
       "\n",
       "U1:  I want to as...   \n",
       "4         14.txt  \n",
       "\n",
       "\n",
       "Chat Conversation Start\n",
       "\n",
       " \n",
       "U1: Hi, I checke...   \n",
       "...          ...                                                ...   \n",
       "11331  84444.txt  From: psyrobtw@ubvmsd.cc.buffalo.edu (Robert W...   \n",
       "11332  84445.txt  From: sandvik@newton.apple.com (Kent Sandvik)\n",
       "...   \n",
       "11333  84446.txt  From: sandvik@newton.apple.com (Kent Sandvik)\n",
       "...   \n",
       "11334  84507.txt  From: cutter@gloster.via.mind.org (cutter)\n",
       "Sub...   \n",
       "11335  84558.txt  Subject: Re: Albert Sabin\n",
       "From: rfox@charlie.u...   \n",
       "\n",
       "                                      question_lemmatize  \n",
       "0      chat Conversation Start \\n\\n u1 : good girl be...  \n",
       "1      \\n Chat Conversation start \\n\\n u1 : hi , how ...  \n",
       "2      \\n Chat Conversation Start \\n\\n\\n u1 : hello h...  \n",
       "3      \\n\\n\\n\\n chat Conversation start \\n\\n u1 :   I...  \n",
       "4      \\n\\n\\n chat Conversation Start \\n\\n \\n u1 : Hi...  \n",
       "...                                                  ...  \n",
       "11331  from : psyrobtw@ubvmsd.cc.buffalo.edu ( Robert...  \n",
       "11332  from : sandvik@newton.apple.com ( Kent Sandvik...  \n",
       "11333  from : sandvik@newton.apple.com ( Kent Sandvik...  \n",
       "11334  from : cutter@gloster.via.mind.org ( cutter ) ...  \n",
       "11335  subject : re : Albert Sabin \\n from : rfox@cha...  \n",
       "\n",
       "[11336 rows x 3 columns]"
      ]
     },
     "execution_count": 28,
     "metadata": {},
     "output_type": "execute_result"
    }
   ],
   "source": [
    "df"
   ]
  },
  {
   "cell_type": "code",
   "execution_count": null,
   "metadata": {},
   "outputs": [],
   "source": []
  }
 ],
 "metadata": {
  "kernelspec": {
   "display_name": "Python 3",
   "language": "python",
   "name": "python3"
  },
  "language_info": {
   "codemirror_mode": {
    "name": "ipython",
    "version": 3
   },
   "file_extension": ".py",
   "mimetype": "text/x-python",
   "name": "python",
   "nbconvert_exporter": "python",
   "pygments_lexer": "ipython3",
   "version": "3.11.6"
  }
 },
 "nbformat": 4,
 "nbformat_minor": 2
}
