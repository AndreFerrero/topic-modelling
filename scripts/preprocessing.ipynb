{
 "cells": [
  {
   "cell_type": "code",
   "execution_count": 1,
   "metadata": {},
   "outputs": [],
   "source": [
    "%%capture\n",
    "# run this cell if this package is not installed\n",
    "# !pip install nbformat"
   ]
  },
  {
   "cell_type": "code",
   "execution_count": 1,
   "metadata": {},
   "outputs": [],
   "source": [
    "%%capture\n",
    "%run setup.ipynb"
   ]
  },
  {
   "cell_type": "code",
   "execution_count": 2,
   "metadata": {},
   "outputs": [],
   "source": [
    "# Define a function to remove p1 and p2\n",
    "def remove_start_end(text):\n",
    "    \n",
    "    p1 = \"Chat Conversation Start\"\n",
    "    p2 = \"Chat Conversation End\"\n",
    "    \n",
    "    # Remove p1 only the first time it appears\n",
    "    text = re.sub(rf'^\\s*{re.escape(p1)}\\s*', '', text)\n",
    "\n",
    "    # Remove p2 only the last time it appears\n",
    "    text = re.sub(rf'\\s*{re.escape(p2)}\\s*$', '', text)\n",
    "\n",
    "    return text\n",
    "\n",
    "# Apply the function to the \"Content\" column\n",
    "df['Content'] = df['Content'].apply(remove_start_end)"
   ]
  },
  {
   "cell_type": "markdown",
   "metadata": {},
   "source": [
    "To do: fix this function as it doesn't remove the emails as it should "
   ]
  },
  {
   "cell_type": "code",
   "execution_count": 69,
   "metadata": {},
   "outputs": [],
   "source": [
    "def extract_email_addresses(text):\n",
    "    pattern = r'\\b[A-Za-z0-9._%+-]+@[A-Za-z0-9.-]+\\.[A-Za-z]{2,}\\b'\n",
    "    emails = re.findall(pattern, text)\n",
    "    return emails if emails else None\n",
    "\n",
    "def remove_emails(text, emails):\n",
    "    if emails is not None:\n",
    "        for email in emails:\n",
    "            text = re.sub(re.escape(email), '', text)\n",
    "    return text\n",
    "\n",
    "def normalize_document(doc):\n",
    "    wpt = nltk.WordPunctTokenizer()\n",
    "    stop_words = set(nltk.corpus.stopwords.words('english'))\n",
    "\n",
    "    # lowercase and remove special characters\\whitespace\n",
    "    doc = re.sub(r'[^a-zA-Z\\s]', '', str(doc), re.I | re.A)\n",
    "    doc = doc.lower()\n",
    "    doc = doc.strip()\n",
    "    \n",
    "    # extract email addresses using a more robust regex\n",
    "    emails = extract_email_addresses(doc)\n",
    "\n",
    "    # remove email addresses from the document\n",
    "    doc = remove_emails(doc, emails)\n",
    "            \n",
    "    # tokenize document\n",
    "    tokens = wpt.tokenize(doc)\n",
    "    # filter stopwords out of document\n",
    "    filtered_tokens = [token for token in tokens if token not in stop_words]\n",
    "    # re-create document from filtered tokens\n",
    "    doc = ' '.join(filtered_tokens)\n",
    "    \n",
    "    return doc\n",
    "\n",
    "# Function to apply cleaning to an entire DataFrame\n",
    "def clean_dataframe(df):\n",
    "    # Apply the cleaning function to each cell in the DataFrame\n",
    "    cleaned_df = df.applymap(lambda x: normalize_document(x))\n",
    "    return cleaned_df\n"
   ]
  },
  {
   "cell_type": "code",
   "execution_count": 70,
   "metadata": {},
   "outputs": [
    {
     "ename": "TypeError",
     "evalue": "decoding to str: need a bytes-like object, NoneType found",
     "output_type": "error",
     "traceback": [
      "\u001b[1;31m---------------------------------------------------------------------------\u001b[0m",
      "\u001b[1;31mTypeError\u001b[0m                                 Traceback (most recent call last)",
      "\u001b[1;32mc:\\Users\\andre\\OneDrive - Alma Mater Studiorum Università di Bologna\\University\\UniBo\\Machine Learning\\PR1.20\\scripts\\preprocessing.ipynb Cell 6\u001b[0m line \u001b[0;36m3\n\u001b[0;32m      <a href='vscode-notebook-cell:/c%3A/Users/andre/OneDrive%20-%20Alma%20Mater%20Studiorum%20Universit%C3%A0%20di%20Bologna/University/UniBo/Machine%20Learning/PR1.20/scripts/preprocessing.ipynb#X24sZmlsZQ%3D%3D?line=0'>1</a>\u001b[0m emails \u001b[39m=\u001b[39m df[\u001b[39m'\u001b[39m\u001b[39mContent\u001b[39m\u001b[39m'\u001b[39m]\u001b[39m.\u001b[39mapply(extract_email_addresses)\n\u001b[1;32m----> <a href='vscode-notebook-cell:/c%3A/Users/andre/OneDrive%20-%20Alma%20Mater%20Studiorum%20Universit%C3%A0%20di%20Bologna/University/UniBo/Machine%20Learning/PR1.20/scripts/preprocessing.ipynb#X24sZmlsZQ%3D%3D?line=2'>3</a>\u001b[0m remove_emails(df[\u001b[39m'\u001b[39;49m\u001b[39mContent\u001b[39;49m\u001b[39m'\u001b[39;49m], emails)\n",
      "\u001b[1;32mc:\\Users\\andre\\OneDrive - Alma Mater Studiorum Università di Bologna\\University\\UniBo\\Machine Learning\\PR1.20\\scripts\\preprocessing.ipynb Cell 6\u001b[0m line \u001b[0;36m9\n\u001b[0;32m      <a href='vscode-notebook-cell:/c%3A/Users/andre/OneDrive%20-%20Alma%20Mater%20Studiorum%20Universit%C3%A0%20di%20Bologna/University/UniBo/Machine%20Learning/PR1.20/scripts/preprocessing.ipynb#X24sZmlsZQ%3D%3D?line=6'>7</a>\u001b[0m \u001b[39mif\u001b[39;00m emails \u001b[39mis\u001b[39;00m \u001b[39mnot\u001b[39;00m \u001b[39mNone\u001b[39;00m:\n\u001b[0;32m      <a href='vscode-notebook-cell:/c%3A/Users/andre/OneDrive%20-%20Alma%20Mater%20Studiorum%20Universit%C3%A0%20di%20Bologna/University/UniBo/Machine%20Learning/PR1.20/scripts/preprocessing.ipynb#X24sZmlsZQ%3D%3D?line=7'>8</a>\u001b[0m     \u001b[39mfor\u001b[39;00m email \u001b[39min\u001b[39;00m emails:\n\u001b[1;32m----> <a href='vscode-notebook-cell:/c%3A/Users/andre/OneDrive%20-%20Alma%20Mater%20Studiorum%20Universit%C3%A0%20di%20Bologna/University/UniBo/Machine%20Learning/PR1.20/scripts/preprocessing.ipynb#X24sZmlsZQ%3D%3D?line=8'>9</a>\u001b[0m         text \u001b[39m=\u001b[39m re\u001b[39m.\u001b[39msub(re\u001b[39m.\u001b[39;49mescape(email), \u001b[39m'\u001b[39m\u001b[39m'\u001b[39m, text)\n\u001b[0;32m     <a href='vscode-notebook-cell:/c%3A/Users/andre/OneDrive%20-%20Alma%20Mater%20Studiorum%20Universit%C3%A0%20di%20Bologna/University/UniBo/Machine%20Learning/PR1.20/scripts/preprocessing.ipynb#X24sZmlsZQ%3D%3D?line=9'>10</a>\u001b[0m \u001b[39mreturn\u001b[39;00m text\n",
      "File \u001b[1;32mc:\\Users\\andre\\AppData\\Local\\Programs\\Python\\Python311\\Lib\\re\\__init__.py:260\u001b[0m, in \u001b[0;36mescape\u001b[1;34m(pattern)\u001b[0m\n\u001b[0;32m    258\u001b[0m     \u001b[39mreturn\u001b[39;00m pattern\u001b[39m.\u001b[39mtranslate(_special_chars_map)\n\u001b[0;32m    259\u001b[0m \u001b[39melse\u001b[39;00m:\n\u001b[1;32m--> 260\u001b[0m     pattern \u001b[39m=\u001b[39m \u001b[39mstr\u001b[39;49m(pattern, \u001b[39m'\u001b[39;49m\u001b[39mlatin1\u001b[39;49m\u001b[39m'\u001b[39;49m)\n\u001b[0;32m    261\u001b[0m     \u001b[39mreturn\u001b[39;00m pattern\u001b[39m.\u001b[39mtranslate(_special_chars_map)\u001b[39m.\u001b[39mencode(\u001b[39m'\u001b[39m\u001b[39mlatin1\u001b[39m\u001b[39m'\u001b[39m)\n",
      "\u001b[1;31mTypeError\u001b[0m: decoding to str: need a bytes-like object, NoneType found"
     ]
    }
   ],
   "source": [
    "emails = df['Content'].apply(extract_email_addresses)\n",
    "\n",
    "remove_emails(df['Content'], emails)"
   ]
  },
  {
   "cell_type": "code",
   "execution_count": 63,
   "metadata": {},
   "outputs": [
    {
     "data": {
      "text/html": [
       "<div>\n",
       "<style scoped>\n",
       "    .dataframe tbody tr th:only-of-type {\n",
       "        vertical-align: middle;\n",
       "    }\n",
       "\n",
       "    .dataframe tbody tr th {\n",
       "        vertical-align: top;\n",
       "    }\n",
       "\n",
       "    .dataframe thead th {\n",
       "        text-align: right;\n",
       "    }\n",
       "</style>\n",
       "<table border=\"1\" class=\"dataframe\">\n",
       "  <thead>\n",
       "    <tr style=\"text-align: right;\">\n",
       "      <th></th>\n",
       "      <th>File_Name</th>\n",
       "      <th>Content</th>\n",
       "    </tr>\n",
       "  </thead>\n",
       "  <tbody>\n",
       "    <tr>\n",
       "      <th>0</th>\n",
       "      <td>txt</td>\n",
       "      <td>u good girls bed haha omg miss lot lovely frie...</td>\n",
       "    </tr>\n",
       "    <tr>\n",
       "      <th>1</th>\n",
       "      <td>txt</td>\n",
       "      <td>u hi u great thanks kind fine think problem as...</td>\n",
       "    </tr>\n",
       "    <tr>\n",
       "      <th>2</th>\n",
       "      <td>txt</td>\n",
       "      <td>u hello u hello hello best friend finally real...</td>\n",
       "    </tr>\n",
       "    <tr>\n",
       "      <th>3</th>\n",
       "      <td>txt</td>\n",
       "      <td>u want ask study lot mathematics business engi...</td>\n",
       "    </tr>\n",
       "    <tr>\n",
       "      <th>4</th>\n",
       "      <td>txt</td>\n",
       "      <td>u hi checked courses ask friends see one took ...</td>\n",
       "    </tr>\n",
       "    <tr>\n",
       "      <th>...</th>\n",
       "      <td>...</td>\n",
       "      <td>...</td>\n",
       "    </tr>\n",
       "    <tr>\n",
       "      <th>11331</th>\n",
       "      <td>txt</td>\n",
       "      <td>psyrobtwubvmsdccbuffaloedu robert weiss subjec...</td>\n",
       "    </tr>\n",
       "    <tr>\n",
       "      <th>11332</th>\n",
       "      <td>txt</td>\n",
       "      <td>sandviknewtonapplecom kent sandvik subject apr...</td>\n",
       "    </tr>\n",
       "    <tr>\n",
       "      <th>11333</th>\n",
       "      <td>txt</td>\n",
       "      <td>sandviknewtonapplecom kent sandvik subject dis...</td>\n",
       "    </tr>\n",
       "    <tr>\n",
       "      <th>11334</th>\n",
       "      <td>txt</td>\n",
       "      <td>cutterglosterviamindorg cutter subject biblica...</td>\n",
       "    </tr>\n",
       "    <tr>\n",
       "      <th>11335</th>\n",
       "      <td>txt</td>\n",
       "      <td>subject albert sabin rfoxcharlieusdedu rich fo...</td>\n",
       "    </tr>\n",
       "  </tbody>\n",
       "</table>\n",
       "<p>11336 rows × 2 columns</p>\n",
       "</div>"
      ],
      "text/plain": [
       "      File_Name                                            Content\n",
       "0           txt  u good girls bed haha omg miss lot lovely frie...\n",
       "1           txt  u hi u great thanks kind fine think problem as...\n",
       "2           txt  u hello u hello hello best friend finally real...\n",
       "3           txt  u want ask study lot mathematics business engi...\n",
       "4           txt  u hi checked courses ask friends see one took ...\n",
       "...         ...                                                ...\n",
       "11331       txt  psyrobtwubvmsdccbuffaloedu robert weiss subjec...\n",
       "11332       txt  sandviknewtonapplecom kent sandvik subject apr...\n",
       "11333       txt  sandviknewtonapplecom kent sandvik subject dis...\n",
       "11334       txt  cutterglosterviamindorg cutter subject biblica...\n",
       "11335       txt  subject albert sabin rfoxcharlieusdedu rich fo...\n",
       "\n",
       "[11336 rows x 2 columns]"
      ]
     },
     "execution_count": 63,
     "metadata": {},
     "output_type": "execute_result"
    }
   ],
   "source": [
    "clean_dataframe(df)"
   ]
  },
  {
   "cell_type": "code",
   "execution_count": null,
   "metadata": {},
   "outputs": [],
   "source": []
  }
 ],
 "metadata": {
  "kernelspec": {
   "display_name": "Python 3",
   "language": "python",
   "name": "python3"
  },
  "language_info": {
   "codemirror_mode": {
    "name": "ipython",
    "version": 3
   },
   "file_extension": ".py",
   "mimetype": "text/x-python",
   "name": "python",
   "nbconvert_exporter": "python",
   "pygments_lexer": "ipython3",
   "version": "3.11.6"
  }
 },
 "nbformat": 4,
 "nbformat_minor": 2
}
