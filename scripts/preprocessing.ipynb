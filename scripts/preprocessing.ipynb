{
 "cells": [
  {
   "cell_type": "code",
   "execution_count": 1,
   "metadata": {},
   "outputs": [],
   "source": [
    "%%capture\n",
    "# run this cell if this package is not installed\n",
    "!pip install nbformat"
   ]
  },
  {
   "cell_type": "code",
   "execution_count": 2,
   "metadata": {},
   "outputs": [],
   "source": [
    "%%capture\n",
    "%run setup.ipynb"
   ]
  },
  {
   "cell_type": "code",
   "execution_count": 4,
   "metadata": {},
   "outputs": [],
   "source": [
    "p1 = \"Chat Conversation Start\"\n",
    "p2 = \"Chat Conversation End\"\n",
    "\n",
    "# Define a function to remove p1 and p2\n",
    "def remove_start_end(text):\n",
    "    # Remove p1 only the first time it appears\n",
    "    text = re.sub(rf'^\\s*{re.escape(p1)}\\s*', '', text)\n",
    "\n",
    "    # Remove p2 only the last time it appears\n",
    "    text = re.sub(rf'\\s*{re.escape(p2)}\\s*$', '', text)\n",
    "\n",
    "    return text\n",
    "\n",
    "# Apply the function to the \"Content\" column\n",
    "df['Content'] = df['Content'].apply(remove_start_end)"
   ]
  },
  {
   "cell_type": "code",
   "execution_count": 5,
   "metadata": {},
   "outputs": [],
   "source": [
    "wpt = nltk.WordPunctTokenizer()\n",
    "stop_words = nltk.corpus.stopwords.words('english')\n",
    "\n",
    "def normalize_document(doc):\n",
    "    # lowercase and remove special characters\\whitespace\n",
    "    doc = re.sub(r'[^a-zA-Z\\s]', '', doc, re.I|re.A)\n",
    "    doc = doc.lower()\n",
    "    doc = doc.strip()\n",
    "    # tokenize document\n",
    "    tokens = wpt.tokenize(doc)\n",
    "    # filter stopwords out of document\n",
    "    filtered_tokens = [token for token in tokens if token not in stop_words]\n",
    "    # re-create document from filtered tokens\n",
    "    doc = ' '.join(filtered_tokens)\n",
    "    return doc\n",
    "\n",
    "normalize_corpus = np.vectorize(normalize_document)"
   ]
  },
  {
   "cell_type": "code",
   "execution_count": 10,
   "metadata": {},
   "outputs": [],
   "source": [
    "df_corpus = df.drop(columns='File_Name')"
   ]
  },
  {
   "cell_type": "code",
   "execution_count": 11,
   "metadata": {},
   "outputs": [
    {
     "data": {
      "text/plain": [
       "array([['u good girls bed haha omg miss lot lovely friend miss smile long time yah u yes crazy crzy friend hehe im friend house u great came home well want ask everything good heard happened cat judi im really sad hope good spent good time u everything great dont worry fine new news u im excited since im going usa monday see friend u fantastic city u new jersey lot work u long u one week ill back meet u good im happy try safe enjoy lot maybe plan travel later friends still remember traveled last time montreal really fun good time hope repeat soon spend crazy time like soon'],\n",
       "       ['u hi u great thanks kind fine think problem assignment prof didnt replay u yes think problem well u yes try go office maybe find u find u yes talk tomorrow u ok good night u good luck way'],\n",
       "       ['u hello u hello hello best friend finally really fine family u good thanks god still ottawa finish courses semester u oh im ottawa month lot happened study recently passed courses semester anyway need go back tomorrow need discuss new semester courses choose saw many program page copy paste main courses interested register read let know opinion friend want finish program soon finish study year talk later say hi family bye bye'],\n",
       "       ...,\n",
       "       ['sandviknewtonapplecom kent sandvik subject disillusioned protestant finds christ organization cookamunga tourist bureau lines article ckxddkjboihpcom jburrillboihpcom jim burrill wrote jesus never taught concept trinity deal following mat jesus came said authority heaven earth given mat therefore go make disciples nations baptizing name father son holy spirit mat teaching obey everything commanded surely always end age jim please thats lame explanation trinity jesus provides baptizing people name three things trinity case im wrong assumed trinity implies god three entities yet cheers kent sandviknewtonapplecom alink ksand private activities net'],\n",
       "       ['cutterglosterviamindorg cutter subject biblical backing koreshs tape cites enclosed distribution world organization gordian knot glosterga lines netdsusiesbccom writes article aprutarlgutaedu bzawutarlgutaedu stephen think david koresh didnt solid structure sound biblical backing hour long tape broadcast dont think anyone really cares solid structure sermon deaths hes responsible concern people think ought hold christ accoountable followers died hand romans also fault believing god society reminds roman empire every day guess ill log go watch american gladiators cutterglosterviamindorg chris jobs easy person doesnt holts law'],\n",
       "       ['subject albert sabin rfoxcharlieusdedu rich fox univ south dakota replyto rfoxcharlieusdedu organization university south dakota computer science dept nntppostinghost charlie lines article aprnntpdcxodeccom sharpenmesisenetdeccom system privileged account writes article cftjtsunfishusdedu rfoxcharlieusdedu rich fox univ south dakota writes article aprramboatlantadgcom wpratlantadgcom bill rawlins writes earlier dialogue deleted perhaps read stop advancing bible evidence relating questions science jesus exist g wells great fallacy statement question origins based science alone nope fallacy yep science best determining religions handle rich curious others award custody baby theists religion hope didnt award custody rich purposely used handle order avoid ie happens religions course aberrations like scientific creationism used best part indicate science currently time domains mostly ignored also attempted brief doubt confused matter aside science written nobody seems argue theists theologians better equiped investigate magicians astrologers housewives sexists athiests agnostics seems answer would vary individual individual im trying evasive societal perspective religion works hand sometimes abused misused many suffer know net result seems positive anthropological perspective human affairs might call neofruedian insofar think masses cant get along without religion generally incapable dont myriad reasons main one seems promise immortality seductive immortality therefore seems theologians better equipped others mention dispensing answers suggest holds regardless truth answers simply people believe end spiritual beliefs real scientific facts explanation caution take context ). > suggest \" \" forever closed scientific > investigation ? . fact , \\' think closed , least individuals . \\' group theoretical physicists argue matter created nothing big bang singularity ? approach might presuppose absence , except seems could argued something responsible nothing ? maybe something \\' supernatural , maybe mechanistic . \\' tough one people today grasp . case , theory without empirical data explanation , question require data . words , agree theorizing ( within scientific parameters ) scientific explaining . answer , closed scientists , sense science realms currently inadequate . data necessary improvement , seems long way , ever . pretty convoluted ; hope \\' made sense . > seems 200 years ago , question origin life > earth considered open scientific enquiry . agree generally . prefer put way - * questions * , , open inquiry . enlightenment , reason reponsible questioning theological answers , , part , . science thus born naturalists \\' curiosity , eventually carting away largely leaving behind . ignorant , selfish , intolerant , arrogant , course , still claim authority four domains . >|> rich fox , anthro , usouthdakota > like discussion around amhs , figure amh > original post :-) much obliged . funny facts tend muddle things , \\' ? well , sure plenty \" scientific \" creationist \" rebuttals \" somewhere , even created nothing . [ record , , amh = anatomically modern humans ] best regards :-), rich fox , anthro , usouthdakota']],\n",
       "      dtype='<U87831')"
      ]
     },
     "execution_count": 11,
     "metadata": {},
     "output_type": "execute_result"
    }
   ],
   "source": [
    "normalize_corpus(df_corpus)"
   ]
  },
  {
   "cell_type": "code",
   "execution_count": null,
   "metadata": {},
   "outputs": [],
   "source": []
  }
 ],
 "metadata": {
  "kernelspec": {
   "display_name": "Python 3",
   "language": "python",
   "name": "python3"
  },
  "language_info": {
   "codemirror_mode": {
    "name": "ipython",
    "version": 3
   },
   "file_extension": ".py",
   "mimetype": "text/x-python",
   "name": "python",
   "nbconvert_exporter": "python",
   "pygments_lexer": "ipython3",
   "version": "3.11.6"
  }
 },
 "nbformat": 4,
 "nbformat_minor": 2
}
