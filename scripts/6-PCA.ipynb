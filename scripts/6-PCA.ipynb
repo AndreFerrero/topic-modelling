{
 "cells": [
  {
   "cell_type": "code",
   "execution_count": 1,
   "metadata": {},
   "outputs": [],
   "source": [
    "%%capture\n",
    "%run 3-tfidf-gensim.ipynb"
   ]
  },
  {
   "cell_type": "code",
   "execution_count": 2,
   "metadata": {},
   "outputs": [],
   "source": [
    "from sklearn.decomposition import PCA"
   ]
  },
  {
   "cell_type": "code",
   "execution_count": 3,
   "metadata": {},
   "outputs": [],
   "source": [
    "n_components = 6\n",
    "# Fit an PCA model\n",
    "pca = PCA(n_components=n_components)\n"
   ]
  },
  {
   "cell_type": "code",
   "execution_count": 4,
   "metadata": {},
   "outputs": [],
   "source": [
    "from scipy import sparse\n",
    "import numpy as np\n",
    "\n",
    "# Convert sparse matrix to dense, if necessary\n",
    "tfidf_matrix_dense = tfidf_matrix.todense() if sparse.issparse(tfidf_matrix) else tfidf_matrix\n",
    "\n",
    "# Convert to numpy array\n",
    "tfidf_matrix_array = np.asarray(tfidf_matrix_dense)"
   ]
  },
  {
   "cell_type": "code",
   "execution_count": 5,
   "metadata": {},
   "outputs": [],
   "source": [
    "# Centering\n",
    "import numpy as np\n",
    "\n",
    "mean_tfidf = np.mean(tfidf_matrix_array, axis=0)  # Calculate the mean of each column\n",
    "centered_tfidf_matrix = tfidf_matrix_array - mean_tfidf"
   ]
  },
  {
   "cell_type": "code",
   "execution_count": 6,
   "metadata": {},
   "outputs": [
    {
     "data": {
      "text/plain": [
       "array([[-0.17429446,  0.03103896,  0.21486303,  0.01135467,  0.07523099,\n",
       "         0.06916486],\n",
       "       [-0.35083929,  0.09202308,  0.365166  ,  0.05351269,  0.16939092,\n",
       "         0.05251914],\n",
       "       [-0.07695142,  0.0159261 ,  0.05043736,  0.01756237,  0.03774716,\n",
       "        -0.01876586],\n",
       "       ...,\n",
       "       [-0.08662656, -0.00415903,  0.08049806, -0.00862126,  0.01751917,\n",
       "         0.03548263],\n",
       "       [-0.07376728,  0.00586906,  0.05972444,  0.02273549,  0.00895427,\n",
       "         0.02783178],\n",
       "       [-0.09354149,  0.02385921,  0.05962311, -0.00283022,  0.00909843,\n",
       "        -0.02321702]])"
      ]
     },
     "execution_count": 6,
     "metadata": {},
     "output_type": "execute_result"
    }
   ],
   "source": [
    "# Fit PCA on the centered dense matrix\n",
    "principal_components = pca.fit_transform(centered_tfidf_matrix)\n",
    "\n",
    "principal_components"
   ]
  },
  {
   "cell_type": "code",
   "execution_count": 7,
   "metadata": {},
   "outputs": [
    {
     "name": "stdout",
     "output_type": "stream",
     "text": [
      "Cumulative Explained Variance:\n",
      "[0.00591851 0.01081238 0.01528253 0.01923502 0.02286871 0.02626643]\n",
      "0.10038357384409173\n"
     ]
    }
   ],
   "source": [
    "cumulative_explained_variance = np.cumsum(pca.explained_variance_ratio_)\n",
    "print(\"Cumulative Explained Variance:\")\n",
    "print(cumulative_explained_variance)\n",
    "print(sum(cumulative_explained_variance))"
   ]
  },
  {
   "cell_type": "code",
   "execution_count": 8,
   "metadata": {},
   "outputs": [
    {
     "data": {
      "text/plain": [
       "array([[-4.70442070e-03, -4.07112026e-03, -2.11318262e-03, ...,\n",
       "        -7.52371265e-03,  2.54578293e-04,  3.69694290e-03],\n",
       "       [ 4.53173157e-06,  7.51318198e-04,  1.13724217e-03, ...,\n",
       "        -4.41231883e-03,  3.25224683e-03, -1.62350645e-03],\n",
       "       [-7.00319806e-04,  2.36814667e-03,  1.05735167e-03, ...,\n",
       "        -9.16253944e-03, -3.98758429e-05,  7.35774078e-04],\n",
       "       [ 1.35343500e-03,  1.90859396e-04,  1.89453871e-03, ...,\n",
       "         3.37592331e-03,  1.48062510e-03,  3.13532005e-04],\n",
       "       [ 4.35811933e-03,  9.19060335e-04, -3.27813910e-04, ...,\n",
       "         4.79230300e-03, -8.48216627e-03, -4.15309142e-03],\n",
       "       [ 3.94820103e-04, -1.32213044e-03, -1.33153177e-03, ...,\n",
       "        -4.94438892e-03, -1.00356766e-02,  5.41800140e-03]])"
      ]
     },
     "execution_count": 8,
     "metadata": {},
     "output_type": "execute_result"
    }
   ],
   "source": [
    "pca.components_"
   ]
  },
  {
   "cell_type": "code",
   "execution_count": 9,
   "metadata": {},
   "outputs": [
    {
     "name": "stdout",
     "output_type": "stream",
     "text": [
      "Component 1:\n",
      "card: 0.253\n",
      "drive: 0.209\n",
      "video: 0.147\n",
      "sale: 0.121\n",
      "monitor: 0.120\n",
      "color: 0.120\n",
      "file: 0.112\n",
      "mac: 0.112\n",
      "disk: 0.110\n",
      "system: 0.109\n",
      "\n",
      "Component 2:\n",
      "chip: 0.425\n",
      "key: 0.333\n",
      "clipper: 0.306\n",
      "encryption: 0.271\n",
      "government: 0.175\n",
      "system: 0.126\n",
      "escrow: 0.121\n",
      "algorithm: 0.111\n",
      "security: 0.104\n",
      "public: 0.102\n",
      "\n",
      "Component 3:\n",
      "god: 0.470\n",
      "drive: 0.134\n",
      "card: 0.130\n",
      "believe: 0.110\n",
      "faith: 0.100\n",
      "problem: 0.082\n",
      "life: 0.074\n",
      "video: 0.073\n",
      "truth: 0.071\n",
      "color: 0.070\n",
      "\n",
      "Component 4:\n",
      "drive: 0.522\n",
      "ide: 0.195\n",
      "car: 0.175\n",
      "hard: 0.171\n",
      "controller: 0.141\n",
      "disk: 0.137\n",
      "sale: 0.129\n",
      "floppy: 0.105\n",
      "chip: 0.097\n",
      "buy: 0.088\n",
      "\n",
      "Component 5:\n",
      "card: 0.337\n",
      "game: 0.250\n",
      "team: 0.238\n",
      "god: 0.236\n",
      "win: 0.189\n",
      "video: 0.185\n",
      "hockey: 0.138\n",
      "chip: 0.137\n",
      "play: 0.118\n",
      "color: 0.118\n",
      "\n",
      "Component 6:\n",
      "card: 0.353\n",
      "sale: 0.340\n",
      "video: 0.179\n",
      "god: 0.177\n",
      "chip: 0.133\n",
      "distribution: 0.108\n",
      "monitor: 0.107\n",
      "sell: 0.104\n",
      "offer: 0.103\n",
      "price: 0.089\n",
      "\n"
     ]
    }
   ],
   "source": [
    "import numpy as np\n",
    "\n",
    "loadings = pca.components_\n",
    "\n",
    "for i, component in enumerate(loadings):\n",
    "    component_words = [(tfidf_feature_names[j], component[j]) for j in component.argsort()[::-1][:10]]\n",
    "    print(f\"Component {i+1}:\")\n",
    "    for word, loading in component_words:\n",
    "        print(f\"{word}: {loading:.3f}\")\n",
    "    print()"
   ]
  },
  {
   "cell_type": "code",
   "execution_count": 11,
   "metadata": {},
   "outputs": [],
   "source": [
    "#topics = [\"computer\", \"recreation\", \"science\", \"miscellaneous\", \"politics\", \"religion\"]"
   ]
  }
 ],
 "metadata": {
  "kernelspec": {
   "display_name": "Python 3",
   "language": "python",
   "name": "python3"
  },
  "language_info": {
   "codemirror_mode": {
    "name": "ipython",
    "version": 3
   },
   "file_extension": ".py",
   "mimetype": "text/x-python",
   "name": "python",
   "nbconvert_exporter": "python",
   "pygments_lexer": "ipython3",
   "version": "3.11.6"
  }
 },
 "nbformat": 4,
 "nbformat_minor": 2
}
