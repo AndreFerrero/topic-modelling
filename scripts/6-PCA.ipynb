{
 "cells": [
  {
   "cell_type": "code",
   "execution_count": 1,
   "metadata": {},
   "outputs": [],
   "source": [
    "%%capture\n",
    "%run 3-tfidf-gensim.ipynb"
   ]
  },
  {
   "cell_type": "code",
   "execution_count": 2,
   "metadata": {},
   "outputs": [],
   "source": [
    "from sklearn.decomposition import PCA"
   ]
  },
  {
   "cell_type": "code",
   "execution_count": 3,
   "metadata": {},
   "outputs": [],
   "source": [
    "n_components = 3\n",
    "# Fit an PCA model\n",
    "pca = PCA(n_components=n_components)\n"
   ]
  },
  {
   "cell_type": "code",
   "execution_count": 4,
   "metadata": {},
   "outputs": [],
   "source": [
    "from scipy import sparse\n",
    "import numpy as np\n",
    "\n",
    "# Convert sparse matrix to dense, if necessary\n",
    "tfidf_matrix_dense = tfidf_matrix.todense() if sparse.issparse(tfidf_matrix) else tfidf_matrix\n",
    "\n",
    "# Convert to numpy array\n",
    "tfidf_matrix_array = np.asarray(tfidf_matrix_dense)"
   ]
  },
  {
   "cell_type": "code",
   "execution_count": 6,
   "metadata": {},
   "outputs": [],
   "source": [
    "# Centring\n",
    "import numpy as np\n",
    "\n",
    "mean_tfidf = np.mean(tfidf_matrix_array, axis=0)  # Calculate the mean of each column\n",
    "centered_tfidf_matrix = tfidf_matrix_array - mean_tfidf"
   ]
  },
  {
   "cell_type": "code",
   "execution_count": 8,
   "metadata": {},
   "outputs": [
    {
     "data": {
      "text/plain": [
       "array([[-0.15579255, -0.00082043, -0.17751112],\n",
       "       [-0.28942205,  0.01980825, -0.31891545],\n",
       "       [-0.06696449,  0.00205965, -0.05543751],\n",
       "       ...,\n",
       "       [-0.07418055, -0.01852746, -0.06934214],\n",
       "       [-0.08081243,  0.00225469, -0.07083919],\n",
       "       [-0.11759675,  0.03240741, -0.09892066]])"
      ]
     },
     "execution_count": 8,
     "metadata": {},
     "output_type": "execute_result"
    }
   ],
   "source": [
    "# Fit PCA on the centered dense matrix\n",
    "principal_components = pca.fit_transform(centered_tfidf_matrix)\n",
    "\n",
    "principal_components"
   ]
  },
  {
   "cell_type": "code",
   "execution_count": 9,
   "metadata": {},
   "outputs": [
    {
     "name": "stdout",
     "output_type": "stream",
     "text": [
      "Cumulative Explained Variance:\n",
      "[0.00675987 0.01223454 0.01690129]\n"
     ]
    }
   ],
   "source": [
    "cumulative_explained_variance = np.cumsum(pca.explained_variance_ratio_)\n",
    "print(\"Cumulative Explained Variance:\")\n",
    "print(cumulative_explained_variance)"
   ]
  },
  {
   "cell_type": "code",
   "execution_count": 11,
   "metadata": {},
   "outputs": [
    {
     "data": {
      "text/plain": [
       "3"
      ]
     },
     "execution_count": 11,
     "metadata": {},
     "output_type": "execute_result"
    }
   ],
   "source": [
    "len(pca.components_)"
   ]
  },
  {
   "cell_type": "code",
   "execution_count": 10,
   "metadata": {},
   "outputs": [
    {
     "name": "stdout",
     "output_type": "stream",
     "text": [
      "Component 1:\n",
      "card: 0.255\n",
      "drive: 0.247\n",
      "thanks: 0.219\n",
      "color: 0.135\n",
      "monitor: 0.125\n",
      "file: 0.121\n",
      "sale: 0.120\n",
      "video: 0.117\n",
      "university: 0.114\n",
      "anyone: 0.113\n",
      "\n",
      "Component 2:\n",
      "chip: 0.539\n",
      "encryption: 0.297\n",
      "clipper: 0.263\n",
      "key: 0.225\n",
      "government: 0.202\n",
      "system: 0.193\n",
      "algorithm: 0.118\n",
      "escrow: 0.114\n",
      "people: 0.112\n",
      "security: 0.110\n",
      "\n",
      "Component 3:\n",
      "team: 0.283\n",
      "chip: 0.279\n",
      "game: 0.269\n",
      "encryption: 0.138\n",
      "clipper: 0.136\n",
      "year: 0.132\n",
      "season: 0.131\n",
      "hockey: 0.111\n",
      "baseball: 0.103\n",
      "key: 0.103\n",
      "\n"
     ]
    }
   ],
   "source": [
    "import numpy as np\n",
    "\n",
    "loadings = pca.components_\n",
    "\n",
    "for i, component in enumerate(loadings):\n",
    "    component_words = [(tfidf_feature_names[j], component[j]) for j in component.argsort()[::-1][:10]]\n",
    "    print(f\"Component {i+1}:\")\n",
    "    for word, loading in component_words:\n",
    "        print(f\"{word}: {loading:.3f}\")\n",
    "    print()"
   ]
  },
  {
   "cell_type": "code",
   "execution_count": 11,
   "metadata": {},
   "outputs": [],
   "source": [
    "#topics = [\"computer\", \"recreation\", \"science\", \"miscellaneous\", \"politics\", \"religion\"]"
   ]
  }
 ],
 "metadata": {
  "kernelspec": {
   "display_name": "Python 3",
   "language": "python",
   "name": "python3"
  },
  "language_info": {
   "codemirror_mode": {
    "name": "ipython",
    "version": 3
   },
   "file_extension": ".py",
   "mimetype": "text/x-python",
   "name": "python",
   "nbconvert_exporter": "python",
   "pygments_lexer": "ipython3",
   "version": "3.11.7"
  }
 },
 "nbformat": 4,
 "nbformat_minor": 2
}
