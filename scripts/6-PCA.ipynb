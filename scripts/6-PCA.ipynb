{
 "cells": [
  {
   "cell_type": "code",
   "execution_count": 1,
   "metadata": {},
   "outputs": [],
   "source": [
    "%%capture\n",
    "%run 3-tfidf-gensim.ipynb"
   ]
  },
  {
   "cell_type": "code",
   "execution_count": 2,
   "metadata": {},
   "outputs": [],
   "source": [
    "from sklearn.decomposition import PCA"
   ]
  },
  {
   "cell_type": "code",
   "execution_count": 30,
   "metadata": {},
   "outputs": [],
   "source": [
    "n_components = 5\n",
    "# Fit an PCA model\n",
    "pca = PCA(n_components=n_components)\n"
   ]
  },
  {
   "cell_type": "code",
   "execution_count": 31,
   "metadata": {},
   "outputs": [],
   "source": [
    "from scipy import sparse\n",
    "\n",
    "if sparse.issparse(tfidf_matrix):\n",
    "    tfidf_matrix_dense = tfidf_matrix.todense()\n",
    "    tfidf_matrix_array = np.asarray(tfidf_matrix_dense)\n",
    "else:\n",
    "    tfidf_matrix_dense = tfidf_matrix\n",
    "    tfidf_matrix_array = np.asarray(tfidf_matrix)\n"
   ]
  },
  {
   "cell_type": "code",
   "execution_count": 21,
   "metadata": {},
   "outputs": [
    {
     "data": {
      "text/plain": [
       "<11314x10242 sparse matrix of type '<class 'numpy.float64'>'\n",
       "\twith 343973 stored elements in Compressed Sparse Row format>"
      ]
     },
     "execution_count": 21,
     "metadata": {},
     "output_type": "execute_result"
    }
   ],
   "source": [
    "tfidf_matrix"
   ]
  },
  {
   "cell_type": "code",
   "execution_count": 32,
   "metadata": {},
   "outputs": [
    {
     "data": {
      "text/plain": [
       "array([[-0.15568327, -0.00111855, -0.17715114, -0.05680793,  0.045272  ],\n",
       "       [-0.28944816,  0.01837653, -0.31926133, -0.07171472,  0.07143235],\n",
       "       [-0.06688369,  0.00215315, -0.0553817 , -0.00948154,  0.03377463],\n",
       "       ...,\n",
       "       [-0.07420853, -0.01855151, -0.06767766, -0.02624831,  0.00730057],\n",
       "       [-0.08086139,  0.00220156, -0.0685176 ,  0.00695755,  0.00469579],\n",
       "       [-0.1179963 ,  0.03056555, -0.10162957, -0.02868533, -0.01225599]])"
      ]
     },
     "execution_count": 32,
     "metadata": {},
     "output_type": "execute_result"
    }
   ],
   "source": [
    "# Fit PCA on the dense matrix\n",
    "principal_components = pca.fit_transform(tfidf_matrix_array)\n",
    "\n",
    "principal_components"
   ]
  },
  {
   "cell_type": "code",
   "execution_count": 33,
   "metadata": {},
   "outputs": [
    {
     "name": "stdout",
     "output_type": "stream",
     "text": [
      "Component 1:\n",
      "card: 0.256\n",
      "drive: 0.248\n",
      "thanks: 0.219\n",
      "color: 0.135\n",
      "monitor: 0.125\n",
      "file: 0.121\n",
      "sale: 0.119\n",
      "video: 0.117\n",
      "university: 0.115\n",
      "anyone: 0.114\n",
      "\n",
      "Component 2:\n",
      "chip: 0.539\n",
      "encryption: 0.297\n",
      "clipper: 0.263\n",
      "key: 0.225\n",
      "government: 0.203\n",
      "system: 0.192\n",
      "algorithm: 0.118\n",
      "escrow: 0.114\n",
      "people: 0.113\n",
      "security: 0.110\n",
      "\n",
      "Component 3:\n",
      "team: 0.281\n",
      "chip: 0.271\n",
      "game: 0.265\n",
      "encryption: 0.139\n",
      "clipper: 0.136\n",
      "season: 0.129\n",
      "year: 0.128\n",
      "hockey: 0.110\n",
      "key: 0.105\n",
      "baseball: 0.103\n",
      "\n",
      "Component 4:\n",
      "drive: 0.626\n",
      "disk: 0.173\n",
      "game: 0.167\n",
      "team: 0.160\n",
      "controller: 0.144\n",
      "sale: 0.140\n",
      "year: 0.106\n",
      "ide: 0.096\n",
      "system: 0.086\n",
      "season: 0.080\n",
      "\n",
      "Component 5:\n",
      "card: 0.626\n",
      "video: 0.242\n",
      "color: 0.192\n",
      "game: 0.171\n",
      "monitor: 0.154\n",
      "team: 0.152\n",
      "driver: 0.131\n",
      "diamond: 0.109\n",
      "graphic: 0.100\n",
      "chip: 0.094\n",
      "\n"
     ]
    }
   ],
   "source": [
    "import numpy as np\n",
    "\n",
    "loadings = pca.components_\n",
    "\n",
    "for i, component in enumerate(loadings):\n",
    "    component_words = [(tfidf_feature_names[j], component[j]) for j in component.argsort()[::-1][:10]]\n",
    "    print(f\"Component {i+1}:\")\n",
    "    for word, loading in component_words:\n",
    "        print(f\"{word}: {loading:.3f}\")\n",
    "    print()"
   ]
  },
  {
   "cell_type": "code",
   "execution_count": null,
   "metadata": {},
   "outputs": [],
   "source": [
    "#topics = [\"computer\", \"recreation\", \"science\", \"miscellaneous\", \"politics\", \"religion\"]"
   ]
  }
 ],
 "metadata": {
  "kernelspec": {
   "display_name": "Python 3",
   "language": "python",
   "name": "python3"
  },
  "language_info": {
   "codemirror_mode": {
    "name": "ipython",
    "version": 3
   },
   "file_extension": ".py",
   "mimetype": "text/x-python",
   "name": "python",
   "nbconvert_exporter": "python",
   "pygments_lexer": "ipython3",
   "version": "3.11.7"
  }
 },
 "nbformat": 4,
 "nbformat_minor": 2
}
