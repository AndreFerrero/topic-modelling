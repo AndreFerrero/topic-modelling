{
 "cells": [
  {
   "cell_type": "code",
   "execution_count": 11,
   "metadata": {},
   "outputs": [],
   "source": [
    "from gensim import matutils\n",
    "from gensim.models import LsiModel\n",
    "from sklearn.datasets import load_files"
   ]
  },
  {
   "cell_type": "code",
   "execution_count": 12,
   "metadata": {},
   "outputs": [],
   "source": [
    "%%capture\n",
    "%run 3-tfidf-gensim.ipynb"
   ]
  },
  {
   "cell_type": "code",
   "execution_count": 13,
   "metadata": {},
   "outputs": [],
   "source": [
    "# Fit an LSA model\n",
    "#topics = [\"computer\", \"recreation\", \"science\", \"miscellaneous\", \"politics\", \"religion\"]\n",
    "lsi_model = LsiModel(corpus, id2word=id2word, num_topics=6)"
   ]
  },
  {
   "cell_type": "markdown",
   "metadata": {},
   "source": [
    "The output is the representation of the topics in the Latent Semantic Analysis (LSA) model.\n",
    "\n",
    "Each topic is represented as a combination of words along with their associated weights.\n",
    "\n",
    "The numbers you see are the coefficients indicating the strength of each word's association with the respective topic."
   ]
  },
  {
   "cell_type": "code",
   "execution_count": 14,
   "metadata": {},
   "outputs": [
    {
     "data": {
      "text/plain": [
       "[(0,\n",
       "  '0.136*\"work\" + 0.118*\"distribution\" + 0.108*\"system\" + 0.103*\"computer\" + 0.102*\"god\" + 0.101*\"drive\" + 0.100*\"world\" + 0.094*\"help\" + 0.094*\"problem\" + 0.089*\"chip\"'),\n",
       " (1,\n",
       "  '-0.317*\"god\" + 0.254*\"card\" + 0.214*\"drive\" + 0.150*\"video\" + 0.123*\"monitor\" + 0.122*\"color\" + 0.121*\"sale\" + -0.119*\"believe\" + 0.115*\"system\" + 0.114*\"file\"'),\n",
       " (2,\n",
       "  '0.414*\"chip\" + 0.331*\"key\" + 0.307*\"clipper\" + 0.274*\"encryption\" + -0.183*\"game\" + -0.169*\"team\" + 0.161*\"government\" + -0.131*\"drive\" + -0.129*\"win\" + 0.121*\"escrow\"'),\n",
       " (3,\n",
       "  '0.462*\"god\" + -0.267*\"team\" + -0.257*\"game\" + -0.177*\"win\" + -0.166*\"chip\" + -0.165*\"hockey\" + -0.148*\"year\" + -0.132*\"key\" + -0.127*\"season\" + -0.124*\"clipper\"'),\n",
       " (4,\n",
       "  '-0.484*\"drive\" + 0.291*\"window\" + 0.229*\"file\" + 0.193*\"program\" + -0.191*\"car\" + -0.174*\"ide\" + -0.167*\"sale\" + -0.149*\"hard\" + 0.139*\"graphic\" + -0.124*\"controller\"'),\n",
       " (5,\n",
       "  '-0.404*\"card\" + -0.316*\"god\" + -0.226*\"chip\" + 0.224*\"car\" + -0.213*\"game\" + -0.210*\"video\" + 0.183*\"space\" + -0.180*\"team\" + -0.137*\"win\" + -0.114*\"hockey\"')]"
      ]
     },
     "execution_count": 14,
     "metadata": {},
     "output_type": "execute_result"
    }
   ],
   "source": [
    "# Get the topics and print them\n",
    "topics = lsi_model.print_topics()\n",
    "topics"
   ]
  },
  {
   "cell_type": "code",
   "execution_count": 15,
   "metadata": {},
   "outputs": [
    {
     "name": "stdout",
     "output_type": "stream",
     "text": [
      "Topic 0: work, distribution, system, computer, god, drive, world, help, problem, chip\n",
      "Topic 1: god, card, drive, video, monitor, color, sale, believe, system, file\n",
      "Topic 2: chip, key, clipper, encryption, game, team, government, drive, win, escrow\n",
      "Topic 3: god, team, game, win, chip, hockey, year, key, season, clipper\n",
      "Topic 4: drive, window, file, program, car, ide, sale, hard, graphic, controller\n",
      "Topic 5: card, god, chip, car, game, video, space, team, win, hockey\n"
     ]
    }
   ],
   "source": [
    "topics = lsi_model.print_topics()\n",
    "\n",
    "for topic in topics:\n",
    "    topic_index, words = topic\n",
    "    word_list = [word.split(\"*\")[1].strip().strip('\"') for word in words.split(\" + \")]\n",
    "    print(f\"Topic {topic_index}: {', '.join(word_list)}\")"
   ]
  },
  {
   "cell_type": "code",
   "execution_count": 9,
   "metadata": {},
   "outputs": [],
   "source": [
    "import matplotlib.pyplot as plt\n",
    "from sklearn.decomposition import TruncatedSVD\n",
    "from sklearn.manifold import TSNE"
   ]
  },
  {
   "cell_type": "code",
   "execution_count": 10,
   "metadata": {},
   "outputs": [],
   "source": [
    "def plot_lsa_topics(topics):\n",
    "    for topic in topics:\n",
    "        topic_index, words = topic\n",
    "        word_list = [word.split(\"*\")[1].strip().strip('\"') for word in words.split(\" + \")]\n",
    "\n",
    "        # Plot bar chart for each topic\n",
    "        plt.figure(figsize=(8, 6))\n",
    "        plt.barh(range(len(word_list)), [float(word.split('*')[0]) for word in words.split(\" + \")], align='center')\n",
    "        plt.yticks(range(len(word_list)), word_list)\n",
    "        plt.xlabel('Word Contribution to Topic')\n",
    "        plt.title(f'Topic {topic_index}')\n",
    "        plt.show()"
   ]
  }
 ],
 "metadata": {
  "kernelspec": {
   "display_name": "Python 3",
   "language": "python",
   "name": "python3"
  },
  "language_info": {
   "codemirror_mode": {
    "name": "ipython",
    "version": 3
   },
   "file_extension": ".py",
   "mimetype": "text/x-python",
   "name": "python",
   "nbconvert_exporter": "python",
   "pygments_lexer": "ipython3",
   "version": "3.11.6"
  }
 },
 "nbformat": 4,
 "nbformat_minor": 2
}
