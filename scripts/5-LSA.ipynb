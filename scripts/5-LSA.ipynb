{
 "cells": [
  {
   "cell_type": "code",
   "execution_count": 31,
   "metadata": {},
   "outputs": [],
   "source": [
    "from gensim import matutils\n",
    "from gensim.models import LsiModel\n",
    "from sklearn.datasets import load_files"
   ]
  },
  {
   "cell_type": "code",
   "execution_count": 32,
   "metadata": {},
   "outputs": [],
   "source": [
    "%%capture\n",
    "%run 3-tfidf-gensim.ipynb"
   ]
  },
  {
   "cell_type": "code",
   "execution_count": 48,
   "metadata": {},
   "outputs": [
    {
     "name": "stderr",
     "output_type": "stream",
     "text": [
      "C:\\Users\\sofch\\AppData\\Local\\Packages\\PythonSoftwareFoundation.Python.3.11_qbz5n2kfra8p0\\LocalCache\\local-packages\\Python311\\site-packages\\gensim\\models\\lsimodel.py:963: DeprecationWarning: Please use `csc_matvecs` from the `scipy.sparse` namespace, the `scipy.sparse.sparsetools` namespace is deprecated.\n",
      "  sparsetools.csc_matvecs(\n",
      "C:\\Users\\sofch\\AppData\\Local\\Packages\\PythonSoftwareFoundation.Python.3.11_qbz5n2kfra8p0\\LocalCache\\local-packages\\Python311\\site-packages\\scipy\\linalg\\_special_matrices.py:154: DeprecationWarning: 'tri'/'tril/'triu' are deprecated as of SciPy 1.11.0 and will be removed in v1.13.0. Please use numpy.(tri/tril/triu) instead.\n",
      "  out = (1 - tri(m.shape[0], m.shape[1], k - 1, m.dtype.char)) * m\n",
      "C:\\Users\\sofch\\AppData\\Local\\Packages\\PythonSoftwareFoundation.Python.3.11_qbz5n2kfra8p0\\LocalCache\\local-packages\\Python311\\site-packages\\scipy\\linalg\\_special_matrices.py:154: DeprecationWarning: 'tri'/'tril/'triu' are deprecated as of SciPy 1.11.0 and will be removed in v1.13.0. Please use numpy.(tri/tril/triu) instead.\n",
      "  out = (1 - tri(m.shape[0], m.shape[1], k - 1, m.dtype.char)) * m\n",
      "C:\\Users\\sofch\\AppData\\Local\\Packages\\PythonSoftwareFoundation.Python.3.11_qbz5n2kfra8p0\\LocalCache\\local-packages\\Python311\\site-packages\\scipy\\linalg\\_special_matrices.py:154: DeprecationWarning: 'tri'/'tril/'triu' are deprecated as of SciPy 1.11.0 and will be removed in v1.13.0. Please use numpy.(tri/tril/triu) instead.\n",
      "  out = (1 - tri(m.shape[0], m.shape[1], k - 1, m.dtype.char)) * m\n"
     ]
    }
   ],
   "source": [
    "# Fit an LSA model\n",
    "#topics = [\"computer\", \"recreation\", \"science\", \"miscellaneous\", \"politics\", \"religion\"]\n",
    "lsi_model = LsiModel(corpus, id2word=id2word, num_topics=20)"
   ]
  },
  {
   "cell_type": "code",
   "execution_count": 44,
   "metadata": {},
   "outputs": [
    {
     "data": {
      "text/plain": [
       "[(0,\n",
       "  '0.238*\"university\" + 0.223*\"article\" + 0.211*\"people\" + 0.164*\"time\" + 0.143*\"distribution\" + 0.141*\"anyone\" + 0.129*\"thanks\" + 0.127*\"computer\" + 0.126*\"system\" + 0.124*\"way\"'),\n",
       " (1,\n",
       "  '-0.318*\"people\" + 0.257*\"card\" + 0.249*\"drive\" + 0.219*\"thanks\" + -0.198*\"god\" + 0.135*\"color\" + -0.125*\"article\" + 0.124*\"monitor\" + -0.124*\"government\" + 0.122*\"file\"'),\n",
       " (2,\n",
       "  '-0.552*\"chip\" + -0.301*\"encryption\" + -0.269*\"clipper\" + -0.226*\"key\" + -0.188*\"government\" + 0.180*\"university\" + 0.179*\"game\" + 0.165*\"team\" + -0.158*\"system\" + -0.122*\"algorithm\"'),\n",
       " (3,\n",
       "  '0.335*\"team\" + 0.326*\"game\" + -0.302*\"god\" + -0.289*\"drive\" + 0.226*\"chip\" + -0.205*\"people\" + 0.166*\"year\" + 0.155*\"season\" + 0.146*\"university\" + 0.135*\"hockey\"'),\n",
       " (4,\n",
       "  '-0.631*\"drive\" + 0.218*\"window\" + 0.189*\"program\" + -0.179*\"disk\" + 0.176*\"file\" + 0.154*\"thanks\" + -0.148*\"game\" + -0.144*\"controller\" + -0.144*\"sale\" + -0.144*\"team\"'),\n",
       " (5,\n",
       "  '0.646*\"card\" + -0.318*\"drive\" + 0.239*\"video\" + 0.197*\"color\" + 0.170*\"monitor\" + -0.162*\"file\" + -0.143*\"space\" + 0.138*\"driver\" + 0.116*\"game\" + -0.116*\"program\"'),\n",
       " (6,\n",
       "  '-0.312*\"sale\" + 0.293*\"window\" + -0.267*\"university\" + -0.263*\"car\" + 0.220*\"file\" + 0.215*\"team\" + 0.196*\"game\" + -0.179*\"distribution\" + -0.167*\"thanks\" + 0.157*\"program\"'),\n",
       " (7,\n",
       "  '-0.465*\"car\" + 0.434*\"god\" + 0.203*\"university\" + -0.181*\"window\" + 0.164*\"chip\" + 0.137*\"thanks\" + 0.133*\"game\" + -0.122*\"space\" + -0.121*\"gun\" + 0.106*\"anyone\"'),\n",
       " (8,\n",
       "  '0.374*\"god\" + 0.370*\"car\" + -0.287*\"computer\" + -0.254*\"science\" + 0.243*\"sale\" + 0.196*\"window\" + 0.181*\"chip\" + -0.178*\"people\" + -0.165*\"space\" + -0.134*\"government\"'),\n",
       " (9,\n",
       "  '-0.515*\"sale\" + -0.308*\"space\" + 0.290*\"car\" + 0.224*\"thanks\" + 0.220*\"anyone\" + -0.176*\"system\" + -0.170*\"subject\" + -0.168*\"offer\" + -0.148*\"monitor\" + 0.145*\"drive\"')]"
      ]
     },
     "execution_count": 44,
     "metadata": {},
     "output_type": "execute_result"
    }
   ],
   "source": [
    "# Get the topics and print them\n",
    "topics = lsi_model.print_topics()\n",
    "topics"
   ]
  },
  {
   "cell_type": "code",
   "execution_count": 55,
   "metadata": {},
   "outputs": [
    {
     "name": "stderr",
     "output_type": "stream",
     "text": [
      "C:\\Users\\sofch\\AppData\\Local\\Packages\\PythonSoftwareFoundation.Python.3.11_qbz5n2kfra8p0\\LocalCache\\local-packages\\Python311\\site-packages\\gensim\\models\\lsimodel.py:963: DeprecationWarning: Please use `csc_matvecs` from the `scipy.sparse` namespace, the `scipy.sparse.sparsetools` namespace is deprecated.\n",
      "  sparsetools.csc_matvecs(\n",
      "C:\\Users\\sofch\\AppData\\Local\\Packages\\PythonSoftwareFoundation.Python.3.11_qbz5n2kfra8p0\\LocalCache\\local-packages\\Python311\\site-packages\\scipy\\linalg\\_special_matrices.py:154: DeprecationWarning: 'tri'/'tril/'triu' are deprecated as of SciPy 1.11.0 and will be removed in v1.13.0. Please use numpy.(tri/tril/triu) instead.\n",
      "  out = (1 - tri(m.shape[0], m.shape[1], k - 1, m.dtype.char)) * m\n",
      "C:\\Users\\sofch\\AppData\\Local\\Packages\\PythonSoftwareFoundation.Python.3.11_qbz5n2kfra8p0\\LocalCache\\local-packages\\Python311\\site-packages\\scipy\\linalg\\_special_matrices.py:154: DeprecationWarning: 'tri'/'tril/'triu' are deprecated as of SciPy 1.11.0 and will be removed in v1.13.0. Please use numpy.(tri/tril/triu) instead.\n",
      "  out = (1 - tri(m.shape[0], m.shape[1], k - 1, m.dtype.char)) * m\n",
      "C:\\Users\\sofch\\AppData\\Local\\Packages\\PythonSoftwareFoundation.Python.3.11_qbz5n2kfra8p0\\LocalCache\\local-packages\\Python311\\site-packages\\scipy\\linalg\\_special_matrices.py:154: DeprecationWarning: 'tri'/'tril/'triu' are deprecated as of SciPy 1.11.0 and will be removed in v1.13.0. Please use numpy.(tri/tril/triu) instead.\n",
      "  out = (1 - tri(m.shape[0], m.shape[1], k - 1, m.dtype.char)) * m\n"
     ]
    }
   ],
   "source": [
    "\n",
    "lsi_model_1 = LsiModel(corpus, id2word=id2word, num_topics=50)"
   ]
  },
  {
   "cell_type": "code",
   "execution_count": 57,
   "metadata": {},
   "outputs": [
    {
     "data": {
      "text/plain": [
       "[(0,\n",
       "  '0.238*\"university\" + 0.223*\"article\" + 0.211*\"people\" + 0.164*\"time\" + 0.143*\"distribution\" + 0.141*\"anyone\" + 0.129*\"thanks\" + 0.127*\"computer\" + 0.126*\"system\" + 0.124*\"way\"'),\n",
       " (1,\n",
       "  '-0.320*\"people\" + 0.257*\"card\" + 0.249*\"drive\" + 0.220*\"thanks\" + -0.200*\"god\" + 0.137*\"color\" + -0.127*\"article\" + 0.125*\"monitor\" + -0.125*\"government\" + 0.122*\"file\"'),\n",
       " (2,\n",
       "  '0.550*\"chip\" + 0.304*\"encryption\" + 0.270*\"clipper\" + 0.227*\"key\" + 0.184*\"government\" + -0.179*\"university\" + -0.178*\"game\" + -0.164*\"team\" + 0.158*\"system\" + 0.122*\"algorithm\"'),\n",
       " (3,\n",
       "  '-0.334*\"team\" + -0.328*\"game\" + 0.302*\"god\" + 0.287*\"drive\" + -0.228*\"chip\" + 0.209*\"people\" + -0.169*\"year\" + -0.155*\"season\" + -0.145*\"university\" + -0.134*\"hockey\"'),\n",
       " (4,\n",
       "  '0.634*\"drive\" + -0.216*\"window\" + -0.189*\"program\" + -0.178*\"file\" + 0.174*\"disk\" + -0.160*\"thanks\" + 0.147*\"controller\" + 0.147*\"game\" + 0.144*\"team\" + 0.142*\"sale\"'),\n",
       " (5,\n",
       "  '-0.647*\"card\" + 0.313*\"drive\" + -0.249*\"video\" + -0.192*\"color\" + -0.163*\"monitor\" + 0.156*\"file\" + 0.142*\"space\" + -0.129*\"driver\" + -0.124*\"game\" + 0.111*\"program\"'),\n",
       " (6,\n",
       "  '-0.316*\"sale\" + 0.298*\"window\" + -0.260*\"university\" + -0.258*\"car\" + 0.227*\"file\" + 0.219*\"team\" + 0.188*\"game\" + -0.183*\"distribution\" + 0.165*\"program\" + -0.156*\"thanks\"'),\n",
       " (7,\n",
       "  '-0.476*\"car\" + 0.431*\"god\" + 0.202*\"university\" + -0.183*\"window\" + 0.158*\"chip\" + 0.135*\"thanks\" + 0.127*\"game\" + -0.126*\"gun\" + 0.117*\"science\" + -0.114*\"space\"'),\n",
       " (8,\n",
       "  '-0.405*\"car\" + -0.366*\"god\" + 0.290*\"computer\" + 0.269*\"science\" + 0.212*\"space\" + -0.191*\"window\" + -0.181*\"chip\" + -0.161*\"sale\" + 0.157*\"people\" + 0.141*\"government\"'),\n",
       " (9,\n",
       "  '-0.551*\"sale\" + -0.287*\"space\" + 0.229*\"thanks\" + 0.222*\"car\" + 0.209*\"anyone\" + -0.184*\"offer\" + -0.184*\"system\" + -0.166*\"subject\" + 0.148*\"drive\" + -0.141*\"distribution\"'),\n",
       " (10,\n",
       "  '0.407*\"computer\" + 0.385*\"science\" + 0.242*\"car\" + -0.232*\"people\" + -0.205*\"file\" + 0.203*\"god\" + 0.181*\"space\" + -0.173*\"government\" + -0.142*\"state\" + -0.139*\"thanks\"'),\n",
       " (11,\n",
       "  '0.486*\"space\" + -0.477*\"window\" + -0.229*\"computer\" + 0.144*\"card\" + -0.143*\"science\" + -0.142*\"university\" + 0.141*\"file\" + -0.139*\"monitor\" + -0.129*\"sale\" + 0.109*\"anyone\"'),\n",
       " (12,\n",
       "  '0.532*\"file\" + -0.309*\"space\" + -0.254*\"window\" + -0.235*\"thanks\" + 0.223*\"computer\" + 0.197*\"system\" + -0.177*\"color\" + -0.176*\"monitor\" + 0.148*\"science\" + -0.132*\"mac\"'),\n",
       " (13,\n",
       "  '0.384*\"university\" + 0.278*\"window\" + -0.242*\"color\" + -0.232*\"people\" + 0.228*\"state\" + 0.213*\"space\" + -0.205*\"graphic\" + 0.194*\"card\" + -0.180*\"monitor\" + -0.167*\"mac\"'),\n",
       " (14,\n",
       "  '-0.297*\"color\" + -0.286*\"monitor\" + -0.283*\"university\" + 0.269*\"card\" + 0.248*\"window\" + -0.241*\"system\" + 0.232*\"graphic\" + -0.221*\"apple\" + -0.208*\"file\" + -0.204*\"mac\"'),\n",
       " (15,\n",
       "  '0.637*\"system\" + -0.263*\"chip\" + 0.239*\"thanks\" + -0.201*\"file\" + -0.159*\"version\" + 0.154*\"anyone\" + 0.146*\"technology\" + -0.145*\"drive\" + -0.139*\"color\" + 0.129*\"advance\"'),\n",
       " (16,\n",
       "  '0.326*\"car\" + 0.238*\"color\" + -0.232*\"bike\" + -0.219*\"article\" + -0.210*\"memory\" + 0.181*\"drive\" + 0.164*\"god\" + -0.163*\"world\" + 0.161*\"government\" + -0.150*\"mouse\"'),\n",
       " (17,\n",
       "  '0.368*\"version\" + -0.305*\"file\" + 0.246*\"graphic\" + -0.245*\"people\" + 0.227*\"bike\" + -0.207*\"world\" + 0.204*\"tin\" + -0.195*\"distribution\" + -0.158*\"technology\" + -0.155*\"institute\"'),\n",
       " (18,\n",
       "  '-0.395*\"version\" + -0.282*\"people\" + 0.277*\"article\" + -0.252*\"mouse\" + 0.210*\"color\" + -0.204*\"tin\" + -0.177*\"program\" + 0.177*\"distribution\" + 0.172*\"world\" + 0.154*\"bike\"'),\n",
       " (19,\n",
       "  '0.400*\"technology\" + 0.347*\"institute\" + 0.301*\"version\" + -0.277*\"list\" + 0.256*\"mouse\" + 0.171*\"driver\" + 0.166*\"distribution\" + -0.157*\"time\" + 0.148*\"tin\" + 0.139*\"world\"'),\n",
       " (20,\n",
       "  '0.448*\"graphic\" + -0.375*\"bike\" + -0.213*\"file\" + 0.204*\"world\" + 0.185*\"system\" + 0.175*\"program\" + -0.170*\"technology\" + 0.168*\"distribution\" + 0.159*\"car\" + -0.157*\"institute\"'),\n",
       " (21,\n",
       "  '-0.390*\"world\" + -0.360*\"distribution\" + -0.250*\"version\" + 0.238*\"technology\" + 0.210*\"institute\" + 0.191*\"state\" + 0.165*\"memory\" + -0.163*\"system\" + 0.152*\"university\" + 0.150*\"program\"'),\n",
       " (22,\n",
       "  '0.331*\"list\" + 0.323*\"mouse\" + -0.291*\"bike\" + 0.260*\"phone\" + 0.244*\"research\" + 0.236*\"number\" + -0.184*\"game\" + 0.166*\"center\" + -0.141*\"program\" + -0.130*\"chip\"'),\n",
       " (23,\n",
       "  '0.338*\"list\" + -0.315*\"mouse\" + 0.257*\"mac\" + -0.241*\"problem\" + 0.240*\"window\" + 0.183*\"version\" + -0.183*\"help\" + 0.170*\"people\" + -0.162*\"program\" + 0.152*\"university\"'),\n",
       " (24,\n",
       "  '-0.361*\"program\" + 0.318*\"memory\" + 0.247*\"data\" + -0.240*\"mouse\" + 0.215*\"gun\" + 0.213*\"version\" + -0.183*\"list\" + -0.177*\"graphic\" + -0.165*\"anyone\" + 0.154*\"team\"'),\n",
       " (25,\n",
       "  '0.300*\"people\" + 0.231*\"research\" + -0.215*\"mac\" + -0.214*\"game\" + 0.213*\"center\" + -0.208*\"law\" + 0.202*\"system\" + -0.201*\"mouse\" + 0.195*\"team\" + 0.173*\"phone\"'),\n",
       " (26,\n",
       "  '-0.324*\"mouse\" + 0.296*\"program\" + -0.234*\"graphic\" + -0.218*\"bike\" + 0.210*\"monitor\" + -0.199*\"government\" + -0.188*\"color\" + 0.184*\"gun\" + -0.161*\"team\" + -0.159*\"driver\"'),\n",
       " (27,\n",
       "  '0.467*\"game\" + -0.288*\"team\" + 0.285*\"number\" + -0.266*\"program\" + -0.243*\"year\" + 0.211*\"phone\" + -0.201*\"monitor\" + 0.183*\"line\" + -0.139*\"time\" + -0.122*\"encryption\"'),\n",
       " (28,\n",
       "  '0.311*\"game\" + 0.266*\"research\" + 0.242*\"data\" + -0.229*\"gun\" + -0.211*\"year\" + -0.197*\"number\" + 0.183*\"list\" + 0.178*\"monitor\" + 0.162*\"center\" + 0.152*\"time\"'),\n",
       " (29,\n",
       "  '-0.482*\"color\" + 0.302*\"monitor\" + 0.236*\"file\" + 0.230*\"graphic\" + -0.227*\"list\" + -0.199*\"program\" + 0.185*\"research\" + -0.159*\"time\" + 0.158*\"center\" + 0.150*\"apple\"'),\n",
       " (30,\n",
       "  '0.364*\"list\" + 0.311*\"gun\" + -0.270*\"data\" + 0.244*\"graphic\" + 0.215*\"problem\" + 0.163*\"chip\" + -0.157*\"mark\" + 0.153*\"center\" + -0.151*\"number\" + -0.139*\"phone\"'),\n",
       " (31,\n",
       "  '-0.354*\"mac\" + -0.288*\"printer\" + 0.275*\"mouse\" + -0.245*\"program\" + 0.203*\"monitor\" + -0.173*\"god\" + -0.166*\"bike\" + 0.145*\"subject\" + 0.140*\"mark\" + -0.135*\"apple\"'),\n",
       " (32,\n",
       "  '0.547*\"time\" + -0.297*\"program\" + -0.228*\"mark\" + 0.189*\"subject\" + 0.176*\"mac\" + 0.151*\"graphic\" + -0.145*\"memory\" + -0.141*\"law\" + -0.126*\"people\" + -0.114*\"bill\"'),\n",
       " (33,\n",
       "  '0.299*\"mac\" + 0.247*\"research\" + -0.244*\"monitor\" + 0.236*\"subject\" + 0.210*\"gun\" + 0.197*\"color\" + 0.175*\"anyone\" + 0.165*\"information\" + -0.164*\"memory\" + -0.162*\"phone\"'),\n",
       " (34,\n",
       "  '-0.270*\"number\" + 0.264*\"mark\" + -0.250*\"bike\" + 0.248*\"printer\" + 0.220*\"problem\" + -0.204*\"program\" + 0.196*\"article\" + -0.192*\"mouse\" + 0.169*\"center\" + -0.158*\"phone\"'),\n",
       " (35,\n",
       "  '0.357*\"mark\" + 0.286*\"data\" + -0.283*\"anyone\" + -0.244*\"memory\" + 0.212*\"university\" + 0.201*\"printer\" + 0.184*\"gun\" + -0.155*\"state\" + 0.152*\"people\" + -0.141*\"law\"'),\n",
       " (36,\n",
       "  '-0.462*\"mark\" + 0.302*\"printer\" + -0.237*\"power\" + 0.187*\"anyone\" + 0.170*\"driver\" + -0.169*\"government\" + 0.159*\"monitor\" + 0.137*\"access\" + 0.136*\"article\" + 0.134*\"group\"'),\n",
       " (37,\n",
       "  '-0.344*\"anyone\" + 0.271*\"morality\" + 0.243*\"question\" + 0.201*\"team\" + 0.198*\"thanks\" + -0.178*\"year\" + 0.176*\"law\" + -0.174*\"state\" + 0.171*\"case\" + 0.151*\"mac\"'),\n",
       " (38,\n",
       "  '-0.302*\"subject\" + 0.194*\"thanks\" + -0.193*\"problem\" + -0.178*\"apple\" + 0.158*\"data\" + -0.155*\"mark\" + 0.153*\"power\" + 0.148*\"year\" + -0.147*\"server\" + -0.145*\"help\"'),\n",
       " (39,\n",
       "  '0.220*\"law\" + 0.218*\"access\" + 0.212*\"memory\" + 0.208*\"time\" + -0.202*\"state\" + -0.196*\"help\" + -0.193*\"subject\" + -0.192*\"power\" + 0.175*\"mark\" + 0.165*\"center\"'),\n",
       " (40,\n",
       "  '0.323*\"anyone\" + 0.298*\"mark\" + -0.252*\"group\" + -0.207*\"baseball\" + -0.183*\"article\" + -0.178*\"college\" + 0.163*\"team\" + -0.158*\"thanks\" + 0.139*\"driver\" + -0.138*\"bill\"'),\n",
       " (41,\n",
       "  '-0.300*\"bill\" + -0.284*\"power\" + 0.257*\"problem\" + 0.198*\"state\" + 0.190*\"year\" + -0.162*\"group\" + -0.152*\"day\" + -0.152*\"name\" + 0.140*\"key\" + -0.126*\"law\"'),\n",
       " (42,\n",
       "  '0.453*\"law\" + -0.220*\"bill\" + 0.197*\"day\" + 0.178*\"help\" + -0.169*\"government\" + -0.159*\"gun\" + 0.154*\"state\" + -0.144*\"anyone\" + 0.130*\"question\" + 0.119*\"year\"'),\n",
       " (43,\n",
       "  '0.321*\"power\" + 0.260*\"question\" + -0.241*\"time\" + -0.210*\"controller\" + 0.195*\"access\" + -0.180*\"bus\" + 0.161*\"group\" + 0.151*\"memory\" + -0.133*\"morality\" + -0.132*\"subject\"'),\n",
       " (44,\n",
       "  '0.285*\"power\" + -0.276*\"bill\" + 0.202*\"article\" + 0.194*\"law\" + -0.191*\"group\" + -0.185*\"state\" + -0.184*\"mark\" + 0.166*\"help\" + -0.155*\"monitor\" + 0.135*\"anyone\"'),\n",
       " (45,\n",
       "  '0.345*\"help\" + 0.339*\"access\" + -0.302*\"information\" + -0.244*\"book\" + -0.179*\"law\" + 0.179*\"state\" + -0.164*\"work\" + 0.139*\"data\" + -0.129*\"memory\" + 0.127*\"time\"'),\n",
       " (46,\n",
       "  '0.420*\"information\" + 0.226*\"access\" + 0.215*\"help\" + 0.202*\"please\" + -0.195*\"anyone\" + 0.181*\"gun\" + -0.180*\"group\" + -0.165*\"question\" + -0.140*\"bill\" + -0.135*\"printer\"'),\n",
       " (47,\n",
       "  '-0.281*\"year\" + 0.274*\"apple\" + 0.234*\"team\" + 0.224*\"state\" + 0.218*\"college\" + -0.207*\"morality\" + -0.176*\"subject\" + -0.165*\"mac\" + 0.129*\"key\" + 0.127*\"keyboard\"'),\n",
       " (48,\n",
       "  '0.229*\"college\" + -0.222*\"apple\" + 0.220*\"state\" + -0.211*\"price\" + -0.203*\"problem\" + 0.189*\"code\" + -0.180*\"data\" + -0.160*\"case\" + 0.152*\"engineering\" + 0.146*\"monitor\"'),\n",
       " (49,\n",
       "  '-0.346*\"problem\" + 0.275*\"apple\" + -0.213*\"mac\" + 0.209*\"year\" + 0.205*\"bill\" + 0.194*\"price\" + 0.178*\"morality\" + 0.169*\"printer\" + -0.133*\"phone\" + -0.129*\"name\"')]"
      ]
     },
     "execution_count": 57,
     "metadata": {},
     "output_type": "execute_result"
    }
   ],
   "source": [
    "# Get the topics and print them\n",
    "topics = lsi_model_1.print_topics(50)\n",
    "topics"
   ]
  },
  {
   "cell_type": "code",
   "execution_count": null,
   "metadata": {},
   "outputs": [],
   "source": [
    "\n",
    "#The output is the representation of the topics in the Latent Semantic Analysis (LSA) model. \n",
    "#Each topic is represented as a combination of words along with their associated weights.\n",
    "#The numbers you see are the coefficients indicating the strength of each word's association with the respective topic."
   ]
  },
  {
   "cell_type": "code",
   "execution_count": 19,
   "metadata": {},
   "outputs": [
    {
     "name": "stdout",
     "output_type": "stream",
     "text": [
      "Topic 0: university, article, people, time, distribution, anyone, thanks, computer, system, way\n",
      "Topic 1: people, card, drive, thanks, god, color, article, monitor, government, file\n",
      "Topic 2: chip, encryption, clipper, key, government, university, game, team, system, algorithm\n",
      "Topic 3: team, game, god, drive, chip, people, year, season, university, hockey\n",
      "Topic 4: drive, window, program, file, disk, thanks, game, controller, sale, team\n",
      "Topic 5: card, drive, video, color, monitor, file, driver, space, program, game\n",
      "Topic 6: sale, window, car, university, file, team, game, distribution, program, thanks\n",
      "Topic 7: car, god, university, window, chip, thanks, gun, game, space, science\n",
      "Topic 8: car, god, computer, science, space, window, chip, people, government, sale\n",
      "Topic 9: sale, space, thanks, anyone, car, system, offer, subject, advance, drive\n",
      "Topic 10: computer, science, car, people, file, god, space, government, sale, chip\n",
      "Topic 11: space, window, computer, science, university, file, card, monitor, sale, manager\n",
      "Topic 12: file, space, window, computer, thanks, color, monitor, system, science, sale\n",
      "Topic 13: university, state, people, window, graphic, space, computer, color, institute, card\n",
      "Topic 14: color, monitor, window, system, card, apple, university, file, graphic, mac\n",
      "Topic 15: system, chip, file, thanks, color, drive, anyone, technology, version, advance\n",
      "Topic 16: car, article, bike, memory, color, world, drive, mouse, god, government\n",
      "Topic 17: version, file, people, graphic, bike, world, distribution, tin, technology, institute\n",
      "Topic 18: version, article, people, mouse, color, tin, world, distribution, program, mac\n",
      "Topic 19: technology, list, version, institute, distribution, world, mouse, time, anyone, driver\n"
     ]
    }
   ],
   "source": [
    "\n",
    "topics = lsi_model.print_topics()\n",
    "\n",
    "for topic in topics:\n",
    "    topic_index, words = topic\n",
    "    word_list = [word.split(\"*\")[1].strip().strip('\"') for word in words.split(\" + \")]\n",
    "    print(f\"Topic {topic_index}: {', '.join(word_list)}\")"
   ]
  },
  {
   "cell_type": "code",
   "execution_count": 24,
   "metadata": {},
   "outputs": [],
   "source": [
    "import matplotlib.pyplot as plt\n",
    "from sklearn.decomposition import TruncatedSVD\n",
    "from sklearn.manifold import TSNE"
   ]
  },
  {
   "cell_type": "code",
   "execution_count": 28,
   "metadata": {},
   "outputs": [],
   "source": [
    "import matplotlib.pyplot as plt\n",
    "\n",
    "def plot_lsa_topics(topics):\n",
    "    for topic in topics:\n",
    "        topic_index, words = topic\n",
    "        word_list = [word.split(\"*\")[1].strip().strip('\"') for word in words.split(\" + \")]\n",
    "\n",
    "        # Plot bar chart for each topic\n",
    "        plt.figure(figsize=(8, 6))\n",
    "        plt.barh(range(len(word_list)), [float(word.split('*')[0]) for word in words.split(\" + \")], align='center')\n",
    "        plt.yticks(range(len(word_list)), word_list)\n",
    "        plt.xlabel('Word Contribution to Topic')\n",
    "        plt.title(f'Topic {topic_index}')\n",
    "        plt.show()"
   ]
  }
 ],
 "metadata": {
  "kernelspec": {
   "display_name": "Python 3",
   "language": "python",
   "name": "python3"
  },
  "language_info": {
   "codemirror_mode": {
    "name": "ipython",
    "version": 3
   },
   "file_extension": ".py",
   "mimetype": "text/x-python",
   "name": "python",
   "nbconvert_exporter": "python",
   "pygments_lexer": "ipython3",
   "version": "3.11.6"
  }
 },
 "nbformat": 4,
 "nbformat_minor": 2
}
